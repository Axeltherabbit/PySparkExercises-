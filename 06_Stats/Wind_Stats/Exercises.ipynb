{
  "cells": [
    {
      "cell_type": "markdown",
      "metadata": {
        "id": "rnAjk6B_I1cA"
      },
      "source": [
        "# Wind Statistics"
      ]
    },
    {
      "cell_type": "markdown",
      "metadata": {
        "id": "RrOfktxII1cD"
      },
      "source": [
        "### Introduction:\n",
        "\n",
        "The data have been modified to contain some missing values, identified by NaN.  \n",
        "Using pandas should make this exercise\n",
        "easier, in particular for the bonus question.\n",
        "\n",
        "You should be able to perform all of these operations without using\n",
        "a for loop or other looping construct.\n",
        "\n",
        "\n",
        "1. The data in 'wind.data' has the following format:"
      ]
    },
    {
      "cell_type": "code",
      "execution_count": null,
      "metadata": {
        "id": "OMEF7gJdI1cE",
        "outputId": "1a49a096-8757-476b-ee65-658ef12086a1"
      },
      "outputs": [
        {
          "data": {
            "text/plain": [
              "'\\nYr Mo Dy   RPT   VAL   ROS   KIL   SHA   BIR   DUB   CLA   MUL   CLO   BEL   MAL\\n61  1  1 15.04 14.96 13.17  9.29   NaN  9.87 13.67 10.25 10.83 12.58 18.50 15.04\\n61  1  2 14.71   NaN 10.83  6.50 12.62  7.67 11.50 10.04  9.79  9.67 17.54 13.83\\n61  1  3 18.50 16.88 12.33 10.13 11.17  6.17 11.25   NaN  8.50  7.67 12.75 12.71\\n'"
            ]
          },
          "execution_count": 434,
          "metadata": {},
          "output_type": "execute_result"
        }
      ],
      "source": [
        "\"\"\"\n",
        "Yr Mo Dy   RPT   VAL   ROS   KIL   SHA   BIR   DUB   CLA   MUL   CLO   BEL   MAL\n",
        "61  1  1 15.04 14.96 13.17  9.29   NaN  9.87 13.67 10.25 10.83 12.58 18.50 15.04\n",
        "61  1  2 14.71   NaN 10.83  6.50 12.62  7.67 11.50 10.04  9.79  9.67 17.54 13.83\n",
        "61  1  3 18.50 16.88 12.33 10.13 11.17  6.17 11.25   NaN  8.50  7.67 12.75 12.71\n",
        "\"\"\""
      ]
    },
    {
      "cell_type": "markdown",
      "metadata": {
        "id": "2RfJ1m5iI1cG"
      },
      "source": [
        "   The first three columns are year, month and day.  The\n",
        "\n",
        "*   List item\n",
        "*   List item\n",
        "\n",
        "\n",
        "   remaining 12 columns are average windspeeds in knots at 12\n",
        "   locations in Ireland on that day.   \n",
        "\n",
        "   More information about the dataset go [here](wind.desc)."
      ]
    },
    {
      "cell_type": "markdown",
      "metadata": {
        "collapsed": false,
        "id": "azwsKTVwI1cG"
      },
      "source": [
        "### Step 1. Import the necessary libraries"
      ]
    },
    {
      "cell_type": "code",
      "execution_count": 1,
      "metadata": {
        "id": "NXV5p0CeI1cH",
        "outputId": "7c3ee724-ffd0-4805-d919-19354af07120",
        "colab": {
          "base_uri": "https://localhost:8080/"
        }
      },
      "outputs": [
        {
          "output_type": "stream",
          "name": "stdout",
          "text": [
            "Looking in indexes: https://pypi.org/simple, https://us-python.pkg.dev/colab-wheels/public/simple/\n",
            "Collecting pyspark\n",
            "  Downloading pyspark-3.3.0.tar.gz (281.3 MB)\n",
            "\u001b[K     |████████████████████████████████| 281.3 MB 46 kB/s \n",
            "\u001b[?25hCollecting py4j==0.10.9.5\n",
            "  Downloading py4j-0.10.9.5-py2.py3-none-any.whl (199 kB)\n",
            "\u001b[K     |████████████████████████████████| 199 kB 59.8 MB/s \n",
            "\u001b[?25hBuilding wheels for collected packages: pyspark\n",
            "  Building wheel for pyspark (setup.py) ... \u001b[?25l\u001b[?25hdone\n",
            "  Created wheel for pyspark: filename=pyspark-3.3.0-py2.py3-none-any.whl size=281764026 sha256=f043e0639356a2fa7dc772ba1701529c6e27678c5bb0af3ac02bfdbe6847bfca\n",
            "  Stored in directory: /root/.cache/pip/wheels/7a/8e/1b/f73a52650d2e5f337708d9f6a1750d451a7349a867f928b885\n",
            "Successfully built pyspark\n",
            "Installing collected packages: py4j, pyspark\n",
            "Successfully installed py4j-0.10.9.5 pyspark-3.3.0\n"
          ]
        }
      ],
      "source": [
        "!pip install pyspark"
      ]
    },
    {
      "cell_type": "code",
      "source": [
        "from pyspark.sql import SparkSession, functions as f\n",
        "import pandas as pd"
      ],
      "metadata": {
        "id": "MfepbRcxJj2x"
      },
      "execution_count": 58,
      "outputs": []
    },
    {
      "cell_type": "markdown",
      "metadata": {
        "id": "VcL09w4tI1cH"
      },
      "source": [
        "### Step 2. Import the dataset from this [address](https://raw.githubusercontent.com/guipsamora/pandas_exercises/master/06_Stats/Wind_Stats/wind.data)"
      ]
    },
    {
      "cell_type": "code",
      "source": [
        "!wget \"https://raw.githubusercontent.com/guipsamora/pandas_exercises/master/06_Stats/Wind_Stats/wind.data\""
      ],
      "metadata": {
        "id": "HS4sSvtYKyuM",
        "outputId": "4bf5f4fd-27a5-4c71-e13c-2109d33485d6",
        "colab": {
          "base_uri": "https://localhost:8080/"
        }
      },
      "execution_count": 33,
      "outputs": [
        {
          "output_type": "stream",
          "name": "stdout",
          "text": [
            "--2022-09-14 13:50:25--  https://raw.githubusercontent.com/guipsamora/pandas_exercises/master/06_Stats/Wind_Stats/wind.data\n",
            "Resolving raw.githubusercontent.com (raw.githubusercontent.com)... 185.199.108.133, 185.199.109.133, 185.199.110.133, ...\n",
            "Connecting to raw.githubusercontent.com (raw.githubusercontent.com)|185.199.108.133|:443... connected.\n",
            "HTTP request sent, awaiting response... 200 OK\n",
            "Length: 532576 (520K) [text/plain]\n",
            "Saving to: ‘wind.data’\n",
            "\n",
            "\rwind.data             0%[                    ]       0  --.-KB/s               \rwind.data           100%[===================>] 520.09K  --.-KB/s    in 0.02s   \n",
            "\n",
            "2022-09-14 13:50:25 (22.3 MB/s) - ‘wind.data’ saved [532576/532576]\n",
            "\n"
          ]
        }
      ]
    },
    {
      "cell_type": "code",
      "source": [
        "\n",
        "spark = SparkSession.builder.appName(\"Exercise62\").getOrCreate()\n",
        "\n",
        "pandas_df = pd.read_csv(\"wind.data\", sep=\"\\s+\")\n",
        "\n",
        "df = spark.createDataFrame(pandas_df)\n",
        "df.printSchema()\n",
        "df.show()"
      ],
      "metadata": {
        "id": "hFYePYsyJvBk",
        "outputId": "bf9f4dce-7aa4-44ca-f494-d746114b19e7",
        "colab": {
          "base_uri": "https://localhost:8080/"
        }
      },
      "execution_count": 61,
      "outputs": [
        {
          "output_type": "stream",
          "name": "stdout",
          "text": [
            "root\n",
            " |-- Yr: long (nullable = true)\n",
            " |-- Mo: long (nullable = true)\n",
            " |-- Dy: long (nullable = true)\n",
            " |-- RPT: double (nullable = true)\n",
            " |-- VAL: double (nullable = true)\n",
            " |-- ROS: double (nullable = true)\n",
            " |-- KIL: double (nullable = true)\n",
            " |-- SHA: double (nullable = true)\n",
            " |-- BIR: double (nullable = true)\n",
            " |-- DUB: double (nullable = true)\n",
            " |-- CLA: double (nullable = true)\n",
            " |-- MUL: double (nullable = true)\n",
            " |-- CLO: double (nullable = true)\n",
            " |-- BEL: double (nullable = true)\n",
            " |-- MAL: double (nullable = true)\n",
            "\n",
            "+---+---+---+-----+-----+-----+-----+-----+-----+-----+-----+-----+-----+-----+-----+\n",
            "| Yr| Mo| Dy|  RPT|  VAL|  ROS|  KIL|  SHA|  BIR|  DUB|  CLA|  MUL|  CLO|  BEL|  MAL|\n",
            "+---+---+---+-----+-----+-----+-----+-----+-----+-----+-----+-----+-----+-----+-----+\n",
            "| 61|  1|  1|15.04|14.96|13.17| 9.29|  NaN| 9.87|13.67|10.25|10.83|12.58| 18.5|15.04|\n",
            "| 61|  1|  2|14.71|  NaN|10.83|  6.5|12.62| 7.67| 11.5|10.04| 9.79| 9.67|17.54|13.83|\n",
            "| 61|  1|  3| 18.5|16.88|12.33|10.13|11.17| 6.17|11.25|  NaN|  8.5| 7.67|12.75|12.71|\n",
            "| 61|  1|  4|10.58| 6.63|11.75| 4.58| 4.54| 2.88| 8.63| 1.79| 5.83| 5.88| 5.46|10.88|\n",
            "| 61|  1|  5|13.33|13.25|11.42| 6.17|10.71| 8.21|11.92| 6.54|10.92|10.34|12.92|11.83|\n",
            "| 61|  1|  6|13.21| 8.12| 9.96| 6.67| 5.37|  4.5|10.67| 4.42| 7.17|  7.5| 8.12|13.17|\n",
            "| 61|  1|  7| 13.5|14.29|  9.5| 4.96|12.29| 8.33| 9.17| 9.29| 7.58| 7.96|13.96|13.79|\n",
            "| 61|  1|  8|10.96| 9.75| 7.62| 5.91| 9.62| 7.29|14.29| 7.62| 9.25|10.46|16.62|16.46|\n",
            "| 61|  1|  9|12.58|10.83| 10.0| 4.75|10.37| 6.79| 8.04|10.13| 7.79| 9.08|13.04|15.37|\n",
            "| 61|  1| 10|13.37|11.12| 19.5| 8.33| 9.71| 6.54|11.42| 7.79| 8.54|  9.0| 8.58|11.83|\n",
            "| 61|  1| 11|10.58| 9.87| 8.42| 2.79| 8.71| 7.25| 7.54| 8.33| 5.71| 8.67|20.71|16.92|\n",
            "| 61|  1| 12|19.75|12.08| 18.5|10.54|10.29| 9.46|15.54| 11.5|10.37|14.58|15.59|14.09|\n",
            "| 61|  1| 13| 9.92| 3.54| 8.46| 2.96| 2.29| 0.96| 4.63| 0.58| 2.33| 3.37| 5.25| 7.04|\n",
            "| 61|  1| 14| 9.04| 5.66| 7.08| 0.67| 2.71| 1.38| 3.08| 2.58|  0.5| 2.67| 7.17| 5.17|\n",
            "| 61|  1| 15|12.04| 9.67|11.75| 2.37| 7.38| 3.13|  2.5| 6.83| 4.75| 5.63| 7.54| 6.75|\n",
            "| 61|  1| 16|16.42|11.25|15.67| 4.71|11.34| 6.92| 9.25| 8.79| 8.21| 7.33|13.04| 9.04|\n",
            "| 61|  1| 17|17.75|14.37|17.33|10.13|13.96|13.37|13.42|11.04| 8.71|11.38|15.92|16.08|\n",
            "| 61|  1| 18|19.83|12.04|20.79|18.54|  NaN|10.29|17.83|11.38|14.67|16.71| 8.79|17.96|\n",
            "| 61|  1| 19| 4.92| 3.42| 7.29| 1.04| 3.67| 3.17| 3.71| 2.79| 1.92| 2.71| 6.87| 7.83|\n",
            "| 61|  1| 20| 9.59|11.83| 7.96| 1.58| 7.92|  5.0| 3.17| 4.92| 3.13| 3.37|  6.5| 6.79|\n",
            "+---+---+---+-----+-----+-----+-----+-----+-----+-----+-----+-----+-----+-----+-----+\n",
            "only showing top 20 rows\n",
            "\n"
          ]
        }
      ]
    },
    {
      "cell_type": "markdown",
      "metadata": {
        "id": "pkKKSFAHI1cI"
      },
      "source": [
        "[link text](https://)### Step 3. Assign it to a variable called data and replace the first 3 columns by a proper datetime index."
      ]
    },
    {
      "cell_type": "code",
      "execution_count": 69,
      "metadata": {
        "id": "TAQOMXHcI1cI",
        "outputId": "5dbd1f67-6d02-49db-a024-fa7e95b54ff8",
        "colab": {
          "base_uri": "https://localhost:8080/"
        }
      },
      "outputs": [
        {
          "output_type": "stream",
          "name": "stdout",
          "text": [
            "+---+---+---+-----+-----+-----+-----+-----+-----+-----+-----+-----+-----+-----+-----+----+\n",
            "| Yr| Mo| Dy|  RPT|  VAL|  ROS|  KIL|  SHA|  BIR|  DUB|  CLA|  MUL|  CLO|  BEL|  MAL|date|\n",
            "+---+---+---+-----+-----+-----+-----+-----+-----+-----+-----+-----+-----+-----+-----+----+\n",
            "| 61|  1|  1|15.04|14.96|13.17| 9.29|  NaN| 9.87|13.67|10.25|10.83|12.58| 18.5|15.04|null|\n",
            "| 61|  1|  2|14.71|  NaN|10.83|  6.5|12.62| 7.67| 11.5|10.04| 9.79| 9.67|17.54|13.83|null|\n",
            "| 61|  1|  3| 18.5|16.88|12.33|10.13|11.17| 6.17|11.25|  NaN|  8.5| 7.67|12.75|12.71|null|\n",
            "| 61|  1|  4|10.58| 6.63|11.75| 4.58| 4.54| 2.88| 8.63| 1.79| 5.83| 5.88| 5.46|10.88|null|\n",
            "| 61|  1|  5|13.33|13.25|11.42| 6.17|10.71| 8.21|11.92| 6.54|10.92|10.34|12.92|11.83|null|\n",
            "| 61|  1|  6|13.21| 8.12| 9.96| 6.67| 5.37|  4.5|10.67| 4.42| 7.17|  7.5| 8.12|13.17|null|\n",
            "| 61|  1|  7| 13.5|14.29|  9.5| 4.96|12.29| 8.33| 9.17| 9.29| 7.58| 7.96|13.96|13.79|null|\n",
            "| 61|  1|  8|10.96| 9.75| 7.62| 5.91| 9.62| 7.29|14.29| 7.62| 9.25|10.46|16.62|16.46|null|\n",
            "| 61|  1|  9|12.58|10.83| 10.0| 4.75|10.37| 6.79| 8.04|10.13| 7.79| 9.08|13.04|15.37|null|\n",
            "| 61|  1| 10|13.37|11.12| 19.5| 8.33| 9.71| 6.54|11.42| 7.79| 8.54|  9.0| 8.58|11.83|null|\n",
            "| 61|  1| 11|10.58| 9.87| 8.42| 2.79| 8.71| 7.25| 7.54| 8.33| 5.71| 8.67|20.71|16.92|null|\n",
            "| 61|  1| 12|19.75|12.08| 18.5|10.54|10.29| 9.46|15.54| 11.5|10.37|14.58|15.59|14.09|null|\n",
            "| 61|  1| 13| 9.92| 3.54| 8.46| 2.96| 2.29| 0.96| 4.63| 0.58| 2.33| 3.37| 5.25| 7.04|null|\n",
            "| 61|  1| 14| 9.04| 5.66| 7.08| 0.67| 2.71| 1.38| 3.08| 2.58|  0.5| 2.67| 7.17| 5.17|null|\n",
            "| 61|  1| 15|12.04| 9.67|11.75| 2.37| 7.38| 3.13|  2.5| 6.83| 4.75| 5.63| 7.54| 6.75|null|\n",
            "| 61|  1| 16|16.42|11.25|15.67| 4.71|11.34| 6.92| 9.25| 8.79| 8.21| 7.33|13.04| 9.04|null|\n",
            "| 61|  1| 17|17.75|14.37|17.33|10.13|13.96|13.37|13.42|11.04| 8.71|11.38|15.92|16.08|null|\n",
            "| 61|  1| 18|19.83|12.04|20.79|18.54|  NaN|10.29|17.83|11.38|14.67|16.71| 8.79|17.96|null|\n",
            "| 61|  1| 19| 4.92| 3.42| 7.29| 1.04| 3.67| 3.17| 3.71| 2.79| 1.92| 2.71| 6.87| 7.83|null|\n",
            "| 61|  1| 20| 9.59|11.83| 7.96| 1.58| 7.92|  5.0| 3.17| 4.92| 3.13| 3.37|  6.5| 6.79|null|\n",
            "+---+---+---+-----+-----+-----+-----+-----+-----+-----+-----+-----+-----+-----+-----+----+\n",
            "only showing top 20 rows\n",
            "\n"
          ]
        }
      ],
      "source": []
    },
    {
      "cell_type": "markdown",
      "metadata": {
        "id": "-5z1waplI1cI"
      },
      "source": [
        "### Step 4. Year 2061? Do we really have data from this year? Create a function to fix it and apply it."
      ]
    },
    {
      "cell_type": "code",
      "execution_count": null,
      "metadata": {
        "id": "Cn-3zr_MI1cJ"
      },
      "outputs": [],
      "source": []
    },
    {
      "cell_type": "markdown",
      "metadata": {
        "id": "VOO5T9cOI1cJ"
      },
      "source": [
        "### Step 5. Set the right dates as the index. Pay attention at the data type, it should be datetime64[ns]."
      ]
    },
    {
      "cell_type": "code",
      "execution_count": null,
      "metadata": {
        "id": "wQJCYNP3I1cJ"
      },
      "outputs": [],
      "source": []
    },
    {
      "cell_type": "markdown",
      "metadata": {
        "id": "ELSE_7yDI1cJ"
      },
      "source": [
        "### Step 6. Compute how many values are missing for each location over the entire record.  \n",
        "#### They should be ignored in all calculations below. "
      ]
    },
    {
      "cell_type": "code",
      "execution_count": null,
      "metadata": {
        "id": "yjRcxhTfI1cK"
      },
      "outputs": [],
      "source": []
    },
    {
      "cell_type": "markdown",
      "metadata": {
        "id": "xBPWpRWmI1cK"
      },
      "source": [
        "### Step 7. Compute how many non-missing values there are in total."
      ]
    },
    {
      "cell_type": "code",
      "execution_count": null,
      "metadata": {
        "scrolled": true,
        "id": "tjwczZDAI1cK"
      },
      "outputs": [],
      "source": []
    },
    {
      "cell_type": "markdown",
      "metadata": {
        "id": "ZYRB4IKyI1cK"
      },
      "source": [
        "### Step 8. Calculate the mean windspeeds of the windspeeds over all the locations and all the times.\n",
        "#### A single number for the entire dataset."
      ]
    },
    {
      "cell_type": "code",
      "execution_count": null,
      "metadata": {
        "id": "Ug2xcy3sI1cK"
      },
      "outputs": [],
      "source": []
    },
    {
      "cell_type": "markdown",
      "metadata": {
        "id": "NRFmwtWqI1cK"
      },
      "source": [
        "### Step 9. Create a DataFrame called loc_stats and calculate the min, max and mean windspeeds and standard deviations of the windspeeds at each location over all the days \n",
        "\n",
        "#### A different set of numbers for each location."
      ]
    },
    {
      "cell_type": "code",
      "execution_count": null,
      "metadata": {
        "id": "d9fTW3VNI1cL"
      },
      "outputs": [],
      "source": []
    },
    {
      "cell_type": "markdown",
      "metadata": {
        "id": "4BQkj857I1cL"
      },
      "source": [
        "### Step 10. Create a DataFrame called day_stats and calculate the min, max and mean windspeed and standard deviations of the windspeeds across all the locations at each day.\n",
        "\n",
        "#### A different set of numbers for each day."
      ]
    },
    {
      "cell_type": "code",
      "execution_count": null,
      "metadata": {
        "id": "FzAaEPHDI1cL"
      },
      "outputs": [],
      "source": []
    },
    {
      "cell_type": "markdown",
      "metadata": {
        "id": "aQKO34TmI1cL"
      },
      "source": [
        "### Step 11. Find the average windspeed in January for each location.  \n",
        "#### Treat January 1961 and January 1962 both as January."
      ]
    },
    {
      "cell_type": "code",
      "execution_count": null,
      "metadata": {
        "id": "VPTksAtUI1cL"
      },
      "outputs": [],
      "source": []
    },
    {
      "cell_type": "markdown",
      "metadata": {
        "id": "A71J0Xq9I1cL"
      },
      "source": [
        "### Step 12. Downsample the record to a yearly frequency for each location."
      ]
    },
    {
      "cell_type": "code",
      "execution_count": null,
      "metadata": {
        "id": "NEO9GT4LI1cL"
      },
      "outputs": [],
      "source": []
    },
    {
      "cell_type": "markdown",
      "metadata": {
        "id": "WcRc3sXqI1cL"
      },
      "source": [
        "### Step 13. Downsample the record to a monthly frequency for each location."
      ]
    },
    {
      "cell_type": "code",
      "execution_count": null,
      "metadata": {
        "id": "BUyYwglPI1cM"
      },
      "outputs": [],
      "source": []
    },
    {
      "cell_type": "markdown",
      "metadata": {
        "id": "mIkbIuYgI1cM"
      },
      "source": [
        "### Step 14. Downsample the record to a weekly frequency for each location."
      ]
    },
    {
      "cell_type": "code",
      "execution_count": null,
      "metadata": {
        "id": "-l_69G2MI1cM"
      },
      "outputs": [],
      "source": []
    },
    {
      "cell_type": "markdown",
      "metadata": {
        "id": "9YLGroV7I1cM"
      },
      "source": [
        "### Step 15. Calculate the min, max and mean windspeeds and standard deviations of the windspeeds across all locations for each week (assume that the first week starts on January 2 1961) for the first 52 weeks."
      ]
    },
    {
      "cell_type": "code",
      "execution_count": null,
      "metadata": {
        "id": "6hBSn3JvI1cM"
      },
      "outputs": [],
      "source": []
    }
  ],
  "metadata": {
    "anaconda-cloud": {},
    "kernelspec": {
      "display_name": "Python [default]",
      "language": "python",
      "name": "python2"
    },
    "language_info": {
      "codemirror_mode": {
        "name": "ipython",
        "version": 2
      },
      "file_extension": ".py",
      "mimetype": "text/x-python",
      "name": "python",
      "nbconvert_exporter": "python",
      "pygments_lexer": "ipython2",
      "version": "2.7.12"
    },
    "colab": {
      "provenance": []
    }
  },
  "nbformat": 4,
  "nbformat_minor": 0
}