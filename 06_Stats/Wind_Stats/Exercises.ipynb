{
  "cells": [
    {
      "cell_type": "markdown",
      "metadata": {
        "id": "rnAjk6B_I1cA"
      },
      "source": [
        "# Wind Statistics"
      ]
    },
    {
      "cell_type": "markdown",
      "metadata": {
        "id": "RrOfktxII1cD"
      },
      "source": [
        "### Introduction:\n",
        "\n",
        "The data have been modified to contain some missing values, identified by NaN.  \n",
        "Using pandas should make this exercise\n",
        "easier, in particular for the bonus question.\n",
        "\n",
        "You should be able to perform all of these operations without using\n",
        "a for loop or other looping construct.\n",
        "\n",
        "\n",
        "1. The data in 'wind.data' has the following format:"
      ]
    },
    {
      "cell_type": "code",
      "execution_count": null,
      "metadata": {
        "id": "OMEF7gJdI1cE",
        "outputId": "1a49a096-8757-476b-ee65-658ef12086a1"
      },
      "outputs": [
        {
          "data": {
            "text/plain": [
              "'\\nYr Mo Dy   RPT   VAL   ROS   KIL   SHA   BIR   DUB   CLA   MUL   CLO   BEL   MAL\\n61  1  1 15.04 14.96 13.17  9.29   NaN  9.87 13.67 10.25 10.83 12.58 18.50 15.04\\n61  1  2 14.71   NaN 10.83  6.50 12.62  7.67 11.50 10.04  9.79  9.67 17.54 13.83\\n61  1  3 18.50 16.88 12.33 10.13 11.17  6.17 11.25   NaN  8.50  7.67 12.75 12.71\\n'"
            ]
          },
          "execution_count": 434,
          "metadata": {},
          "output_type": "execute_result"
        }
      ],
      "source": [
        "\"\"\"\n",
        "Yr Mo Dy   RPT   VAL   ROS   KIL   SHA   BIR   DUB   CLA   MUL   CLO   BEL   MAL\n",
        "61  1  1 15.04 14.96 13.17  9.29   NaN  9.87 13.67 10.25 10.83 12.58 18.50 15.04\n",
        "61  1  2 14.71   NaN 10.83  6.50 12.62  7.67 11.50 10.04  9.79  9.67 17.54 13.83\n",
        "61  1  3 18.50 16.88 12.33 10.13 11.17  6.17 11.25   NaN  8.50  7.67 12.75 12.71\n",
        "\"\"\""
      ]
    },
    {
      "cell_type": "markdown",
      "metadata": {
        "id": "2RfJ1m5iI1cG"
      },
      "source": [
        "   The first three columns are year, month and day.  The\n",
        "\n",
        "*   List item\n",
        "*   List item\n",
        "\n",
        "\n",
        "   remaining 12 columns are average windspeeds in knots at 12\n",
        "   locations in Ireland on that day.   \n",
        "\n",
        "   More information about the dataset go [here](wind.desc)."
      ]
    },
    {
      "cell_type": "markdown",
      "metadata": {
        "collapsed": false,
        "id": "azwsKTVwI1cG"
      },
      "source": [
        "### Step 1. Import the necessary libraries"
      ]
    },
    {
      "cell_type": "code",
      "execution_count": 1,
      "metadata": {
        "id": "NXV5p0CeI1cH",
        "outputId": "5039dee1-1f85-490b-a03f-54d25c5453f5",
        "colab": {
          "base_uri": "https://localhost:8080/"
        }
      },
      "outputs": [
        {
          "output_type": "stream",
          "name": "stdout",
          "text": [
            "Looking in indexes: https://pypi.org/simple, https://us-python.pkg.dev/colab-wheels/public/simple/\n",
            "Collecting pyspark\n",
            "  Downloading pyspark-3.3.0.tar.gz (281.3 MB)\n",
            "\u001b[K     |████████████████████████████████| 281.3 MB 65 kB/s \n",
            "\u001b[?25hCollecting py4j==0.10.9.5\n",
            "  Downloading py4j-0.10.9.5-py2.py3-none-any.whl (199 kB)\n",
            "\u001b[K     |████████████████████████████████| 199 kB 60.9 MB/s \n",
            "\u001b[?25hBuilding wheels for collected packages: pyspark\n",
            "  Building wheel for pyspark (setup.py) ... \u001b[?25l\u001b[?25hdone\n",
            "  Created wheel for pyspark: filename=pyspark-3.3.0-py2.py3-none-any.whl size=281764026 sha256=47f696aa4818e32d4455146acb31f921a2ad74983e62f9be4bb2f4d217b7dc14\n",
            "  Stored in directory: /root/.cache/pip/wheels/7a/8e/1b/f73a52650d2e5f337708d9f6a1750d451a7349a867f928b885\n",
            "Successfully built pyspark\n",
            "Installing collected packages: py4j, pyspark\n",
            "Successfully installed py4j-0.10.9.5 pyspark-3.3.0\n"
          ]
        }
      ],
      "source": [
        "!pip install pyspark"
      ]
    },
    {
      "cell_type": "code",
      "source": [
        "from pyspark.sql import SparkSession, functions as f\n",
        "from pyspark.sql.types import StringType\n",
        "import pandas as pd"
      ],
      "metadata": {
        "id": "MfepbRcxJj2x"
      },
      "execution_count": 5,
      "outputs": []
    },
    {
      "cell_type": "markdown",
      "metadata": {
        "id": "VcL09w4tI1cH"
      },
      "source": [
        "### Step 2. Import the dataset from this [address](https://raw.githubusercontent.com/guipsamora/pandas_exercises/master/06_Stats/Wind_Stats/wind.data)"
      ]
    },
    {
      "cell_type": "code",
      "source": [
        "!wget \"https://raw.githubusercontent.com/guipsamora/pandas_exercises/master/06_Stats/Wind_Stats/wind.data\""
      ],
      "metadata": {
        "id": "HS4sSvtYKyuM",
        "outputId": "0b7f2c90-5902-40ce-ac19-a9659a8cc0e8",
        "colab": {
          "base_uri": "https://localhost:8080/"
        }
      },
      "execution_count": 3,
      "outputs": [
        {
          "output_type": "stream",
          "name": "stdout",
          "text": [
            "--2022-09-15 08:30:29--  https://raw.githubusercontent.com/guipsamora/pandas_exercises/master/06_Stats/Wind_Stats/wind.data\n",
            "Resolving raw.githubusercontent.com (raw.githubusercontent.com)... 185.199.108.133, 185.199.109.133, 185.199.110.133, ...\n",
            "Connecting to raw.githubusercontent.com (raw.githubusercontent.com)|185.199.108.133|:443... connected.\n",
            "HTTP request sent, awaiting response... 200 OK\n",
            "Length: 532576 (520K) [text/plain]\n",
            "Saving to: ‘wind.data’\n",
            "\n",
            "\rwind.data             0%[                    ]       0  --.-KB/s               \rwind.data           100%[===================>] 520.09K  --.-KB/s    in 0.005s  \n",
            "\n",
            "2022-09-15 08:30:29 (108 MB/s) - ‘wind.data’ saved [532576/532576]\n",
            "\n"
          ]
        }
      ]
    },
    {
      "cell_type": "code",
      "source": [
        "spark = SparkSession.builder.appName(\"Exercise62\").getOrCreate()\n",
        "\n",
        "pandas_df = pd.read_csv(\"wind.data\", sep=\"\\s+\")\n",
        "\n",
        "df = spark.createDataFrame(pandas_df)\n",
        "df.printSchema()\n",
        "df.show()"
      ],
      "metadata": {
        "id": "hFYePYsyJvBk",
        "outputId": "c0fc5959-9528-4801-ade6-c1259c2f2184",
        "colab": {
          "base_uri": "https://localhost:8080/"
        }
      },
      "execution_count": 4,
      "outputs": [
        {
          "output_type": "stream",
          "name": "stdout",
          "text": [
            "root\n",
            " |-- Yr: long (nullable = true)\n",
            " |-- Mo: long (nullable = true)\n",
            " |-- Dy: long (nullable = true)\n",
            " |-- RPT: double (nullable = true)\n",
            " |-- VAL: double (nullable = true)\n",
            " |-- ROS: double (nullable = true)\n",
            " |-- KIL: double (nullable = true)\n",
            " |-- SHA: double (nullable = true)\n",
            " |-- BIR: double (nullable = true)\n",
            " |-- DUB: double (nullable = true)\n",
            " |-- CLA: double (nullable = true)\n",
            " |-- MUL: double (nullable = true)\n",
            " |-- CLO: double (nullable = true)\n",
            " |-- BEL: double (nullable = true)\n",
            " |-- MAL: double (nullable = true)\n",
            "\n",
            "+---+---+---+-----+-----+-----+-----+-----+-----+-----+-----+-----+-----+-----+-----+\n",
            "| Yr| Mo| Dy|  RPT|  VAL|  ROS|  KIL|  SHA|  BIR|  DUB|  CLA|  MUL|  CLO|  BEL|  MAL|\n",
            "+---+---+---+-----+-----+-----+-----+-----+-----+-----+-----+-----+-----+-----+-----+\n",
            "| 61|  1|  1|15.04|14.96|13.17| 9.29|  NaN| 9.87|13.67|10.25|10.83|12.58| 18.5|15.04|\n",
            "| 61|  1|  2|14.71|  NaN|10.83|  6.5|12.62| 7.67| 11.5|10.04| 9.79| 9.67|17.54|13.83|\n",
            "| 61|  1|  3| 18.5|16.88|12.33|10.13|11.17| 6.17|11.25|  NaN|  8.5| 7.67|12.75|12.71|\n",
            "| 61|  1|  4|10.58| 6.63|11.75| 4.58| 4.54| 2.88| 8.63| 1.79| 5.83| 5.88| 5.46|10.88|\n",
            "| 61|  1|  5|13.33|13.25|11.42| 6.17|10.71| 8.21|11.92| 6.54|10.92|10.34|12.92|11.83|\n",
            "| 61|  1|  6|13.21| 8.12| 9.96| 6.67| 5.37|  4.5|10.67| 4.42| 7.17|  7.5| 8.12|13.17|\n",
            "| 61|  1|  7| 13.5|14.29|  9.5| 4.96|12.29| 8.33| 9.17| 9.29| 7.58| 7.96|13.96|13.79|\n",
            "| 61|  1|  8|10.96| 9.75| 7.62| 5.91| 9.62| 7.29|14.29| 7.62| 9.25|10.46|16.62|16.46|\n",
            "| 61|  1|  9|12.58|10.83| 10.0| 4.75|10.37| 6.79| 8.04|10.13| 7.79| 9.08|13.04|15.37|\n",
            "| 61|  1| 10|13.37|11.12| 19.5| 8.33| 9.71| 6.54|11.42| 7.79| 8.54|  9.0| 8.58|11.83|\n",
            "| 61|  1| 11|10.58| 9.87| 8.42| 2.79| 8.71| 7.25| 7.54| 8.33| 5.71| 8.67|20.71|16.92|\n",
            "| 61|  1| 12|19.75|12.08| 18.5|10.54|10.29| 9.46|15.54| 11.5|10.37|14.58|15.59|14.09|\n",
            "| 61|  1| 13| 9.92| 3.54| 8.46| 2.96| 2.29| 0.96| 4.63| 0.58| 2.33| 3.37| 5.25| 7.04|\n",
            "| 61|  1| 14| 9.04| 5.66| 7.08| 0.67| 2.71| 1.38| 3.08| 2.58|  0.5| 2.67| 7.17| 5.17|\n",
            "| 61|  1| 15|12.04| 9.67|11.75| 2.37| 7.38| 3.13|  2.5| 6.83| 4.75| 5.63| 7.54| 6.75|\n",
            "| 61|  1| 16|16.42|11.25|15.67| 4.71|11.34| 6.92| 9.25| 8.79| 8.21| 7.33|13.04| 9.04|\n",
            "| 61|  1| 17|17.75|14.37|17.33|10.13|13.96|13.37|13.42|11.04| 8.71|11.38|15.92|16.08|\n",
            "| 61|  1| 18|19.83|12.04|20.79|18.54|  NaN|10.29|17.83|11.38|14.67|16.71| 8.79|17.96|\n",
            "| 61|  1| 19| 4.92| 3.42| 7.29| 1.04| 3.67| 3.17| 3.71| 2.79| 1.92| 2.71| 6.87| 7.83|\n",
            "| 61|  1| 20| 9.59|11.83| 7.96| 1.58| 7.92|  5.0| 3.17| 4.92| 3.13| 3.37|  6.5| 6.79|\n",
            "+---+---+---+-----+-----+-----+-----+-----+-----+-----+-----+-----+-----+-----+-----+\n",
            "only showing top 20 rows\n",
            "\n"
          ]
        }
      ]
    },
    {
      "cell_type": "markdown",
      "metadata": {
        "id": "pkKKSFAHI1cI"
      },
      "source": [
        "[link text](https://)### Step 3. Assign it to a variable called data and replace the first 3 columns by a proper datetime index."
      ]
    },
    {
      "cell_type": "code",
      "source": [
        "data = df.withColumn(\"date\", \n",
        "                     f.to_date(\n",
        "                         f.concat(f.col(\"Yr\").cast(\"string\"),\n",
        "                                  f.lit(\"-\"),\n",
        "                                  f.col(\"Mo\").cast(\"string\"),\n",
        "                                  f.lit(\"-\"),\n",
        "                                  f.col(\"Dy\").cast(\"string\")\n",
        "                                  ),\"yy-m-d\") )\n",
        "\n",
        "data = data.drop(\"Yr\",\"Mo\",\"Dy\")\n",
        "data.show()"
      ],
      "metadata": {
        "id": "SFlVvDRcRRSD",
        "outputId": "de886d0e-fa79-451f-c6e3-0aff01f07207",
        "colab": {
          "base_uri": "https://localhost:8080/"
        }
      },
      "execution_count": 30,
      "outputs": [
        {
          "output_type": "stream",
          "name": "stdout",
          "text": [
            "+-----+-----+-----+-----+-----+-----+-----+-----+-----+-----+-----+-----+----------+\n",
            "|  RPT|  VAL|  ROS|  KIL|  SHA|  BIR|  DUB|  CLA|  MUL|  CLO|  BEL|  MAL|      date|\n",
            "+-----+-----+-----+-----+-----+-----+-----+-----+-----+-----+-----+-----+----------+\n",
            "|15.04|14.96|13.17| 9.29|  NaN| 9.87|13.67|10.25|10.83|12.58| 18.5|15.04|2061-01-01|\n",
            "|14.71|  NaN|10.83|  6.5|12.62| 7.67| 11.5|10.04| 9.79| 9.67|17.54|13.83|2061-01-02|\n",
            "| 18.5|16.88|12.33|10.13|11.17| 6.17|11.25|  NaN|  8.5| 7.67|12.75|12.71|2061-01-03|\n",
            "|10.58| 6.63|11.75| 4.58| 4.54| 2.88| 8.63| 1.79| 5.83| 5.88| 5.46|10.88|2061-01-04|\n",
            "|13.33|13.25|11.42| 6.17|10.71| 8.21|11.92| 6.54|10.92|10.34|12.92|11.83|2061-01-05|\n",
            "|13.21| 8.12| 9.96| 6.67| 5.37|  4.5|10.67| 4.42| 7.17|  7.5| 8.12|13.17|2061-01-06|\n",
            "| 13.5|14.29|  9.5| 4.96|12.29| 8.33| 9.17| 9.29| 7.58| 7.96|13.96|13.79|2061-01-07|\n",
            "|10.96| 9.75| 7.62| 5.91| 9.62| 7.29|14.29| 7.62| 9.25|10.46|16.62|16.46|2061-01-08|\n",
            "|12.58|10.83| 10.0| 4.75|10.37| 6.79| 8.04|10.13| 7.79| 9.08|13.04|15.37|2061-01-09|\n",
            "|13.37|11.12| 19.5| 8.33| 9.71| 6.54|11.42| 7.79| 8.54|  9.0| 8.58|11.83|2061-01-10|\n",
            "|10.58| 9.87| 8.42| 2.79| 8.71| 7.25| 7.54| 8.33| 5.71| 8.67|20.71|16.92|2061-01-11|\n",
            "|19.75|12.08| 18.5|10.54|10.29| 9.46|15.54| 11.5|10.37|14.58|15.59|14.09|2061-01-12|\n",
            "| 9.92| 3.54| 8.46| 2.96| 2.29| 0.96| 4.63| 0.58| 2.33| 3.37| 5.25| 7.04|2061-01-13|\n",
            "| 9.04| 5.66| 7.08| 0.67| 2.71| 1.38| 3.08| 2.58|  0.5| 2.67| 7.17| 5.17|2061-01-14|\n",
            "|12.04| 9.67|11.75| 2.37| 7.38| 3.13|  2.5| 6.83| 4.75| 5.63| 7.54| 6.75|2061-01-15|\n",
            "|16.42|11.25|15.67| 4.71|11.34| 6.92| 9.25| 8.79| 8.21| 7.33|13.04| 9.04|2061-01-16|\n",
            "|17.75|14.37|17.33|10.13|13.96|13.37|13.42|11.04| 8.71|11.38|15.92|16.08|2061-01-17|\n",
            "|19.83|12.04|20.79|18.54|  NaN|10.29|17.83|11.38|14.67|16.71| 8.79|17.96|2061-01-18|\n",
            "| 4.92| 3.42| 7.29| 1.04| 3.67| 3.17| 3.71| 2.79| 1.92| 2.71| 6.87| 7.83|2061-01-19|\n",
            "| 9.59|11.83| 7.96| 1.58| 7.92|  5.0| 3.17| 4.92| 3.13| 3.37|  6.5| 6.79|2061-01-20|\n",
            "+-----+-----+-----+-----+-----+-----+-----+-----+-----+-----+-----+-----+----------+\n",
            "only showing top 20 rows\n",
            "\n"
          ]
        }
      ]
    },
    {
      "cell_type": "markdown",
      "metadata": {
        "id": "-5z1waplI1cI"
      },
      "source": [
        "### Step 4. Year 2061? Do we really have data from this year? Create a function to fix it and apply it."
      ]
    },
    {
      "cell_type": "code",
      "source": [
        "data = data.withColumn(\"date\",  f.add_months(\"date\", -12*100))\n",
        "data.show()"
      ],
      "metadata": {
        "id": "EZN6kPG3Wzgj",
        "outputId": "45cca475-15ad-4c31-b960-d62431c0a27f",
        "colab": {
          "base_uri": "https://localhost:8080/"
        }
      },
      "execution_count": 31,
      "outputs": [
        {
          "output_type": "stream",
          "name": "stdout",
          "text": [
            "+-----+-----+-----+-----+-----+-----+-----+-----+-----+-----+-----+-----+----------+\n",
            "|  RPT|  VAL|  ROS|  KIL|  SHA|  BIR|  DUB|  CLA|  MUL|  CLO|  BEL|  MAL|      date|\n",
            "+-----+-----+-----+-----+-----+-----+-----+-----+-----+-----+-----+-----+----------+\n",
            "|15.04|14.96|13.17| 9.29|  NaN| 9.87|13.67|10.25|10.83|12.58| 18.5|15.04|1961-01-01|\n",
            "|14.71|  NaN|10.83|  6.5|12.62| 7.67| 11.5|10.04| 9.79| 9.67|17.54|13.83|1961-01-02|\n",
            "| 18.5|16.88|12.33|10.13|11.17| 6.17|11.25|  NaN|  8.5| 7.67|12.75|12.71|1961-01-03|\n",
            "|10.58| 6.63|11.75| 4.58| 4.54| 2.88| 8.63| 1.79| 5.83| 5.88| 5.46|10.88|1961-01-04|\n",
            "|13.33|13.25|11.42| 6.17|10.71| 8.21|11.92| 6.54|10.92|10.34|12.92|11.83|1961-01-05|\n",
            "|13.21| 8.12| 9.96| 6.67| 5.37|  4.5|10.67| 4.42| 7.17|  7.5| 8.12|13.17|1961-01-06|\n",
            "| 13.5|14.29|  9.5| 4.96|12.29| 8.33| 9.17| 9.29| 7.58| 7.96|13.96|13.79|1961-01-07|\n",
            "|10.96| 9.75| 7.62| 5.91| 9.62| 7.29|14.29| 7.62| 9.25|10.46|16.62|16.46|1961-01-08|\n",
            "|12.58|10.83| 10.0| 4.75|10.37| 6.79| 8.04|10.13| 7.79| 9.08|13.04|15.37|1961-01-09|\n",
            "|13.37|11.12| 19.5| 8.33| 9.71| 6.54|11.42| 7.79| 8.54|  9.0| 8.58|11.83|1961-01-10|\n",
            "|10.58| 9.87| 8.42| 2.79| 8.71| 7.25| 7.54| 8.33| 5.71| 8.67|20.71|16.92|1961-01-11|\n",
            "|19.75|12.08| 18.5|10.54|10.29| 9.46|15.54| 11.5|10.37|14.58|15.59|14.09|1961-01-12|\n",
            "| 9.92| 3.54| 8.46| 2.96| 2.29| 0.96| 4.63| 0.58| 2.33| 3.37| 5.25| 7.04|1961-01-13|\n",
            "| 9.04| 5.66| 7.08| 0.67| 2.71| 1.38| 3.08| 2.58|  0.5| 2.67| 7.17| 5.17|1961-01-14|\n",
            "|12.04| 9.67|11.75| 2.37| 7.38| 3.13|  2.5| 6.83| 4.75| 5.63| 7.54| 6.75|1961-01-15|\n",
            "|16.42|11.25|15.67| 4.71|11.34| 6.92| 9.25| 8.79| 8.21| 7.33|13.04| 9.04|1961-01-16|\n",
            "|17.75|14.37|17.33|10.13|13.96|13.37|13.42|11.04| 8.71|11.38|15.92|16.08|1961-01-17|\n",
            "|19.83|12.04|20.79|18.54|  NaN|10.29|17.83|11.38|14.67|16.71| 8.79|17.96|1961-01-18|\n",
            "| 4.92| 3.42| 7.29| 1.04| 3.67| 3.17| 3.71| 2.79| 1.92| 2.71| 6.87| 7.83|1961-01-19|\n",
            "| 9.59|11.83| 7.96| 1.58| 7.92|  5.0| 3.17| 4.92| 3.13| 3.37|  6.5| 6.79|1961-01-20|\n",
            "+-----+-----+-----+-----+-----+-----+-----+-----+-----+-----+-----+-----+----------+\n",
            "only showing top 20 rows\n",
            "\n"
          ]
        }
      ]
    },
    {
      "cell_type": "markdown",
      "metadata": {
        "id": "VOO5T9cOI1cJ"
      },
      "source": [
        "### Step 5. Set the right dates as the index. Pay attention at the data type, it should be datetime64[ns]."
      ]
    },
    {
      "cell_type": "code",
      "execution_count": null,
      "metadata": {
        "id": "wQJCYNP3I1cJ"
      },
      "outputs": [],
      "source": []
    },
    {
      "cell_type": "markdown",
      "metadata": {
        "id": "ELSE_7yDI1cJ"
      },
      "source": [
        "### Step 6. Compute how many values are missing for each location over the entire record.  \n",
        "#### They should be ignored in all calculations below. "
      ]
    },
    {
      "cell_type": "code",
      "execution_count": 44,
      "metadata": {
        "id": "yjRcxhTfI1cK",
        "outputId": "7bbe076c-f118-4a2a-dcc1-212289f54191",
        "colab": {
          "base_uri": "https://localhost:8080/"
        }
      },
      "outputs": [
        {
          "output_type": "stream",
          "name": "stdout",
          "text": [
            "+---+---+---+---+---+---+---+---+---+---+---+---+\n",
            "|RPT|VAL|ROS|KIL|SHA|BIR|DUB|CLA|MUL|CLO|BEL|MAL|\n",
            "+---+---+---+---+---+---+---+---+---+---+---+---+\n",
            "|  6|  3|  2|  5|  2|  0|  3|  2|  3|  1|  0|  4|\n",
            "+---+---+---+---+---+---+---+---+---+---+---+---+\n",
            "\n"
          ]
        }
      ],
      "source": [
        "data.select(*map(lambda c : f.isnan(c).alias(c) ,data.columns[:-1]))\\\n",
        "    .select(*map(lambda c : f.sum(f.col(c).cast(\"int\")).alias(c), data.columns[:-1]))\\\n",
        "    .show()"
      ]
    },
    {
      "cell_type": "markdown",
      "metadata": {
        "id": "xBPWpRWmI1cK"
      },
      "source": [
        "### Step 7. Compute how many non-missing values there are in total."
      ]
    },
    {
      "cell_type": "code",
      "execution_count": 46,
      "metadata": {
        "scrolled": true,
        "id": "tjwczZDAI1cK",
        "outputId": "b72d6dd2-fc8d-41a2-d172-03ea4edc87ec",
        "colab": {
          "base_uri": "https://localhost:8080/"
        }
      },
      "outputs": [
        {
          "output_type": "stream",
          "name": "stdout",
          "text": [
            "+----+----+----+----+----+----+----+----+----+----+----+----+\n",
            "| RPT| VAL| ROS| KIL| SHA| BIR| DUB| CLA| MUL| CLO| BEL| MAL|\n",
            "+----+----+----+----+----+----+----+----+----+----+----+----+\n",
            "|6568|6571|6572|6569|6572|6574|6571|6572|6571|6573|6574|6570|\n",
            "+----+----+----+----+----+----+----+----+----+----+----+----+\n",
            "\n"
          ]
        }
      ],
      "source": [
        "data.select(*map(lambda c : (~f.isnan(c)).alias(c) ,data.columns[:-1]))\\\n",
        "    .select(*map(lambda c : f.sum(f.col(c).cast(\"int\")).alias(c), data.columns[:-1]))\\\n",
        "    .show()"
      ]
    },
    {
      "cell_type": "markdown",
      "source": [
        "Converts NaN to null"
      ],
      "metadata": {
        "id": "ZFfH2LOYh4xs"
      }
    },
    {
      "cell_type": "code",
      "source": [
        "data = data.select(*map(lambda c: f.when(~f.isnan(c), f.col(c)).otherwise(None).alias(c),data.columns[:-1]), data[-1])\n",
        "data.show()"
      ],
      "metadata": {
        "id": "LBxs86X0hw0G",
        "outputId": "94e347cb-bd02-411b-f2fc-db1205610a0b",
        "colab": {
          "base_uri": "https://localhost:8080/"
        }
      },
      "execution_count": 64,
      "outputs": [
        {
          "output_type": "stream",
          "name": "stdout",
          "text": [
            "+-----+-----+-----+-----+-----+-----+-----+-----+-----+-----+-----+-----+----------+\n",
            "|  RPT|  VAL|  ROS|  KIL|  SHA|  BIR|  DUB|  CLA|  MUL|  CLO|  BEL|  MAL|      date|\n",
            "+-----+-----+-----+-----+-----+-----+-----+-----+-----+-----+-----+-----+----------+\n",
            "|15.04|14.96|13.17| 9.29| null| 9.87|13.67|10.25|10.83|12.58| 18.5|15.04|1961-01-01|\n",
            "|14.71| null|10.83|  6.5|12.62| 7.67| 11.5|10.04| 9.79| 9.67|17.54|13.83|1961-01-02|\n",
            "| 18.5|16.88|12.33|10.13|11.17| 6.17|11.25| null|  8.5| 7.67|12.75|12.71|1961-01-03|\n",
            "|10.58| 6.63|11.75| 4.58| 4.54| 2.88| 8.63| 1.79| 5.83| 5.88| 5.46|10.88|1961-01-04|\n",
            "|13.33|13.25|11.42| 6.17|10.71| 8.21|11.92| 6.54|10.92|10.34|12.92|11.83|1961-01-05|\n",
            "|13.21| 8.12| 9.96| 6.67| 5.37|  4.5|10.67| 4.42| 7.17|  7.5| 8.12|13.17|1961-01-06|\n",
            "| 13.5|14.29|  9.5| 4.96|12.29| 8.33| 9.17| 9.29| 7.58| 7.96|13.96|13.79|1961-01-07|\n",
            "|10.96| 9.75| 7.62| 5.91| 9.62| 7.29|14.29| 7.62| 9.25|10.46|16.62|16.46|1961-01-08|\n",
            "|12.58|10.83| 10.0| 4.75|10.37| 6.79| 8.04|10.13| 7.79| 9.08|13.04|15.37|1961-01-09|\n",
            "|13.37|11.12| 19.5| 8.33| 9.71| 6.54|11.42| 7.79| 8.54|  9.0| 8.58|11.83|1961-01-10|\n",
            "|10.58| 9.87| 8.42| 2.79| 8.71| 7.25| 7.54| 8.33| 5.71| 8.67|20.71|16.92|1961-01-11|\n",
            "|19.75|12.08| 18.5|10.54|10.29| 9.46|15.54| 11.5|10.37|14.58|15.59|14.09|1961-01-12|\n",
            "| 9.92| 3.54| 8.46| 2.96| 2.29| 0.96| 4.63| 0.58| 2.33| 3.37| 5.25| 7.04|1961-01-13|\n",
            "| 9.04| 5.66| 7.08| 0.67| 2.71| 1.38| 3.08| 2.58|  0.5| 2.67| 7.17| 5.17|1961-01-14|\n",
            "|12.04| 9.67|11.75| 2.37| 7.38| 3.13|  2.5| 6.83| 4.75| 5.63| 7.54| 6.75|1961-01-15|\n",
            "|16.42|11.25|15.67| 4.71|11.34| 6.92| 9.25| 8.79| 8.21| 7.33|13.04| 9.04|1961-01-16|\n",
            "|17.75|14.37|17.33|10.13|13.96|13.37|13.42|11.04| 8.71|11.38|15.92|16.08|1961-01-17|\n",
            "|19.83|12.04|20.79|18.54| null|10.29|17.83|11.38|14.67|16.71| 8.79|17.96|1961-01-18|\n",
            "| 4.92| 3.42| 7.29| 1.04| 3.67| 3.17| 3.71| 2.79| 1.92| 2.71| 6.87| 7.83|1961-01-19|\n",
            "| 9.59|11.83| 7.96| 1.58| 7.92|  5.0| 3.17| 4.92| 3.13| 3.37|  6.5| 6.79|1961-01-20|\n",
            "+-----+-----+-----+-----+-----+-----+-----+-----+-----+-----+-----+-----+----------+\n",
            "only showing top 20 rows\n",
            "\n"
          ]
        }
      ]
    },
    {
      "cell_type": "markdown",
      "metadata": {
        "id": "ZYRB4IKyI1cK"
      },
      "source": [
        "### Step 8. Calculate the mean windspeeds of the windspeeds over all the locations and all the times.\n",
        "#### A single number for the entire dataset."
      ]
    },
    {
      "cell_type": "code",
      "execution_count": 65,
      "metadata": {
        "id": "Ug2xcy3sI1cK",
        "outputId": "ad174873-6b1f-4d98-e6c5-7b706f46da16",
        "colab": {
          "base_uri": "https://localhost:8080/"
        }
      },
      "outputs": [
        {
          "output_type": "stream",
          "name": "stdout",
          "text": [
            "+-----------------+------------------+------------------+-----------------+------------------+-----------------+-----------------+---------------+----------------+-----------------+------------------+------------------+\n",
            "|         avg(RPT)|          avg(VAL)|          avg(ROS)|         avg(KIL)|          avg(SHA)|         avg(BIR)|         avg(DUB)|       avg(CLA)|        avg(MUL)|         avg(CLO)|          avg(BEL)|          avg(MAL)|\n",
            "+-----------------+------------------+------------------+-----------------+------------------+-----------------+-----------------+---------------+----------------+-----------------+------------------+------------------+\n",
            "|12.36298721071864|10.644314411809459|11.660526475958603|6.306468260009125|10.455833840535595|7.092254335260125|9.797342870187192|8.4950532562386|8.49359001674023|8.707331507682957|13.121006997261933|15.599079147640811|\n",
            "+-----------------+------------------+------------------+-----------------+------------------+-----------------+-----------------+---------------+----------------+-----------------+------------------+------------------+\n",
            "\n"
          ]
        }
      ],
      "source": [
        "data.select(*map(f.mean,data.columns[:-1]))\\\n",
        "    .show()"
      ]
    },
    {
      "cell_type": "markdown",
      "metadata": {
        "id": "NRFmwtWqI1cK"
      },
      "source": [
        "### Step 9. Create a DataFrame called loc_stats and calculate the min, max and mean windspeeds and standard deviations of the windspeeds at each location over all the days\n",
        "\n",
        "> Indented block\n",
        "\n",
        "\n",
        "\n",
        "#### A different set of numbers for each location."
      ]
    },
    {
      "cell_type": "code",
      "execution_count": 66,
      "metadata": {
        "id": "d9fTW3VNI1cL",
        "outputId": "7c143a36-8287-4ccb-879d-1bc6a456cc54",
        "colab": {
          "base_uri": "https://localhost:8080/"
        }
      },
      "outputs": [
        {
          "output_type": "stream",
          "name": "stdout",
          "text": [
            "+-------+-----------------+------------------+------------------+-----------------+------------------+-----------------+-----------------+-----------------+-----------------+-----------------+------------------+------------------+\n",
            "|summary|              RPT|               VAL|               ROS|              KIL|               SHA|              BIR|              DUB|              CLA|              MUL|              CLO|               BEL|               MAL|\n",
            "+-------+-----------------+------------------+------------------+-----------------+------------------+-----------------+-----------------+-----------------+-----------------+-----------------+------------------+------------------+\n",
            "|  count|             6568|              6571|              6572|             6569|              6572|             6574|             6571|             6572|             6571|             6573|              6574|              6570|\n",
            "|   mean|12.36298721071864|10.644314411809459|11.660526475958603|6.306468260009125|10.455833840535595|7.092254335260125|9.797342870187192|  8.4950532562386| 8.49359001674023|8.707331507682957|13.121006997261933|15.599079147640811|\n",
            "| stddev|5.618412959473285| 5.267356471594369| 5.008449958866743|3.605811207145508| 4.936125157203556| 3.96868311537721|4.977554606833063|4.499449045244693|4.166872499235683| 4.50395444687915| 5.835037000573736|6.6997935173664285|\n",
            "|    min|             0.67|              0.21|               1.5|              0.0|              0.13|              0.0|              0.0|              0.0|              0.0|             0.04|              0.13|              0.67|\n",
            "|    max|             35.8|             33.37|             33.84|            28.46|             37.54|            26.16|            30.37|            31.08|            25.88|            28.21|             42.38|             42.54|\n",
            "+-------+-----------------+------------------+------------------+-----------------+------------------+-----------------+-----------------+-----------------+-----------------+-----------------+------------------+------------------+\n",
            "\n"
          ]
        }
      ],
      "source": [
        "loc_stats = data.describe()\n",
        "loc_stats.show()"
      ]
    },
    {
      "cell_type": "markdown",
      "metadata": {
        "id": "4BQkj857I1cL"
      },
      "source": [
        "### Step 10. Create a DataFrame called day_stats and calculate the min, max and mean windspeed and standard deviations of the windspeeds across all the locations at each day.\n",
        "\n",
        "#### A different set of numbers for each day."
      ]
    },
    {
      "cell_type": "code",
      "execution_count": 152,
      "metadata": {
        "id": "FzAaEPHDI1cL",
        "outputId": "c6cd5863-be28-43f6-9117-69679189b6a3",
        "colab": {
          "base_uri": "https://localhost:8080/",
          "height": 409
        }
      },
      "outputs": [
        {
          "output_type": "stream",
          "name": "stdout",
          "text": [
            "('RPT', 'VAL', 'ROS', 'KIL', 'SHA', 'BIR', 'DUB', 'CLA', 'MUL', 'CLO', 'BEL', 'MAL')\n",
            "('RPT', 'VAL', 'ROS', 'KIL', 'SHA', 'BIR', 'DUB', 'CLA', 'MUL', 'CLO', 'BEL', 'MAL')\n",
            "('RPT', 'VAL', 'ROS', 'KIL', 'SHA', 'BIR', 'DUB', 'CLA', 'MUL', 'CLO', 'BEL', 'MAL')\n"
          ]
        },
        {
          "output_type": "error",
          "ename": "TypeError",
          "evalue": "ignored",
          "traceback": [
            "\u001b[0;31m---------------------------------------------------------------------------\u001b[0m",
            "\u001b[0;31mTypeError\u001b[0m                                 Traceback (most recent call last)",
            "\u001b[0;32m<ipython-input-152-2aee824f9683>\u001b[0m in \u001b[0;36m<module>\u001b[0;34m\u001b[0m\n\u001b[1;32m     21\u001b[0m                         \u001b[0mf\u001b[0m\u001b[0;34m.\u001b[0m\u001b[0mgreatest\u001b[0m\u001b[0;34m(\u001b[0m\u001b[0;34m*\u001b[0m\u001b[0mdata\u001b[0m\u001b[0;34m.\u001b[0m\u001b[0mcolumns\u001b[0m\u001b[0;34m[\u001b[0m\u001b[0;34m:\u001b[0m\u001b[0;34m-\u001b[0m\u001b[0;36m1\u001b[0m\u001b[0;34m]\u001b[0m\u001b[0;34m)\u001b[0m\u001b[0;34m.\u001b[0m\u001b[0malias\u001b[0m\u001b[0;34m(\u001b[0m\u001b[0;34m\"max\"\u001b[0m\u001b[0;34m)\u001b[0m\u001b[0;34m,\u001b[0m\u001b[0;34m\u001b[0m\u001b[0;34m\u001b[0m\u001b[0m\n\u001b[1;32m     22\u001b[0m                         \u001b[0mrow_mean\u001b[0m\u001b[0;34m(\u001b[0m\u001b[0;34m*\u001b[0m\u001b[0mdata\u001b[0m\u001b[0;34m.\u001b[0m\u001b[0mcolumns\u001b[0m\u001b[0;34m[\u001b[0m\u001b[0;34m:\u001b[0m\u001b[0;34m-\u001b[0m\u001b[0;36m1\u001b[0m\u001b[0;34m]\u001b[0m\u001b[0;34m)\u001b[0m\u001b[0;34m.\u001b[0m\u001b[0malias\u001b[0m\u001b[0;34m(\u001b[0m\u001b[0;34m\"mean\"\u001b[0m\u001b[0;34m)\u001b[0m\u001b[0;34m,\u001b[0m\u001b[0;34m\u001b[0m\u001b[0;34m\u001b[0m\u001b[0m\n\u001b[0;32m---> 23\u001b[0;31m                         \u001b[0mrow_stddev\u001b[0m\u001b[0;34m(\u001b[0m\u001b[0;34m*\u001b[0m\u001b[0mdata\u001b[0m\u001b[0;34m.\u001b[0m\u001b[0mcolumns\u001b[0m\u001b[0;34m[\u001b[0m\u001b[0;34m:\u001b[0m\u001b[0;34m-\u001b[0m\u001b[0;36m1\u001b[0m\u001b[0;34m]\u001b[0m\u001b[0;34m)\u001b[0m\u001b[0;34m.\u001b[0m\u001b[0malias\u001b[0m\u001b[0;34m(\u001b[0m\u001b[0;34m\"stddev\"\u001b[0m\u001b[0;34m)\u001b[0m\u001b[0;34m,\u001b[0m\u001b[0;34m\u001b[0m\u001b[0;34m\u001b[0m\u001b[0m\n\u001b[0m\u001b[1;32m     24\u001b[0m                         data.columns[-1])\\\n\u001b[1;32m     25\u001b[0m                         \u001b[0;34m.\u001b[0m\u001b[0mshow\u001b[0m\u001b[0;34m(\u001b[0m\u001b[0;34m)\u001b[0m\u001b[0;34m\u001b[0m\u001b[0;34m\u001b[0m\u001b[0m\n",
            "\u001b[0;32m<ipython-input-152-2aee824f9683>\u001b[0m in \u001b[0;36mrow_stddev\u001b[0;34m(*columns)\u001b[0m\n\u001b[1;32m     16\u001b[0m   \u001b[0mN\u001b[0m \u001b[0;34m=\u001b[0m \u001b[0mlen\u001b[0m\u001b[0;34m(\u001b[0m\u001b[0mcolumns\u001b[0m\u001b[0;34m)\u001b[0m\u001b[0;34m\u001b[0m\u001b[0;34m\u001b[0m\u001b[0m\n\u001b[1;32m     17\u001b[0m   \u001b[0mcolumns\u001b[0m\u001b[0;34m,\u001b[0m \u001b[0mmu\u001b[0m \u001b[0;34m=\u001b[0m \u001b[0mnull_to_zero\u001b[0m\u001b[0;34m(\u001b[0m\u001b[0;34m*\u001b[0m\u001b[0mcolumns\u001b[0m\u001b[0;34m)\u001b[0m\u001b[0;34m,\u001b[0m \u001b[0mrow_mean\u001b[0m\u001b[0;34m(\u001b[0m\u001b[0;34m*\u001b[0m\u001b[0mcolumns\u001b[0m\u001b[0;34m)\u001b[0m\u001b[0;34m\u001b[0m\u001b[0;34m\u001b[0m\u001b[0m\n\u001b[0;32m---> 18\u001b[0;31m   \u001b[0;32mreturn\u001b[0m \u001b[0mf\u001b[0m\u001b[0;34m.\u001b[0m\u001b[0msqrt\u001b[0m\u001b[0;34m(\u001b[0m\u001b[0;34m(\u001b[0m\u001b[0;36m1\u001b[0m \u001b[0;34m/\u001b[0m \u001b[0mN\u001b[0m\u001b[0;34m)\u001b[0m \u001b[0;34m*\u001b[0m \u001b[0mrow_sum\u001b[0m\u001b[0;34m(\u001b[0m\u001b[0mf\u001b[0m\u001b[0;34m.\u001b[0m\u001b[0mpow\u001b[0m\u001b[0;34m(\u001b[0m\u001b[0mcol\u001b[0m \u001b[0;34m-\u001b[0m \u001b[0mmu\u001b[0m\u001b[0;34m,\u001b[0m \u001b[0;36m2\u001b[0m\u001b[0;34m)\u001b[0m \u001b[0;32mfor\u001b[0m \u001b[0mcol\u001b[0m \u001b[0;32min\u001b[0m \u001b[0mcolumns\u001b[0m\u001b[0;34m)\u001b[0m \u001b[0;34m)\u001b[0m\u001b[0;34m\u001b[0m\u001b[0;34m\u001b[0m\u001b[0m\n\u001b[0m\u001b[1;32m     19\u001b[0m \u001b[0;34m\u001b[0m\u001b[0m\n\u001b[1;32m     20\u001b[0m day_stats = data.select(f.least(*data.columns[:-1]).alias(\"min\"),\n",
            "\u001b[0;31mTypeError\u001b[0m: unsupported operand type(s) for *: 'float' and 'generator'"
          ]
        }
      ],
      "source": [
        "from functools import reduce\n",
        "\n",
        "\n",
        "def null_to_zero(*columns):\n",
        "  return [(f.when(~f.isnull(c), c).otherwise(0)).alias(c) for c in columns]\n",
        "\n",
        "def row_sum(*columns):\n",
        "  return reduce(lambda x,y: x+y, columns)\n",
        "\n",
        "def row_mean(*columns):\n",
        "  columns = null_to_zero(*columns)\n",
        "  return ( row_sum(*columns)/ len(columns))\n",
        "\n",
        "def row_stddev(*columns):\n",
        "  N = len(columns)\n",
        "  columns, mu = null_to_zero(*columns), row_mean(*columns)\n",
        "  \n",
        "  return f.sqrt((1 / N) * row_sum(f.pow(col - mu, 2) for col in columns) )\n",
        "\n",
        "day_stats = data.select(f.least(*data.columns[:-1]).alias(\"min\"),\n",
        "                        f.greatest(*data.columns[:-1]).alias(\"max\"),\n",
        "                        row_mean(*data.columns[:-1]).alias(\"mean\"),\n",
        "                        row_stddev(*data.columns[:-1]).alias(\"stddev\"),\n",
        "                        data.columns[-1])\\\n",
        "                        .show()\n",
        "\n",
        "\n",
        "#day_stats = data.groupby(\"date\").pivot(\"date\").min().show() <- pivot is too expensive"
      ]
    },
    {
      "cell_type": "markdown",
      "metadata": {
        "id": "aQKO34TmI1cL"
      },
      "source": [
        "### Step 11. Find the average windspeed in January for each location.  \n",
        "#### Treat January 1961 and January 1962 both as January."
      ]
    },
    {
      "cell_type": "code",
      "execution_count": null,
      "metadata": {
        "id": "VPTksAtUI1cL"
      },
      "outputs": [],
      "source": []
    },
    {
      "cell_type": "markdown",
      "metadata": {
        "id": "A71J0Xq9I1cL"
      },
      "source": [
        "### Step 12. Downsample the record to a yearly frequency for each location."
      ]
    },
    {
      "cell_type": "code",
      "execution_count": null,
      "metadata": {
        "id": "NEO9GT4LI1cL"
      },
      "outputs": [],
      "source": []
    },
    {
      "cell_type": "markdown",
      "metadata": {
        "id": "WcRc3sXqI1cL"
      },
      "source": [
        "### Step 13. Downsample the record to a monthly frequency for each location."
      ]
    },
    {
      "cell_type": "code",
      "execution_count": null,
      "metadata": {
        "id": "BUyYwglPI1cM"
      },
      "outputs": [],
      "source": []
    },
    {
      "cell_type": "markdown",
      "metadata": {
        "id": "mIkbIuYgI1cM"
      },
      "source": [
        "### Step 14. Downsample the record to a weekly frequency for each location."
      ]
    },
    {
      "cell_type": "code",
      "execution_count": null,
      "metadata": {
        "id": "-l_69G2MI1cM"
      },
      "outputs": [],
      "source": []
    },
    {
      "cell_type": "markdown",
      "metadata": {
        "id": "9YLGroV7I1cM"
      },
      "source": [
        "### Step 15. Calculate the min, max and mean windspeeds and standard deviations of the windspeeds across all locations for each week (assume that the first week starts on January 2 1961) for the first 52 weeks."
      ]
    },
    {
      "cell_type": "code",
      "execution_count": null,
      "metadata": {
        "id": "6hBSn3JvI1cM"
      },
      "outputs": [],
      "source": []
    }
  ],
  "metadata": {
    "anaconda-cloud": {},
    "kernelspec": {
      "display_name": "Python [default]",
      "language": "python",
      "name": "python2"
    },
    "language_info": {
      "codemirror_mode": {
        "name": "ipython",
        "version": 2
      },
      "file_extension": ".py",
      "mimetype": "text/x-python",
      "name": "python",
      "nbconvert_exporter": "python",
      "pygments_lexer": "ipython2",
      "version": "2.7.12"
    },
    "colab": {
      "provenance": []
    }
  },
  "nbformat": 4,
  "nbformat_minor": 0
}