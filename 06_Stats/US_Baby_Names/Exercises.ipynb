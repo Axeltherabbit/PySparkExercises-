{
  "cells": [
    {
      "cell_type": "markdown",
      "metadata": {
        "id": "5bzH1GDKEKbA"
      },
      "source": [
        "# US - Baby Names"
      ]
    },
    {
      "cell_type": "markdown",
      "metadata": {
        "id": "Qr99iPVoEKb-"
      },
      "source": [
        "### Introduction:\n",
        "\n",
        "We are going to use a subset of [US Baby Names](https://www.kaggle.com/kaggle/us-baby-names) from Kaggle.  \n",
        "In the file it will be names from 2004 until 2014\n",
        "\n",
        "\n",
        "### Step 1. Import the necessary libraries"
      ]
    },
    {
      "cell_type": "code",
      "execution_count": 1,
      "metadata": {
        "id": "mxjiuNlXEKcB",
        "outputId": "16e56287-f781-42c1-d696-7a4e78b215f6",
        "colab": {
          "base_uri": "https://localhost:8080/"
        }
      },
      "outputs": [
        {
          "output_type": "stream",
          "name": "stdout",
          "text": [
            "Looking in indexes: https://pypi.org/simple, https://us-python.pkg.dev/colab-wheels/public/simple/\n",
            "Collecting pyspark\n",
            "  Downloading pyspark-3.3.0.tar.gz (281.3 MB)\n",
            "\u001b[K     |████████████████████████████████| 281.3 MB 29 kB/s \n",
            "\u001b[?25hCollecting py4j==0.10.9.5\n",
            "  Downloading py4j-0.10.9.5-py2.py3-none-any.whl (199 kB)\n",
            "\u001b[K     |████████████████████████████████| 199 kB 56.8 MB/s \n",
            "\u001b[?25hBuilding wheels for collected packages: pyspark\n",
            "  Building wheel for pyspark (setup.py) ... \u001b[?25l\u001b[?25hdone\n",
            "  Created wheel for pyspark: filename=pyspark-3.3.0-py2.py3-none-any.whl size=281764026 sha256=389f9594349fc6183501ec7d4fe0a3946ca973e321c6f8a634806f61f44985c8\n",
            "  Stored in directory: /root/.cache/pip/wheels/7a/8e/1b/f73a52650d2e5f337708d9f6a1750d451a7349a867f928b885\n",
            "Successfully built pyspark\n",
            "Installing collected packages: py4j, pyspark\n",
            "Successfully installed py4j-0.10.9.5 pyspark-3.3.0\n"
          ]
        }
      ],
      "source": [
        "!pip install pyspark"
      ]
    },
    {
      "cell_type": "code",
      "source": [
        "from pyspark.sql import SparkSession, functions as f\n",
        "from pyspark.files import SparkFiles"
      ],
      "metadata": {
        "id": "eHVOXqrpEuF2"
      },
      "execution_count": 2,
      "outputs": []
    },
    {
      "cell_type": "markdown",
      "metadata": {
        "id": "Nkjxt0ApEKcD"
      },
      "source": [
        "### Step 2. Import the dataset from this [address](https://raw.githubusercontent.com/guipsamora/pandas_exercises/master/06_Stats/US_Baby_Names/US_Baby_Names_right.csv). "
      ]
    },
    {
      "cell_type": "code",
      "source": [
        "url = \"https://raw.githubusercontent.com/guipsamora/pandas_exercises/master/06_Stats/US_Baby_Names/US_Baby_Names_right.csv\"\n",
        "\n",
        "spark = SparkSession.builder.appName(\"exercise60\").getOrCreate()\n",
        "\n",
        "spark.sparkContext.addFile(url)\n",
        "\n",
        "df = spark.read.csv(\"file://\" + SparkFiles.get(\"US_Baby_Names_right.csv\"), header=True, inferSchema=True)\n",
        "df.printSchema()"
      ],
      "metadata": {
        "id": "VOEbBS1oE02R",
        "outputId": "512a711e-8be0-42ba-ba9e-9de25de9975f",
        "colab": {
          "base_uri": "https://localhost:8080/"
        }
      },
      "execution_count": 4,
      "outputs": [
        {
          "output_type": "stream",
          "name": "stdout",
          "text": [
            "root\n",
            " |-- _c0: integer (nullable = true)\n",
            " |-- Id: integer (nullable = true)\n",
            " |-- Name: string (nullable = true)\n",
            " |-- Year: integer (nullable = true)\n",
            " |-- Gender: string (nullable = true)\n",
            " |-- State: string (nullable = true)\n",
            " |-- Count: integer (nullable = true)\n",
            "\n"
          ]
        }
      ]
    },
    {
      "cell_type": "markdown",
      "metadata": {
        "id": "0eenWsRlEKcE"
      },
      "source": [
        "### Step 3. Assign it to a variable called baby_names."
      ]
    },
    {
      "cell_type": "code",
      "execution_count": null,
      "metadata": {
        "id": "IoyS4PbLEKcF"
      },
      "outputs": [],
      "source": []
    },
    {
      "cell_type": "markdown",
      "metadata": {
        "id": "Hu72r3f1EKcG"
      },
      "source": [
        "### Step 4. See the first 10 entries"
      ]
    },
    {
      "cell_type": "code",
      "execution_count": 5,
      "metadata": {
        "id": "t0xzha-7EKcH",
        "outputId": "4351c7f6-65b9-42ca-c815-ff0e33e55ad1",
        "colab": {
          "base_uri": "https://localhost:8080/"
        }
      },
      "outputs": [
        {
          "output_type": "stream",
          "name": "stdout",
          "text": [
            "+-----+-----+--------+----+------+-----+-----+\n",
            "|  _c0|   Id|    Name|Year|Gender|State|Count|\n",
            "+-----+-----+--------+----+------+-----+-----+\n",
            "|11349|11350|    Emma|2004|     F|   AK|   62|\n",
            "|11350|11351| Madison|2004|     F|   AK|   48|\n",
            "|11351|11352|  Hannah|2004|     F|   AK|   46|\n",
            "|11352|11353|   Grace|2004|     F|   AK|   44|\n",
            "|11353|11354|   Emily|2004|     F|   AK|   41|\n",
            "|11354|11355| Abigail|2004|     F|   AK|   37|\n",
            "|11355|11356|  Olivia|2004|     F|   AK|   33|\n",
            "|11356|11357|Isabella|2004|     F|   AK|   30|\n",
            "|11357|11358|  Alyssa|2004|     F|   AK|   29|\n",
            "|11358|11359|  Sophia|2004|     F|   AK|   28|\n",
            "+-----+-----+--------+----+------+-----+-----+\n",
            "only showing top 10 rows\n",
            "\n"
          ]
        }
      ],
      "source": [
        "df.show(10)"
      ]
    },
    {
      "cell_type": "markdown",
      "metadata": {
        "id": "_OizY9YxEKcI"
      },
      "source": [
        "### Step 5. Delete the column 'Unnamed: 0' and 'Id'"
      ]
    },
    {
      "cell_type": "code",
      "execution_count": 9,
      "metadata": {
        "id": "HjdkL2UwEKcJ",
        "outputId": "19e008e2-a30b-4ccd-f44f-97318d0a8231",
        "colab": {
          "base_uri": "https://localhost:8080/"
        }
      },
      "outputs": [
        {
          "output_type": "stream",
          "name": "stdout",
          "text": [
            "+---------+----+------+-----+-----+\n",
            "|     Name|Year|Gender|State|Count|\n",
            "+---------+----+------+-----+-----+\n",
            "|     Emma|2004|     F|   AK|   62|\n",
            "|  Madison|2004|     F|   AK|   48|\n",
            "|   Hannah|2004|     F|   AK|   46|\n",
            "|    Grace|2004|     F|   AK|   44|\n",
            "|    Emily|2004|     F|   AK|   41|\n",
            "|  Abigail|2004|     F|   AK|   37|\n",
            "|   Olivia|2004|     F|   AK|   33|\n",
            "| Isabella|2004|     F|   AK|   30|\n",
            "|   Alyssa|2004|     F|   AK|   29|\n",
            "|   Sophia|2004|     F|   AK|   28|\n",
            "|   Alexis|2004|     F|   AK|   27|\n",
            "|Elizabeth|2004|     F|   AK|   27|\n",
            "|   Hailey|2004|     F|   AK|   27|\n",
            "|     Anna|2004|     F|   AK|   26|\n",
            "|  Natalie|2004|     F|   AK|   25|\n",
            "|    Sarah|2004|     F|   AK|   25|\n",
            "|   Sydney|2004|     F|   AK|   25|\n",
            "|      Ava|2004|     F|   AK|   23|\n",
            "|  Trinity|2004|     F|   AK|   22|\n",
            "|    Haley|2004|     F|   AK|   21|\n",
            "+---------+----+------+-----+-----+\n",
            "only showing top 20 rows\n",
            "\n"
          ]
        }
      ],
      "source": [
        "df = df.drop(\"_c0\", \"Id\")\n",
        "df.show()"
      ]
    },
    {
      "cell_type": "markdown",
      "metadata": {
        "id": "b2MXTWD3EKcJ"
      },
      "source": [
        "### Step 6. Is there more male or female names in the dataset?"
      ]
    },
    {
      "cell_type": "code",
      "execution_count": 14,
      "metadata": {
        "id": "9jCB79dPEKcK",
        "outputId": "d653d2fe-5a24-4fdd-b29f-01c2fea0bdd2",
        "colab": {
          "base_uri": "https://localhost:8080/",
          "height": 35
        }
      },
      "outputs": [
        {
          "output_type": "execute_result",
          "data": {
            "text/plain": [
              "'Females'"
            ],
            "application/vnd.google.colaboratory.intrinsic+json": {
              "type": "string"
            }
          },
          "metadata": {},
          "execution_count": 14
        }
      ],
      "source": [
        "\"Males\" if df.filter(df.Gender == \"M\").count() > df.filter(df.Gender == \"F\").count() else \"Females\""
      ]
    },
    {
      "cell_type": "markdown",
      "metadata": {
        "id": "1-5J_UZ5EKcK"
      },
      "source": [
        "### Step 7. Group the dataset by name and assign to names"
      ]
    },
    {
      "cell_type": "code",
      "execution_count": 33,
      "metadata": {
        "id": "WhqRkl8TEKcL"
      },
      "outputs": [],
      "source": [
        "names = df.groupBy(\"Name\")\n",
        "counted_names = names.count()"
      ]
    },
    {
      "cell_type": "markdown",
      "metadata": {
        "id": "afgHjhpsEKcL"
      },
      "source": [
        "### Step 8. How many different names exist in the dataset?"
      ]
    },
    {
      "cell_type": "code",
      "execution_count": 39,
      "metadata": {
        "id": "VKJYVQVvEKcM",
        "outputId": "33701113-7128-4b10-f391-c6c6e127d17b",
        "colab": {
          "base_uri": "https://localhost:8080/"
        }
      },
      "outputs": [
        {
          "output_type": "execute_result",
          "data": {
            "text/plain": [
              "17632"
            ]
          },
          "metadata": {},
          "execution_count": 39
        }
      ],
      "source": [
        "len_counted_names = counted_names.count()\n",
        "len_counted_names"
      ]
    },
    {
      "cell_type": "markdown",
      "metadata": {
        "id": "aaMxQbbzEKcM"
      },
      "source": [
        "### Step 9. What is the name with most occurrences?"
      ]
    },
    {
      "cell_type": "code",
      "execution_count": 35,
      "metadata": {
        "id": "QortuoeAEKcN",
        "outputId": "98c9b755-2cb4-4c09-adcb-7b37f8e21386",
        "colab": {
          "base_uri": "https://localhost:8080/"
        }
      },
      "outputs": [
        {
          "output_type": "stream",
          "name": "stdout",
          "text": [
            "+-----+-----+\n",
            "| Name|count|\n",
            "+-----+-----+\n",
            "|Riley| 1112|\n",
            "+-----+-----+\n",
            "only showing top 1 row\n",
            "\n"
          ]
        }
      ],
      "source": [
        "counted_names.orderBy(f.desc(\"count\")).show(1)"
      ]
    },
    {
      "cell_type": "markdown",
      "metadata": {
        "id": "DpT2EN6JEKcN"
      },
      "source": [
        "### Step 10. How many different names have the least occurrences?"
      ]
    },
    {
      "cell_type": "code",
      "execution_count": 38,
      "metadata": {
        "id": "e4F5XzQeEKcO",
        "outputId": "3b43bae0-7939-429a-eb8f-5fb0c876a5db",
        "colab": {
          "base_uri": "https://localhost:8080/"
        }
      },
      "outputs": [
        {
          "output_type": "execute_result",
          "data": {
            "text/plain": [
              "3682"
            ]
          },
          "metadata": {},
          "execution_count": 38
        }
      ],
      "source": [
        "\n",
        "lest_occurrences = counted_names.orderBy(\"count\").limit(1).collect()[0][1]\n",
        "\n",
        "counted_names.filter(f.col(\"count\") == lest_occurrences).count()"
      ]
    },
    {
      "cell_type": "markdown",
      "metadata": {
        "id": "uyOMc-n4EKcO"
      },
      "source": [
        "### Step 11. What is the median name occurrence?"
      ]
    },
    {
      "cell_type": "code",
      "execution_count": 40,
      "metadata": {
        "id": "wh_wfjdZEKcP",
        "outputId": "d3cee48c-31fd-4dab-fc1b-960e412e32e1",
        "colab": {
          "base_uri": "https://localhost:8080/"
        }
      },
      "outputs": [
        {
          "output_type": "execute_result",
          "data": {
            "text/plain": [
              "[Row(Name='Cecilio', count=10)]"
            ]
          },
          "metadata": {},
          "execution_count": 40
        }
      ],
      "source": [
        "counted_names.limit(len_counted_names//2).tail(1)"
      ]
    },
    {
      "cell_type": "markdown",
      "metadata": {
        "id": "v3ORLzDIEKcP"
      },
      "source": [
        "### Step 12. What is the standard deviation of names?"
      ]
    },
    {
      "cell_type": "code",
      "execution_count": 43,
      "metadata": {
        "id": "-sLYybNvEKcP",
        "outputId": "3d0c1b4d-7834-4257-f8bf-7fc932621405",
        "colab": {
          "base_uri": "https://localhost:8080/"
        }
      },
      "outputs": [
        {
          "output_type": "stream",
          "name": "stdout",
          "text": [
            "+-------+----+------------------+\n",
            "|summary|Name|             count|\n",
            "+-------+----+------------------+\n",
            "| stddev|null|122.02996350813885|\n",
            "+-------+----+------------------+\n",
            "\n"
          ]
        }
      ],
      "source": [
        "counted_names.describe().filter(f.col(\"summary\")==\"stddev\").show()"
      ]
    },
    {
      "cell_type": "markdown",
      "metadata": {
        "id": "I6qfUeq0EKcQ"
      },
      "source": [
        "### Step 13. Get a summary with the mean, min, max, std and quartiles."
      ]
    },
    {
      "cell_type": "code",
      "execution_count": 46,
      "metadata": {
        "id": "Z8JIUfdbEKcQ",
        "outputId": "20fa1939-886c-4b57-dc55-89b034ac6e96",
        "colab": {
          "base_uri": "https://localhost:8080/"
        }
      },
      "outputs": [
        {
          "output_type": "stream",
          "name": "stdout",
          "text": [
            "+-------+--------+------------------+\n",
            "|summary|    Name|             count|\n",
            "+-------+--------+------------------+\n",
            "|  count|   17632|             17632|\n",
            "|   mean|Infinity|57.644906987295826|\n",
            "| stddev|    null|122.02996350813885|\n",
            "|    min|   Aaban|                 1|\n",
            "|    25%|Infinity|                 2|\n",
            "|    50%|Infinity|                 8|\n",
            "|    75%|Infinity|                39|\n",
            "|    max|  Zyriah|              1112|\n",
            "+-------+--------+------------------+\n",
            "\n"
          ]
        }
      ],
      "source": [
        "counted_names.summary().show()"
      ]
    }
  ],
  "metadata": {
    "anaconda-cloud": {},
    "kernelspec": {
      "display_name": "Python [default]",
      "language": "python",
      "name": "python2"
    },
    "language_info": {
      "codemirror_mode": {
        "name": "ipython",
        "version": 2
      },
      "file_extension": ".py",
      "mimetype": "text/x-python",
      "name": "python",
      "nbconvert_exporter": "python",
      "pygments_lexer": "ipython2",
      "version": "2.7.11"
    },
    "colab": {
      "provenance": []
    }
  },
  "nbformat": 4,
  "nbformat_minor": 0
}