{
  "cells": [
    {
      "cell_type": "markdown",
      "metadata": {
        "id": "_DHCw1nHBo9H"
      },
      "source": [
        "# Ex2 - Filtering and Sorting Data"
      ]
    },
    {
      "cell_type": "markdown",
      "metadata": {
        "id": "X9PPpCO8Bo9Z"
      },
      "source": [
        "This time we are going to pull data directly from the internet.\n",
        "\n",
        "### Step 1. Import the necessary libraries"
      ]
    },
    {
      "cell_type": "code",
      "source": [
        "!pip install pyspark"
      ],
      "metadata": {
        "id": "wkogfGt5B1fa",
        "outputId": "93d040d3-1edb-49f2-b41c-34e308c33c75",
        "colab": {
          "base_uri": "https://localhost:8080/"
        }
      },
      "execution_count": 1,
      "outputs": [
        {
          "output_type": "stream",
          "name": "stdout",
          "text": [
            "Looking in indexes: https://pypi.org/simple, https://us-python.pkg.dev/colab-wheels/public/simple/\n",
            "Collecting pyspark\n",
            "  Downloading pyspark-3.3.0.tar.gz (281.3 MB)\n",
            "\u001b[K     |████████████████████████████████| 281.3 MB 44 kB/s \n",
            "\u001b[?25hCollecting py4j==0.10.9.5\n",
            "  Downloading py4j-0.10.9.5-py2.py3-none-any.whl (199 kB)\n",
            "\u001b[K     |████████████████████████████████| 199 kB 65.3 MB/s \n",
            "\u001b[?25hBuilding wheels for collected packages: pyspark\n",
            "  Building wheel for pyspark (setup.py) ... \u001b[?25l\u001b[?25hdone\n",
            "  Created wheel for pyspark: filename=pyspark-3.3.0-py2.py3-none-any.whl size=281764026 sha256=250ec0fa11a8d4cad3c409ac8d58685f2d5b4f07fdde5a5718c5b1f099e4add9\n",
            "  Stored in directory: /root/.cache/pip/wheels/7a/8e/1b/f73a52650d2e5f337708d9f6a1750d451a7349a867f928b885\n",
            "Successfully built pyspark\n",
            "Installing collected packages: py4j, pyspark\n",
            "Successfully installed py4j-0.10.9.5 pyspark-3.3.0\n"
          ]
        }
      ]
    },
    {
      "cell_type": "code",
      "execution_count": 2,
      "metadata": {
        "id": "XQhZRObeBo9g"
      },
      "outputs": [],
      "source": [
        "from pyspark.sql import SparkSession, functions as f\n",
        "from pyspark.files import SparkFiles"
      ]
    },
    {
      "cell_type": "markdown",
      "metadata": {
        "id": "WTulVytbBo9k"
      },
      "source": [
        "### Step 2. Import the dataset from this [address](https://raw.githubusercontent.com/guipsamora/pandas_exercises/master/02_Filtering_%26_Sorting/Euro12/Euro_2012_stats_TEAM.csv). "
      ]
    },
    {
      "cell_type": "code",
      "source": [
        "url = \"https://raw.githubusercontent.com/guipsamora/pandas_exercises/master/02_Filtering_%26_Sorting/Euro12/Euro_2012_stats_TEAM.csv\"\n",
        "\n",
        "spark = SparkSession.builder.appName(\"exercise22\").getOrCreate()\n",
        "spark.sparkContext.addFile(url)\n",
        "\n",
        "df = spark.read.csv(\"file://\" + SparkFiles.get(\"Euro_2012_stats_TEAM.csv\"), sep=',', header=True, inferSchema=True) \n",
        "df.printSchema()\n",
        "df.show()"
      ],
      "metadata": {
        "id": "pnFRXVJVCnpt",
        "outputId": "99821229-8036-4a55-ff2b-b1f9ebbd368e",
        "colab": {
          "base_uri": "https://localhost:8080/"
        }
      },
      "execution_count": 11,
      "outputs": [
        {
          "output_type": "stream",
          "name": "stdout",
          "text": [
            "root\n",
            " |-- Team: string (nullable = true)\n",
            " |-- Goals: integer (nullable = true)\n",
            " |-- Shots on target: integer (nullable = true)\n",
            " |-- Shots off target: integer (nullable = true)\n",
            " |-- Shooting Accuracy: string (nullable = true)\n",
            " |-- % Goals-to-shots: string (nullable = true)\n",
            " |-- Total shots (inc. Blocked): integer (nullable = true)\n",
            " |-- Hit Woodwork: integer (nullable = true)\n",
            " |-- Penalty goals: integer (nullable = true)\n",
            " |-- Penalties not scored: integer (nullable = true)\n",
            " |-- Headed goals: integer (nullable = true)\n",
            " |-- Passes: integer (nullable = true)\n",
            " |-- Passes completed: integer (nullable = true)\n",
            " |-- Passing Accuracy: string (nullable = true)\n",
            " |-- Touches: integer (nullable = true)\n",
            " |-- Crosses: integer (nullable = true)\n",
            " |-- Dribbles: integer (nullable = true)\n",
            " |-- Corners Taken: integer (nullable = true)\n",
            " |-- Tackles: integer (nullable = true)\n",
            " |-- Clearances: integer (nullable = true)\n",
            " |-- Interceptions: integer (nullable = true)\n",
            " |-- Clearances off line: integer (nullable = true)\n",
            " |-- Clean Sheets: integer (nullable = true)\n",
            " |-- Blocks: integer (nullable = true)\n",
            " |-- Goals conceded: integer (nullable = true)\n",
            " |-- Saves made: integer (nullable = true)\n",
            " |-- Saves-to-shots ratio: string (nullable = true)\n",
            " |-- Fouls Won: integer (nullable = true)\n",
            " |-- Fouls Conceded: integer (nullable = true)\n",
            " |-- Offsides: integer (nullable = true)\n",
            " |-- Yellow Cards: integer (nullable = true)\n",
            " |-- Red Cards: integer (nullable = true)\n",
            " |-- Subs on: integer (nullable = true)\n",
            " |-- Subs off: integer (nullable = true)\n",
            " |-- Players Used: integer (nullable = true)\n",
            "\n",
            "+-------------------+-----+---------------+----------------+-----------------+----------------+--------------------------+------------+-------------+--------------------+------------+------+----------------+----------------+-------+-------+--------+-------------+-------+----------+-------------+-------------------+------------+------+--------------+----------+--------------------+---------+--------------+--------+------------+---------+-------+--------+------------+\n",
            "|               Team|Goals|Shots on target|Shots off target|Shooting Accuracy|% Goals-to-shots|Total shots (inc. Blocked)|Hit Woodwork|Penalty goals|Penalties not scored|Headed goals|Passes|Passes completed|Passing Accuracy|Touches|Crosses|Dribbles|Corners Taken|Tackles|Clearances|Interceptions|Clearances off line|Clean Sheets|Blocks|Goals conceded|Saves made|Saves-to-shots ratio|Fouls Won|Fouls Conceded|Offsides|Yellow Cards|Red Cards|Subs on|Subs off|Players Used|\n",
            "+-------------------+-----+---------------+----------------+-----------------+----------------+--------------------------+------------+-------------+--------------------+------------+------+----------------+----------------+-------+-------+--------+-------------+-------+----------+-------------+-------------------+------------+------+--------------+----------+--------------------+---------+--------------+--------+------------+---------+-------+--------+------------+\n",
            "|            Croatia|    4|             13|              12|            51.9%|           16.0%|                        32|           0|            0|                   0|           2|  1076|             828|           76.9%|   1706|     60|      42|           14|     49|        83|           56|               null|           0|    10|             3|        13|               81.3%|       41|            62|       2|           9|        0|      9|       9|          16|\n",
            "|     Czech Republic|    4|             13|              18|            41.9%|           12.9%|                        39|           0|            0|                   0|           0|  1565|            1223|           78.1%|   2358|     46|      68|           21|     62|        98|           37|                  2|           1|    10|             6|         9|               60.1%|       53|            73|       8|           7|        0|     11|      11|          19|\n",
            "|            Denmark|    4|             10|              10|            50.0%|           20.0%|                        27|           1|            0|                   0|           3|  1298|            1082|           83.3%|   1873|     43|      32|           16|     40|        61|           59|                  0|           1|    10|             5|        10|               66.7%|       25|            38|       8|           4|        0|      7|       7|          15|\n",
            "|            England|    5|             11|              18|            50.0%|           17.2%|                        40|           0|            0|                   0|           3|  1488|            1200|           80.6%|   2440|     58|      60|           16|     86|       106|           72|                  1|           2|    29|             3|        22|               88.1%|       43|            45|       6|           5|        0|     11|      11|          16|\n",
            "|             France|    3|             22|              24|            37.9%|            6.5%|                        65|           1|            0|                   0|           0|  2066|            1803|           87.2%|   2909|     55|      76|           28|     71|        76|           58|                  0|           1|     7|             5|         6|               54.6%|       36|            51|       5|           6|        0|     11|      11|          19|\n",
            "|            Germany|   10|             32|              32|            47.8%|           15.6%|                        80|           2|            1|                   0|           2|  2774|            2427|           87.4%|   3761|    101|      60|           35|     91|        73|           69|                  0|           1|    11|             6|        10|               62.6%|       63|            49|      12|           4|        0|     15|      15|          17|\n",
            "|             Greece|    5|              8|              18|            30.7%|           19.2%|                        32|           1|            1|                   1|           0|  1187|             911|           76.7%|   2016|     52|      53|           10|     65|       123|           87|                  0|           1|    23|             7|        13|               65.1%|       67|            48|      12|           9|        1|     12|      12|          20|\n",
            "|              Italy|    6|             34|              45|            43.0%|            7.5%|                       110|           2|            0|                   0|           2|  3016|            2531|           83.9%|   4363|     75|      75|           30|     98|       137|          136|                  1|           2|    18|             7|        20|               74.1%|      101|            89|      16|          16|        0|     18|      18|          19|\n",
            "|        Netherlands|    2|             12|              36|            25.0%|            4.1%|                        60|           2|            0|                   0|           0|  1556|            1381|           88.7%|   2163|     50|      49|           22|     34|        41|           41|                  0|           0|     9|             5|        12|               70.6%|       35|            30|       3|           5|        0|      7|       7|          15|\n",
            "|             Poland|    2|             15|              23|            39.4%|            5.2%|                        48|           0|            0|                   0|           1|  1059|             852|           80.4%|   1724|     55|      39|           14|     67|        87|           62|                  0|           0|     8|             3|         6|               66.7%|       48|            56|       3|           7|        1|      7|       7|          17|\n",
            "|           Portugal|    6|             22|              42|            34.3%|            9.3%|                        82|           6|            0|                   0|           2|  1891|            1461|           77.2%|   2958|     91|      64|           41|     78|        92|           86|                  0|           2|    11|             4|        10|               71.5%|       73|            90|      10|          12|        0|     14|      14|          16|\n",
            "|Republic of Ireland|    1|              7|              12|            36.8%|            5.2%|                        28|           0|            0|                   0|           1|   851|             606|           71.2%|   1433|     43|      18|            8|     45|        78|           43|                  1|           0|    23|             9|        17|               65.4%|       43|            51|      11|           6|        1|     10|      10|          17|\n",
            "|             Russia|    5|              9|              31|            22.5%|           12.5%|                        59|           2|            0|                   0|           1|  1602|            1345|           83.9%|   2278|     40|      40|           21|     65|        74|           58|                  0|           0|     8|             3|        10|               77.0%|       34|            43|       4|           6|        0|      7|       7|          16|\n",
            "|              Spain|   12|             42|              33|            55.9%|           16.0%|                       100|           0|            1|                   0|           2|  4317|            3820|           88.4%|   5585|     69|     106|           44|    122|       102|           79|                  0|           5|     8|             1|        15|               93.8%|      102|            83|      19|          11|        0|     17|      17|          18|\n",
            "|             Sweden|    5|             17|              19|            47.2%|           13.8%|                        39|           3|            0|                   0|           1|  1192|             965|           80.9%|   1806|     44|      29|            7|     56|        54|           45|                  0|           1|    12|             5|         8|               61.6%|       35|            51|       7|           7|        0|      9|       9|          18|\n",
            "|            Ukraine|    2|              7|              26|            21.2%|            6.0%|                        38|           0|            0|                   0|           2|  1276|            1043|           81.7%|   1894|     33|      26|           18|     65|        97|           29|                  0|           0|     4|             4|        13|               76.5%|       48|            31|       4|           5|        0|      9|       9|          18|\n",
            "+-------------------+-----+---------------+----------------+-----------------+----------------+--------------------------+------------+-------------+--------------------+------------+------+----------------+----------------+-------+-------+--------+-------------+-------+----------+-------------+-------------------+------------+------+--------------+----------+--------------------+---------+--------------+--------+------------+---------+-------+--------+------------+\n",
            "\n"
          ]
        }
      ]
    },
    {
      "cell_type": "markdown",
      "metadata": {
        "id": "aLzOU-R7Bo9l"
      },
      "source": [
        "### Step 3. Assign it to a variable called euro12."
      ]
    },
    {
      "cell_type": "code",
      "execution_count": null,
      "metadata": {
        "id": "Tbj3zFX0Bo9n"
      },
      "outputs": [],
      "source": []
    },
    {
      "cell_type": "markdown",
      "metadata": {
        "id": "KkBpthG5Bo9p"
      },
      "source": [
        "### Step 4. Select only the Goal column."
      ]
    },
    {
      "cell_type": "code",
      "execution_count": 6,
      "metadata": {
        "id": "RhskCY5eBo9v",
        "outputId": "253e1565-ec6b-4b8e-8cad-608106302e95",
        "colab": {
          "base_uri": "https://localhost:8080/"
        }
      },
      "outputs": [
        {
          "output_type": "stream",
          "name": "stdout",
          "text": [
            "+-----+\n",
            "|Goals|\n",
            "+-----+\n",
            "|    4|\n",
            "|    4|\n",
            "|    4|\n",
            "|    5|\n",
            "|    3|\n",
            "|   10|\n",
            "|    5|\n",
            "|    6|\n",
            "|    2|\n",
            "|    2|\n",
            "|    6|\n",
            "|    1|\n",
            "|    5|\n",
            "|   12|\n",
            "|    5|\n",
            "|    2|\n",
            "+-----+\n",
            "\n"
          ]
        }
      ],
      "source": [
        "df.select(\"Goals\").show()"
      ]
    },
    {
      "cell_type": "markdown",
      "metadata": {
        "id": "vzMVFzNtBo9z"
      },
      "source": [
        "### Step 5. How many team participated in the Euro2012?"
      ]
    },
    {
      "cell_type": "code",
      "execution_count": 7,
      "metadata": {
        "id": "crMEvSygBo92",
        "outputId": "4767e01a-d1df-4abf-ea0e-5a0c125a0742",
        "colab": {
          "base_uri": "https://localhost:8080/"
        }
      },
      "outputs": [
        {
          "output_type": "execute_result",
          "data": {
            "text/plain": [
              "16"
            ]
          },
          "metadata": {},
          "execution_count": 7
        }
      ],
      "source": [
        "df.select(\"Team\").distinct().count()"
      ]
    },
    {
      "cell_type": "markdown",
      "metadata": {
        "id": "b8CjQsaPBo93"
      },
      "source": [
        "### Step 6. What is the number of columns in the dataset?"
      ]
    },
    {
      "cell_type": "code",
      "execution_count": 8,
      "metadata": {
        "id": "X5xomeE-Bo94",
        "outputId": "f77de449-7ede-4d65-fa00-e42fe3005d5b",
        "colab": {
          "base_uri": "https://localhost:8080/"
        }
      },
      "outputs": [
        {
          "output_type": "execute_result",
          "data": {
            "text/plain": [
              "35"
            ]
          },
          "metadata": {},
          "execution_count": 8
        }
      ],
      "source": [
        "len(df.columns)"
      ]
    },
    {
      "cell_type": "markdown",
      "metadata": {
        "id": "v8RaDbHuBo95"
      },
      "source": [
        "### Step 7. View only the columns Team, Yellow Cards and Red Cards and assign them to a dataframe called discipline"
      ]
    },
    {
      "cell_type": "code",
      "execution_count": 9,
      "metadata": {
        "id": "_M0qz6KCBo96",
        "outputId": "5a11c5a5-5d27-449f-a7f4-660d2af05a69",
        "colab": {
          "base_uri": "https://localhost:8080/"
        }
      },
      "outputs": [
        {
          "output_type": "stream",
          "name": "stdout",
          "text": [
            "+-------------------+------------+---------+\n",
            "|               Team|Yellow Cards|Red Cards|\n",
            "+-------------------+------------+---------+\n",
            "|            Croatia|           9|        0|\n",
            "|     Czech Republic|           7|        0|\n",
            "|            Denmark|           4|        0|\n",
            "|            England|           5|        0|\n",
            "|             France|           6|        0|\n",
            "|            Germany|           4|        0|\n",
            "|             Greece|           9|        1|\n",
            "|              Italy|          16|        0|\n",
            "|        Netherlands|           5|        0|\n",
            "|             Poland|           7|        1|\n",
            "|           Portugal|          12|        0|\n",
            "|Republic of Ireland|           6|        1|\n",
            "|             Russia|           6|        0|\n",
            "|              Spain|          11|        0|\n",
            "|             Sweden|           7|        0|\n",
            "|            Ukraine|           5|        0|\n",
            "+-------------------+------------+---------+\n",
            "\n"
          ]
        }
      ],
      "source": [
        "discipline = df.select(\"Team\", \"Yellow Cards\", \"Red Cards\")\n",
        "discipline.show()"
      ]
    },
    {
      "cell_type": "markdown",
      "metadata": {
        "id": "E_ja_qFcBo98"
      },
      "source": [
        "### Step 8. Sort the teams by Red Cards, then to Yellow Cards"
      ]
    },
    {
      "cell_type": "code",
      "execution_count": 10,
      "metadata": {
        "scrolled": true,
        "id": "Udnj2JRZBo9_",
        "outputId": "2b524cd3-ca4f-4b87-96bb-0b7338990cdc",
        "colab": {
          "base_uri": "https://localhost:8080/"
        }
      },
      "outputs": [
        {
          "output_type": "stream",
          "name": "stdout",
          "text": [
            "+-------------------+------------+---------+\n",
            "|               Team|Yellow Cards|Red Cards|\n",
            "+-------------------+------------+---------+\n",
            "|            Denmark|           4|        0|\n",
            "|            Germany|           4|        0|\n",
            "|        Netherlands|           5|        0|\n",
            "|            Ukraine|           5|        0|\n",
            "|            England|           5|        0|\n",
            "|             France|           6|        0|\n",
            "|             Russia|           6|        0|\n",
            "|     Czech Republic|           7|        0|\n",
            "|             Sweden|           7|        0|\n",
            "|            Croatia|           9|        0|\n",
            "|              Spain|          11|        0|\n",
            "|           Portugal|          12|        0|\n",
            "|              Italy|          16|        0|\n",
            "|Republic of Ireland|           6|        1|\n",
            "|             Poland|           7|        1|\n",
            "|             Greece|           9|        1|\n",
            "+-------------------+------------+---------+\n",
            "\n"
          ]
        }
      ],
      "source": [
        "discipline.sort(\"Red cards\", \"Yellow Cards\").show()"
      ]
    },
    {
      "cell_type": "markdown",
      "metadata": {
        "id": "bVbp90t_Bo-B"
      },
      "source": [
        "### Step 9. Calculate the mean Yellow Cards given per Team"
      ]
    },
    {
      "cell_type": "code",
      "execution_count": 12,
      "metadata": {
        "id": "QaW1DnGaBo-E",
        "outputId": "1f1599b7-a9cb-4b14-bcaf-3feb956cd00c",
        "colab": {
          "base_uri": "https://localhost:8080/"
        }
      },
      "outputs": [
        {
          "output_type": "stream",
          "name": "stdout",
          "text": [
            "+-----------------+\n",
            "|avg(Yellow Cards)|\n",
            "+-----------------+\n",
            "|           7.4375|\n",
            "+-----------------+\n",
            "\n"
          ]
        }
      ],
      "source": [
        "df.select(f.mean(\"Yellow Cards\")).show()"
      ]
    },
    {
      "cell_type": "markdown",
      "metadata": {
        "id": "jO4D-6cABo-F"
      },
      "source": [
        "### Step 10. Filter teams that scored more than 6 goals"
      ]
    },
    {
      "cell_type": "code",
      "execution_count": 14,
      "metadata": {
        "id": "yoBcnvSLBo-H",
        "outputId": "8deea7b5-12fd-44b0-c049-9eca56008a90",
        "colab": {
          "base_uri": "https://localhost:8080/"
        }
      },
      "outputs": [
        {
          "output_type": "stream",
          "name": "stdout",
          "text": [
            "+-------+-----+---------------+----------------+-----------------+----------------+--------------------------+------------+-------------+--------------------+------------+------+----------------+----------------+-------+-------+--------+-------------+-------+----------+-------------+-------------------+------------+------+--------------+----------+--------------------+---------+--------------+--------+------------+---------+-------+--------+------------+\n",
            "|   Team|Goals|Shots on target|Shots off target|Shooting Accuracy|% Goals-to-shots|Total shots (inc. Blocked)|Hit Woodwork|Penalty goals|Penalties not scored|Headed goals|Passes|Passes completed|Passing Accuracy|Touches|Crosses|Dribbles|Corners Taken|Tackles|Clearances|Interceptions|Clearances off line|Clean Sheets|Blocks|Goals conceded|Saves made|Saves-to-shots ratio|Fouls Won|Fouls Conceded|Offsides|Yellow Cards|Red Cards|Subs on|Subs off|Players Used|\n",
            "+-------+-----+---------------+----------------+-----------------+----------------+--------------------------+------------+-------------+--------------------+------------+------+----------------+----------------+-------+-------+--------+-------------+-------+----------+-------------+-------------------+------------+------+--------------+----------+--------------------+---------+--------------+--------+------------+---------+-------+--------+------------+\n",
            "|Germany|   10|             32|              32|            47.8%|           15.6%|                        80|           2|            1|                   0|           2|  2774|            2427|           87.4%|   3761|    101|      60|           35|     91|        73|           69|                  0|           1|    11|             6|        10|               62.6%|       63|            49|      12|           4|        0|     15|      15|          17|\n",
            "|  Spain|   12|             42|              33|            55.9%|           16.0%|                       100|           0|            1|                   0|           2|  4317|            3820|           88.4%|   5585|     69|     106|           44|    122|       102|           79|                  0|           5|     8|             1|        15|               93.8%|      102|            83|      19|          11|        0|     17|      17|          18|\n",
            "+-------+-----+---------------+----------------+-----------------+----------------+--------------------------+------------+-------------+--------------------+------------+------+----------------+----------------+-------+-------+--------+-------------+-------+----------+-------------+-------------------+------------+------+--------------+----------+--------------------+---------+--------------+--------+------------+---------+-------+--------+------------+\n",
            "\n"
          ]
        }
      ],
      "source": [
        "df.filter(f.col(\"Goals\") > 6).show()"
      ]
    },
    {
      "cell_type": "markdown",
      "metadata": {
        "id": "LX5fhkyaBo-I"
      },
      "source": [
        "### Step 11. Select the teams that start with G"
      ]
    },
    {
      "cell_type": "code",
      "execution_count": 16,
      "metadata": {
        "id": "oayxs9mRBo-J",
        "outputId": "2e690e27-70fd-41ae-89ee-eb4121300507",
        "colab": {
          "base_uri": "https://localhost:8080/"
        }
      },
      "outputs": [
        {
          "output_type": "stream",
          "name": "stdout",
          "text": [
            "+-------+-----+---------------+----------------+-----------------+----------------+--------------------------+------------+-------------+--------------------+------------+------+----------------+----------------+-------+-------+--------+-------------+-------+----------+-------------+-------------------+------------+------+--------------+----------+--------------------+---------+--------------+--------+------------+---------+-------+--------+------------+\n",
            "|   Team|Goals|Shots on target|Shots off target|Shooting Accuracy|% Goals-to-shots|Total shots (inc. Blocked)|Hit Woodwork|Penalty goals|Penalties not scored|Headed goals|Passes|Passes completed|Passing Accuracy|Touches|Crosses|Dribbles|Corners Taken|Tackles|Clearances|Interceptions|Clearances off line|Clean Sheets|Blocks|Goals conceded|Saves made|Saves-to-shots ratio|Fouls Won|Fouls Conceded|Offsides|Yellow Cards|Red Cards|Subs on|Subs off|Players Used|\n",
            "+-------+-----+---------------+----------------+-----------------+----------------+--------------------------+------------+-------------+--------------------+------------+------+----------------+----------------+-------+-------+--------+-------------+-------+----------+-------------+-------------------+------------+------+--------------+----------+--------------------+---------+--------------+--------+------------+---------+-------+--------+------------+\n",
            "|Germany|   10|             32|              32|            47.8%|           15.6%|                        80|           2|            1|                   0|           2|  2774|            2427|           87.4%|   3761|    101|      60|           35|     91|        73|           69|                  0|           1|    11|             6|        10|               62.6%|       63|            49|      12|           4|        0|     15|      15|          17|\n",
            "| Greece|    5|              8|              18|            30.7%|           19.2%|                        32|           1|            1|                   1|           0|  1187|             911|           76.7%|   2016|     52|      53|           10|     65|       123|           87|                  0|           1|    23|             7|        13|               65.1%|       67|            48|      12|           9|        1|     12|      12|          20|\n",
            "+-------+-----+---------------+----------------+-----------------+----------------+--------------------------+------------+-------------+--------------------+------------+------+----------------+----------------+-------+-------+--------+-------------+-------+----------+-------------+-------------------+------------+------+--------------+----------+--------------------+---------+--------------+--------+------------+---------+-------+--------+------------+\n",
            "\n"
          ]
        }
      ],
      "source": [
        "df.filter(f.col(\"Team\").startswith(\"G\")).show()"
      ]
    },
    {
      "cell_type": "markdown",
      "metadata": {
        "id": "bL1c_CBkBo-J"
      },
      "source": [
        "### Step 12. Select the first 7 columns"
      ]
    },
    {
      "cell_type": "code",
      "execution_count": 33,
      "metadata": {
        "id": "VZRoH9YBBo-L",
        "outputId": "7e29ec5c-7dc0-41d0-b322-ef68ade0804e",
        "colab": {
          "base_uri": "https://localhost:8080/"
        }
      },
      "outputs": [
        {
          "output_type": "stream",
          "name": "stdout",
          "text": [
            "+--------------+-----+---------------+----------------+-----------------+----------------+--------------------------+------------+-------------+--------------------+------------+------+----------------+----------------+-------+-------+--------+-------------+-------+----------+-------------+-------------------+------------+------+--------------+----------+--------------------+---------+--------------+--------+------------+---------+-------+--------+------------+\n",
            "|          Team|Goals|Shots on target|Shots off target|Shooting Accuracy|% Goals-to-shots|Total shots (inc. Blocked)|Hit Woodwork|Penalty goals|Penalties not scored|Headed goals|Passes|Passes completed|Passing Accuracy|Touches|Crosses|Dribbles|Corners Taken|Tackles|Clearances|Interceptions|Clearances off line|Clean Sheets|Blocks|Goals conceded|Saves made|Saves-to-shots ratio|Fouls Won|Fouls Conceded|Offsides|Yellow Cards|Red Cards|Subs on|Subs off|Players Used|\n",
            "+--------------+-----+---------------+----------------+-----------------+----------------+--------------------------+------------+-------------+--------------------+------------+------+----------------+----------------+-------+-------+--------+-------------+-------+----------+-------------+-------------------+------------+------+--------------+----------+--------------------+---------+--------------+--------+------------+---------+-------+--------+------------+\n",
            "|       Croatia|    4|             13|              12|            51.9%|           16.0%|                        32|           0|            0|                   0|           2|  1076|             828|           76.9%|   1706|     60|      42|           14|     49|        83|           56|               null|           0|    10|             3|        13|               81.3%|       41|            62|       2|           9|        0|      9|       9|          16|\n",
            "|Czech Republic|    4|             13|              18|            41.9%|           12.9%|                        39|           0|            0|                   0|           0|  1565|            1223|           78.1%|   2358|     46|      68|           21|     62|        98|           37|                  2|           1|    10|             6|         9|               60.1%|       53|            73|       8|           7|        0|     11|      11|          19|\n",
            "|       Denmark|    4|             10|              10|            50.0%|           20.0%|                        27|           1|            0|                   0|           3|  1298|            1082|           83.3%|   1873|     43|      32|           16|     40|        61|           59|                  0|           1|    10|             5|        10|               66.7%|       25|            38|       8|           4|        0|      7|       7|          15|\n",
            "|       England|    5|             11|              18|            50.0%|           17.2%|                        40|           0|            0|                   0|           3|  1488|            1200|           80.6%|   2440|     58|      60|           16|     86|       106|           72|                  1|           2|    29|             3|        22|               88.1%|       43|            45|       6|           5|        0|     11|      11|          16|\n",
            "|        France|    3|             22|              24|            37.9%|            6.5%|                        65|           1|            0|                   0|           0|  2066|            1803|           87.2%|   2909|     55|      76|           28|     71|        76|           58|                  0|           1|     7|             5|         6|               54.6%|       36|            51|       5|           6|        0|     11|      11|          19|\n",
            "|       Germany|   10|             32|              32|            47.8%|           15.6%|                        80|           2|            1|                   0|           2|  2774|            2427|           87.4%|   3761|    101|      60|           35|     91|        73|           69|                  0|           1|    11|             6|        10|               62.6%|       63|            49|      12|           4|        0|     15|      15|          17|\n",
            "|        Greece|    5|              8|              18|            30.7%|           19.2%|                        32|           1|            1|                   1|           0|  1187|             911|           76.7%|   2016|     52|      53|           10|     65|       123|           87|                  0|           1|    23|             7|        13|               65.1%|       67|            48|      12|           9|        1|     12|      12|          20|\n",
            "+--------------+-----+---------------+----------------+-----------------+----------------+--------------------------+------------+-------------+--------------------+------------+------+----------------+----------------+-------+-------+--------+-------------+-------+----------+-------------+-------------------+------------+------+--------------+----------+--------------------+---------+--------------+--------+------------+---------+-------+--------+------------+\n",
            "\n"
          ]
        }
      ],
      "source": [
        "df.limit(7).show()"
      ]
    },
    {
      "cell_type": "markdown",
      "metadata": {
        "id": "-HC8EQZxBo-N"
      },
      "source": [
        "### Step 13. Select all columns except the last 3."
      ]
    },
    {
      "cell_type": "code",
      "execution_count": 31,
      "metadata": {
        "id": "EN3NDh7VBo-P",
        "outputId": "34f97b85-1d99-4796-ec94-d00694554475",
        "colab": {
          "base_uri": "https://localhost:8080/"
        }
      },
      "outputs": [
        {
          "output_type": "stream",
          "name": "stdout",
          "text": [
            "+-------------------+-----+---------------+----------------+-----------------+----------------+--------------------------+------------+-------------+--------------------+------------+------+----------------+----------------+-------+-------+--------+-------------+-------+----------+-------------+-------------------+------------+------+--------------+----------+--------------------+---------+--------------+--------+------------+---------+-------+--------+------------+\n",
            "|               Team|Goals|Shots on target|Shots off target|Shooting Accuracy|% Goals-to-shots|Total shots (inc. Blocked)|Hit Woodwork|Penalty goals|Penalties not scored|Headed goals|Passes|Passes completed|Passing Accuracy|Touches|Crosses|Dribbles|Corners Taken|Tackles|Clearances|Interceptions|Clearances off line|Clean Sheets|Blocks|Goals conceded|Saves made|Saves-to-shots ratio|Fouls Won|Fouls Conceded|Offsides|Yellow Cards|Red Cards|Subs on|Subs off|Players Used|\n",
            "+-------------------+-----+---------------+----------------+-----------------+----------------+--------------------------+------------+-------------+--------------------+------------+------+----------------+----------------+-------+-------+--------+-------------+-------+----------+-------------+-------------------+------------+------+--------------+----------+--------------------+---------+--------------+--------+------------+---------+-------+--------+------------+\n",
            "|            Croatia|    4|             13|              12|            51.9%|           16.0%|                        32|           0|            0|                   0|           2|  1076|             828|           76.9%|   1706|     60|      42|           14|     49|        83|           56|               null|           0|    10|             3|        13|               81.3%|       41|            62|       2|           9|        0|      9|       9|          16|\n",
            "|     Czech Republic|    4|             13|              18|            41.9%|           12.9%|                        39|           0|            0|                   0|           0|  1565|            1223|           78.1%|   2358|     46|      68|           21|     62|        98|           37|                  2|           1|    10|             6|         9|               60.1%|       53|            73|       8|           7|        0|     11|      11|          19|\n",
            "|            Denmark|    4|             10|              10|            50.0%|           20.0%|                        27|           1|            0|                   0|           3|  1298|            1082|           83.3%|   1873|     43|      32|           16|     40|        61|           59|                  0|           1|    10|             5|        10|               66.7%|       25|            38|       8|           4|        0|      7|       7|          15|\n",
            "|            England|    5|             11|              18|            50.0%|           17.2%|                        40|           0|            0|                   0|           3|  1488|            1200|           80.6%|   2440|     58|      60|           16|     86|       106|           72|                  1|           2|    29|             3|        22|               88.1%|       43|            45|       6|           5|        0|     11|      11|          16|\n",
            "|             France|    3|             22|              24|            37.9%|            6.5%|                        65|           1|            0|                   0|           0|  2066|            1803|           87.2%|   2909|     55|      76|           28|     71|        76|           58|                  0|           1|     7|             5|         6|               54.6%|       36|            51|       5|           6|        0|     11|      11|          19|\n",
            "|            Germany|   10|             32|              32|            47.8%|           15.6%|                        80|           2|            1|                   0|           2|  2774|            2427|           87.4%|   3761|    101|      60|           35|     91|        73|           69|                  0|           1|    11|             6|        10|               62.6%|       63|            49|      12|           4|        0|     15|      15|          17|\n",
            "|             Greece|    5|              8|              18|            30.7%|           19.2%|                        32|           1|            1|                   1|           0|  1187|             911|           76.7%|   2016|     52|      53|           10|     65|       123|           87|                  0|           1|    23|             7|        13|               65.1%|       67|            48|      12|           9|        1|     12|      12|          20|\n",
            "|              Italy|    6|             34|              45|            43.0%|            7.5%|                       110|           2|            0|                   0|           2|  3016|            2531|           83.9%|   4363|     75|      75|           30|     98|       137|          136|                  1|           2|    18|             7|        20|               74.1%|      101|            89|      16|          16|        0|     18|      18|          19|\n",
            "|        Netherlands|    2|             12|              36|            25.0%|            4.1%|                        60|           2|            0|                   0|           0|  1556|            1381|           88.7%|   2163|     50|      49|           22|     34|        41|           41|                  0|           0|     9|             5|        12|               70.6%|       35|            30|       3|           5|        0|      7|       7|          15|\n",
            "|             Poland|    2|             15|              23|            39.4%|            5.2%|                        48|           0|            0|                   0|           1|  1059|             852|           80.4%|   1724|     55|      39|           14|     67|        87|           62|                  0|           0|     8|             3|         6|               66.7%|       48|            56|       3|           7|        1|      7|       7|          17|\n",
            "|           Portugal|    6|             22|              42|            34.3%|            9.3%|                        82|           6|            0|                   0|           2|  1891|            1461|           77.2%|   2958|     91|      64|           41|     78|        92|           86|                  0|           2|    11|             4|        10|               71.5%|       73|            90|      10|          12|        0|     14|      14|          16|\n",
            "|Republic of Ireland|    1|              7|              12|            36.8%|            5.2%|                        28|           0|            0|                   0|           1|   851|             606|           71.2%|   1433|     43|      18|            8|     45|        78|           43|                  1|           0|    23|             9|        17|               65.4%|       43|            51|      11|           6|        1|     10|      10|          17|\n",
            "|             Russia|    5|              9|              31|            22.5%|           12.5%|                        59|           2|            0|                   0|           1|  1602|            1345|           83.9%|   2278|     40|      40|           21|     65|        74|           58|                  0|           0|     8|             3|        10|               77.0%|       34|            43|       4|           6|        0|      7|       7|          16|\n",
            "+-------------------+-----+---------------+----------------+-----------------+----------------+--------------------------+------------+-------------+--------------------+------------+------+----------------+----------------+-------+-------+--------+-------------+-------+----------+-------------+-------------------+------------+------+--------------+----------+--------------------+---------+--------------+--------+------------+---------+-------+--------+------------+\n",
            "\n"
          ]
        }
      ],
      "source": [
        "#df.tail(df.count()-3)\n",
        "df.select(\"*\").limit(df.count()-3).show()"
      ]
    },
    {
      "cell_type": "markdown",
      "metadata": {
        "id": "KRTKHa_kBo-P"
      },
      "source": [
        "### Step 14. Present only the Shooting Accuracy from England, Italy and Russia"
      ]
    },
    {
      "cell_type": "code",
      "execution_count": 35,
      "metadata": {
        "id": "lp6zChhvBo-R",
        "outputId": "1bab1361-0f50-42ed-f008-e901322ce10f",
        "colab": {
          "base_uri": "https://localhost:8080/"
        }
      },
      "outputs": [
        {
          "output_type": "stream",
          "name": "stdout",
          "text": [
            "+-------+-----------------+\n",
            "|   Team|Shooting Accuracy|\n",
            "+-------+-----------------+\n",
            "|England|            50.0%|\n",
            "|  Italy|            43.0%|\n",
            "| Russia|            22.5%|\n",
            "+-------+-----------------+\n",
            "\n"
          ]
        }
      ],
      "source": [
        "df.select(\"Team\", \"Shooting Accuracy\").filter(f.col(\"Team\").isin(\"England\", \"Italy\",\"Russia\")).show()"
      ]
    }
  ],
  "metadata": {
    "anaconda-cloud": {},
    "kernelspec": {
      "display_name": "Python [default]",
      "language": "python",
      "name": "python2"
    },
    "language_info": {
      "codemirror_mode": {
        "name": "ipython",
        "version": 2
      },
      "file_extension": ".py",
      "mimetype": "text/x-python",
      "name": "python",
      "nbconvert_exporter": "python",
      "pygments_lexer": "ipython2",
      "version": "2.7.12"
    },
    "colab": {
      "provenance": []
    }
  },
  "nbformat": 4,
  "nbformat_minor": 0
}