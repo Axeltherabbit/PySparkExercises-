{
  "cells": [
    {
      "cell_type": "markdown",
      "metadata": {
        "id": "WzBjBZ400Hyi"
      },
      "source": [
        "# Ex1 - Filtering and Sorting Data"
      ]
    },
    {
      "cell_type": "markdown",
      "metadata": {
        "id": "FHJ_RL8P0Hyl"
      },
      "source": [
        "This time we are going to pull data directly from the internet.\n",
        "Special thanks to: https://github.com/justmarkham for sharing the dataset and materials.\n",
        "\n",
        "### Step 1. Import the necessary libraries"
      ]
    },
    {
      "cell_type": "code",
      "execution_count": 1,
      "metadata": {
        "id": "Nwd6pq7E0Hym",
        "outputId": "4ae1ef0b-c80f-4c05-897a-e19bf8930d06",
        "colab": {
          "base_uri": "https://localhost:8080/"
        }
      },
      "outputs": [
        {
          "output_type": "stream",
          "name": "stdout",
          "text": [
            "Looking in indexes: https://pypi.org/simple, https://us-python.pkg.dev/colab-wheels/public/simple/\n",
            "Collecting pyspark\n",
            "  Downloading pyspark-3.3.0.tar.gz (281.3 MB)\n",
            "\u001b[K     |████████████████████████████████| 281.3 MB 43 kB/s \n",
            "\u001b[?25hCollecting py4j==0.10.9.5\n",
            "  Downloading py4j-0.10.9.5-py2.py3-none-any.whl (199 kB)\n",
            "\u001b[K     |████████████████████████████████| 199 kB 36.0 MB/s \n",
            "\u001b[?25hBuilding wheels for collected packages: pyspark\n",
            "  Building wheel for pyspark (setup.py) ... \u001b[?25l\u001b[?25hdone\n",
            "  Created wheel for pyspark: filename=pyspark-3.3.0-py2.py3-none-any.whl size=281764026 sha256=f2c0d2f86c097b500b134628aa45b0d21a5ff020cc0a0479bcf198dbe25b52c0\n",
            "  Stored in directory: /root/.cache/pip/wheels/7a/8e/1b/f73a52650d2e5f337708d9f6a1750d451a7349a867f928b885\n",
            "Successfully built pyspark\n",
            "Installing collected packages: py4j, pyspark\n",
            "Successfully installed py4j-0.10.9.5 pyspark-3.3.0\n"
          ]
        }
      ],
      "source": [
        "!pip install pyspark"
      ]
    },
    {
      "cell_type": "code",
      "source": [
        "from pyspark.sql import SparkSession, functions as f\n",
        "from pyspark.files import SparkFiles "
      ],
      "metadata": {
        "id": "c5vmoS7U0nvK"
      },
      "execution_count": 2,
      "outputs": []
    },
    {
      "cell_type": "markdown",
      "metadata": {
        "id": "Gk_TH0VD0Hym"
      },
      "source": [
        "### Step 2. Import the dataset from this [address](https://raw.githubusercontent.com/justmarkham/DAT8/master/data/chipotle.tsv). "
      ]
    },
    {
      "cell_type": "code",
      "source": [
        "url = \"https://raw.githubusercontent.com/justmarkham/DAT8/master/data/chipotle.tsv\"\n",
        "\n",
        "spark = SparkSession.Builder().appName(\"exercise21\").getOrCreate()\n",
        "\n",
        "spark.sparkContext.addFile(url)\n",
        "\n",
        "df = spark.read.csv(\"file://\"+SparkFiles.get(\"chipotle.tsv\"), sep = \"\\t\", header = True, inferSchema=True)\n",
        "df.printSchema()"
      ],
      "metadata": {
        "id": "M2UAZB-A0mbH",
        "outputId": "e178170a-ac25-4edc-861b-ebcfb64f9c7b",
        "colab": {
          "base_uri": "https://localhost:8080/"
        }
      },
      "execution_count": 48,
      "outputs": [
        {
          "output_type": "stream",
          "name": "stdout",
          "text": [
            "root\n",
            " |-- order_id: integer (nullable = true)\n",
            " |-- quantity: integer (nullable = true)\n",
            " |-- item_name: string (nullable = true)\n",
            " |-- choice_description: string (nullable = true)\n",
            " |-- item_price: string (nullable = true)\n",
            "\n"
          ]
        }
      ]
    },
    {
      "cell_type": "code",
      "source": [
        "from pyspark.sql.types import DecimalType\n",
        "\n",
        "#trimmed_col = df.select(f.cast(DoubleType, f.regexp_replace(\"item_price\", \"^\\$+\",\"\")))\n",
        "\n",
        "df = df.withColumn(\"item_price\",f.regexp_replace(\"item_price\", \"^\\$+\",\"\"))\n",
        "df = df.withColumn(\"item_price\",f.col(\"item_price\").cast(DecimalType(10,2)))"
      ],
      "metadata": {
        "id": "NzUPHjvM2bq6"
      },
      "execution_count": 50,
      "outputs": []
    },
    {
      "cell_type": "markdown",
      "metadata": {
        "id": "Jd8bfbAy0Hyn"
      },
      "source": [
        "### Step 3. Assign it to a variable called chipo."
      ]
    },
    {
      "cell_type": "code",
      "execution_count": null,
      "metadata": {
        "id": "myx8704O0Hyn"
      },
      "outputs": [],
      "source": [
        "chipo = df"
      ]
    },
    {
      "cell_type": "markdown",
      "metadata": {
        "id": "Kxiymwhe0Hyn"
      },
      "source": [
        "### Step 4. How many products cost more than $10.00?"
      ]
    },
    {
      "cell_type": "code",
      "execution_count": 52,
      "metadata": {
        "id": "e9mwKsKL0Hyo",
        "outputId": "c4eaf883-819f-4234-f999-f63f23961f00",
        "colab": {
          "base_uri": "https://localhost:8080/"
        }
      },
      "outputs": [
        {
          "output_type": "execute_result",
          "data": {
            "text/plain": [
              "1130"
            ]
          },
          "metadata": {},
          "execution_count": 52
        }
      ],
      "source": [
        "df.select(\"item_name\").filter(f.col(\"item_price\") > 10).count()"
      ]
    },
    {
      "cell_type": "markdown",
      "metadata": {
        "id": "Nb5wlCg40Hyo"
      },
      "source": [
        "### Step 5. What is the price of each item? \n",
        "###### print a data frame with only two columns item_name and item_price"
      ]
    },
    {
      "cell_type": "code",
      "execution_count": 53,
      "metadata": {
        "id": "MRkFcDYN0Hyp",
        "outputId": "2863422a-06cf-4a50-f48c-2b4457bc143c",
        "colab": {
          "base_uri": "https://localhost:8080/"
        }
      },
      "outputs": [
        {
          "output_type": "stream",
          "name": "stdout",
          "text": [
            "+--------------------+--------------------+\n",
            "|           item_name|           item_name|\n",
            "+--------------------+--------------------+\n",
            "|Chips and Fresh T...|Chips and Fresh T...|\n",
            "|                Izze|                Izze|\n",
            "|    Nantucket Nectar|    Nantucket Nectar|\n",
            "|Chips and Tomatil...|Chips and Tomatil...|\n",
            "|        Chicken Bowl|        Chicken Bowl|\n",
            "|        Chicken Bowl|        Chicken Bowl|\n",
            "|       Side of Chips|       Side of Chips|\n",
            "|       Steak Burrito|       Steak Burrito|\n",
            "|    Steak Soft Tacos|    Steak Soft Tacos|\n",
            "|       Steak Burrito|       Steak Burrito|\n",
            "| Chips and Guacamole| Chips and Guacamole|\n",
            "|Chicken Crispy Tacos|Chicken Crispy Tacos|\n",
            "|  Chicken Soft Tacos|  Chicken Soft Tacos|\n",
            "|        Chicken Bowl|        Chicken Bowl|\n",
            "| Chips and Guacamole| Chips and Guacamole|\n",
            "|Chips and Tomatil...|Chips and Tomatil...|\n",
            "|     Chicken Burrito|     Chicken Burrito|\n",
            "|     Chicken Burrito|     Chicken Burrito|\n",
            "|         Canned Soda|         Canned Soda|\n",
            "|        Chicken Bowl|        Chicken Bowl|\n",
            "+--------------------+--------------------+\n",
            "only showing top 20 rows\n",
            "\n"
          ]
        }
      ],
      "source": [
        "df.select(\"item_name\", \"item_name\").show()"
      ]
    },
    {
      "cell_type": "markdown",
      "metadata": {
        "id": "nc35rlsr0Hyp"
      },
      "source": [
        "### Step 6. Sort by the name of the item"
      ]
    },
    {
      "cell_type": "code",
      "execution_count": 57,
      "metadata": {
        "id": "SRULkgrS0Hyp",
        "outputId": "1abc3efa-823e-42bc-d12d-db05fb7df376",
        "colab": {
          "base_uri": "https://localhost:8080/"
        }
      },
      "outputs": [
        {
          "output_type": "stream",
          "name": "stdout",
          "text": [
            "+--------------------+\n",
            "|           item_name|\n",
            "+--------------------+\n",
            "|   6 Pack Soft Drink|\n",
            "|       Barbacoa Bowl|\n",
            "|    Barbacoa Burrito|\n",
            "|Barbacoa Crispy T...|\n",
            "| Barbacoa Salad Bowl|\n",
            "| Barbacoa Soft Tacos|\n",
            "|       Bottled Water|\n",
            "|                Bowl|\n",
            "|             Burrito|\n",
            "|         Canned Soda|\n",
            "|   Canned Soft Drink|\n",
            "|       Carnitas Bowl|\n",
            "|    Carnitas Burrito|\n",
            "|Carnitas Crispy T...|\n",
            "|      Carnitas Salad|\n",
            "| Carnitas Salad Bowl|\n",
            "| Carnitas Soft Tacos|\n",
            "|        Chicken Bowl|\n",
            "|     Chicken Burrito|\n",
            "|Chicken Crispy Tacos|\n",
            "+--------------------+\n",
            "only showing top 20 rows\n",
            "\n"
          ]
        }
      ],
      "source": [
        "df.select(\"item_name\").distinct().sort(\"item_name\").show()"
      ]
    },
    {
      "cell_type": "markdown",
      "metadata": {
        "id": "J0PjQNzx0Hyp"
      },
      "source": [
        "### Step 7. What was the quantity of the most expensive item ordered?"
      ]
    },
    {
      "cell_type": "code",
      "execution_count": 63,
      "metadata": {
        "id": "vBkluZBg0Hyp",
        "outputId": "5c9b7336-2dee-48d5-9fd0-a222764e7b19",
        "colab": {
          "base_uri": "https://localhost:8080/"
        }
      },
      "outputs": [
        {
          "output_type": "stream",
          "name": "stdout",
          "text": [
            "+--------------------+--------+\n",
            "|           item_name|quantity|\n",
            "+--------------------+--------+\n",
            "|Chips and Fresh T...|      15|\n",
            "+--------------------+--------+\n",
            "\n"
          ]
        }
      ],
      "source": [
        "df.select(\"item_name\", \"quantity\").filter(f.col(\"quantity\") == df.select(f.max(\"quantity\")).collect()[0][0]).show()"
      ]
    },
    {
      "cell_type": "markdown",
      "metadata": {
        "id": "LVIeAeME0Hyq"
      },
      "source": [
        "### Step 8. How many times was a Veggie Salad Bowl ordered?\n",
        "\n",
        "> Indented block\n",
        "\n"
      ]
    },
    {
      "cell_type": "code",
      "execution_count": 68,
      "metadata": {
        "id": "nOOQVKcS0Hyq",
        "outputId": "8ac3e525-8804-4087-f529-f5b1ea9547b9",
        "colab": {
          "base_uri": "https://localhost:8080/"
        }
      },
      "outputs": [
        {
          "output_type": "stream",
          "name": "stdout",
          "text": [
            "+-----------------+-------------+\n",
            "|        item_name|sum(quantity)|\n",
            "+-----------------+-------------+\n",
            "|Veggie Salad Bowl|           18|\n",
            "+-----------------+-------------+\n",
            "\n"
          ]
        }
      ],
      "source": [
        "df.groupBy(\"item_name\").sum(\"quantity\").where(df.item_name.like(\"Veggie Salad Bowl\")).show()"
      ]
    },
    {
      "cell_type": "markdown",
      "metadata": {
        "id": "iAsJ71Hn0Hyq"
      },
      "source": [
        "### Step 9. How many times did someone order more than one Canned Soda?"
      ]
    },
    {
      "cell_type": "code",
      "execution_count": 89,
      "metadata": {
        "id": "f6lW3aqv0Hyq",
        "outputId": "935a386a-fa38-46c4-8c4e-ba1bfccf787d",
        "colab": {
          "base_uri": "https://localhost:8080/"
        }
      },
      "outputs": [
        {
          "output_type": "stream",
          "name": "stdout",
          "text": [
            "+-------------+\n",
            "|sum(quantity)|\n",
            "+-------------+\n",
            "|           42|\n",
            "+-------------+\n",
            "\n"
          ]
        }
      ],
      "source": [
        "df.filter((f.col(\"quantity\") > 1) \\\n",
        "            & (f.col(\"item_name\").like(\"Canned Soda\")) \\\n",
        "          ).select(f.sum(\"quantity\")).show()"
      ]
    }
  ],
  "metadata": {
    "kernelspec": {
      "display_name": "Python 2",
      "language": "python",
      "name": "python2"
    },
    "language_info": {
      "codemirror_mode": {
        "name": "ipython",
        "version": 2
      },
      "file_extension": ".py",
      "mimetype": "text/x-python",
      "name": "python",
      "nbconvert_exporter": "python",
      "pygments_lexer": "ipython2",
      "version": "2.7.11"
    },
    "colab": {
      "provenance": []
    }
  },
  "nbformat": 4,
  "nbformat_minor": 0
}