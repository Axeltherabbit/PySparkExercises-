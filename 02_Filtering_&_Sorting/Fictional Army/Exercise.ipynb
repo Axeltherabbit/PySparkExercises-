{
  "cells": [
    {
      "cell_type": "markdown",
      "metadata": {
        "id": "5nnnutXzMDgL"
      },
      "source": [
        "# Fictional Army - Filtering and Sorting"
      ]
    },
    {
      "cell_type": "markdown",
      "metadata": {
        "id": "Vd6dmNRaMDgR"
      },
      "source": [
        "### Introduction:\n",
        "\n",
        "This exercise was inspired by this [page](http://chrisalbon.com/python/)\n",
        "\n",
        "Special thanks to: https://github.com/chrisalbon for sharing the dataset and materials.\n",
        "\n",
        "### Step 1. Import the necessary libraries"
      ]
    },
    {
      "cell_type": "code",
      "source": [
        "!pip install pyspark"
      ],
      "metadata": {
        "id": "by2n1z1BMPvj",
        "outputId": "7ef258de-f3bc-4f0b-cf0a-e5a243da1063",
        "colab": {
          "base_uri": "https://localhost:8080/"
        }
      },
      "execution_count": 1,
      "outputs": [
        {
          "output_type": "stream",
          "name": "stdout",
          "text": [
            "Looking in indexes: https://pypi.org/simple, https://us-python.pkg.dev/colab-wheels/public/simple/\n",
            "Collecting pyspark\n",
            "  Downloading pyspark-3.3.0.tar.gz (281.3 MB)\n",
            "\u001b[K     |████████████████████████████████| 281.3 MB 45 kB/s \n",
            "\u001b[?25hCollecting py4j==0.10.9.5\n",
            "  Downloading py4j-0.10.9.5-py2.py3-none-any.whl (199 kB)\n",
            "\u001b[K     |████████████████████████████████| 199 kB 52.9 MB/s \n",
            "\u001b[?25hBuilding wheels for collected packages: pyspark\n",
            "  Building wheel for pyspark (setup.py) ... \u001b[?25l\u001b[?25hdone\n",
            "  Created wheel for pyspark: filename=pyspark-3.3.0-py2.py3-none-any.whl size=281764026 sha256=eeeb8e3747b9c5739860a8420f569024e9fad7d41b8ccabc64c45977f4b88aaa\n",
            "  Stored in directory: /root/.cache/pip/wheels/7a/8e/1b/f73a52650d2e5f337708d9f6a1750d451a7349a867f928b885\n",
            "Successfully built pyspark\n",
            "Installing collected packages: py4j, pyspark\n",
            "Successfully installed py4j-0.10.9.5 pyspark-3.3.0\n"
          ]
        }
      ]
    },
    {
      "cell_type": "code",
      "execution_count": 16,
      "metadata": {
        "id": "DQGqZH1FMDgT"
      },
      "outputs": [],
      "source": [
        "from pyspark.sql import SparkSession, functions as f\n",
        "from pyspark.sql.types import StructType, StringType, StructField, List"
      ]
    },
    {
      "cell_type": "markdown",
      "metadata": {
        "id": "4W1axwljMDgV"
      },
      "source": [
        "### Step 2. This is the data given as a dictionary"
      ]
    },
    {
      "cell_type": "code",
      "execution_count": 4,
      "metadata": {
        "collapsed": true,
        "id": "EEZb0h-jMDgW"
      },
      "outputs": [],
      "source": [
        "# Create an example dataframe about a fictional army\n",
        "raw_data = {'regiment': ['Nighthawks', 'Nighthawks', 'Nighthawks', 'Nighthawks', 'Dragoons', 'Dragoons', 'Dragoons', 'Dragoons', 'Scouts', 'Scouts', 'Scouts', 'Scouts'],\n",
        "            'company': ['1st', '1st', '2nd', '2nd', '1st', '1st', '2nd', '2nd','1st', '1st', '2nd', '2nd'],\n",
        "            'deaths': [523, 52, 25, 616, 43, 234, 523, 62, 62, 73, 37, 35],\n",
        "            'battles': [5, 42, 2, 2, 4, 7, 8, 3, 4, 7, 8, 9],\n",
        "            'size': [1045, 957, 1099, 1400, 1592, 1006, 987, 849, 973, 1005, 1099, 1523],\n",
        "            'veterans': [1, 5, 62, 26, 73, 37, 949, 48, 48, 435, 63, 345],\n",
        "            'readiness': [1, 2, 3, 3, 2, 1, 2, 3, 2, 1, 2, 3],\n",
        "            'armored': [1, 0, 1, 1, 0, 1, 0, 1, 0, 0, 1, 1],\n",
        "            'deserters': [4, 24, 31, 2, 3, 4, 24, 31, 2, 3, 2, 3],\n",
        "            'origin': ['Arizona', 'California', 'Texas', 'Florida', 'Maine', 'Iowa', 'Alaska', 'Washington', 'Oregon', 'Wyoming', 'Louisana', 'Georgia']}"
      ]
    },
    {
      "cell_type": "markdown",
      "metadata": {
        "id": "weqY8nwNMDgX"
      },
      "source": [
        "### Step 3. Create a dataframe and assign it to a variable called army. \n",
        "\n",
        "#### Don't forget to include the columns names in the order presented in the dictionary ('regiment', 'company', 'deaths'...) so that the column index order is consistent with the solutions. If omitted, pandas will order the columns alphabetically."
      ]
    },
    {
      "cell_type": "code",
      "execution_count": 33,
      "metadata": {
        "id": "PGsdqmFxMDgX",
        "outputId": "9efab374-f84d-434d-de83-f0b821f168d8",
        "colab": {
          "base_uri": "https://localhost:8080/"
        }
      },
      "outputs": [
        {
          "output_type": "stream",
          "name": "stdout",
          "text": [
            "+----------+-------+------+-------+----+--------+---------+-------+---------+----------+\n",
            "|  regiment|company|deaths|battles|size|veterans|readiness|armored|deserters|    origin|\n",
            "+----------+-------+------+-------+----+--------+---------+-------+---------+----------+\n",
            "|Nighthawks|    1st|   523|      5|1045|       1|        1|      1|        4|   Arizona|\n",
            "|Nighthawks|    1st|    52|     42| 957|       5|        2|      0|       24|California|\n",
            "|Nighthawks|    2nd|    25|      2|1099|      62|        3|      1|       31|     Texas|\n",
            "|Nighthawks|    2nd|   616|      2|1400|      26|        3|      1|        2|   Florida|\n",
            "|  Dragoons|    1st|    43|      4|1592|      73|        2|      0|        3|     Maine|\n",
            "|  Dragoons|    1st|   234|      7|1006|      37|        1|      1|        4|      Iowa|\n",
            "|  Dragoons|    2nd|   523|      8| 987|     949|        2|      0|       24|    Alaska|\n",
            "|  Dragoons|    2nd|    62|      3| 849|      48|        3|      1|       31|Washington|\n",
            "|    Scouts|    1st|    62|      4| 973|      48|        2|      0|        2|    Oregon|\n",
            "|    Scouts|    1st|    73|      7|1005|     435|        1|      0|        3|   Wyoming|\n",
            "|    Scouts|    2nd|    37|      8|1099|      63|        2|      1|        2|  Louisana|\n",
            "|    Scouts|    2nd|    35|      9|1523|     345|        3|      1|        3|   Georgia|\n",
            "+----------+-------+------+-------+----+--------+---------+-------+---------+----------+\n",
            "\n"
          ]
        }
      ],
      "source": [
        "spark = SparkSession.builder.appName(\"exercise23\").getOrCreate()\n",
        "\n",
        "columns = list(raw_data.keys())\n",
        "data = [[*vals] for vals in zip(*raw_data.values())]\n",
        "\n",
        "df = spark.createDataFrame(data, columns)"
      ]
    },
    {
      "cell_type": "markdown",
      "metadata": {
        "id": "dF3nN15wMDgX"
      },
      "source": [
        "### Step 4. Set the 'origin' colum as the index of the dataframe"
      ]
    },
    {
      "cell_type": "code",
      "execution_count": null,
      "metadata": {
        "id": "CgWFegRQMDgY"
      },
      "outputs": [],
      "source": []
    },
    {
      "cell_type": "markdown",
      "metadata": {
        "id": "ps11bKjrMDgY"
      },
      "source": [
        "### Step 5. Print only the column veterans"
      ]
    },
    {
      "cell_type": "code",
      "execution_count": 35,
      "metadata": {
        "id": "R-_eQHfUMDgZ",
        "outputId": "55ef8b65-e742-4485-bad8-7d7dcf0a9627",
        "colab": {
          "base_uri": "https://localhost:8080/"
        }
      },
      "outputs": [
        {
          "output_type": "stream",
          "name": "stdout",
          "text": [
            "+--------+\n",
            "|veterans|\n",
            "+--------+\n",
            "|       1|\n",
            "|       5|\n",
            "|      62|\n",
            "|      26|\n",
            "|      73|\n",
            "|      37|\n",
            "|     949|\n",
            "|      48|\n",
            "|      48|\n",
            "|     435|\n",
            "|      63|\n",
            "|     345|\n",
            "+--------+\n",
            "\n"
          ]
        }
      ],
      "source": [
        "df.select(\"veterans\").show()"
      ]
    },
    {
      "cell_type": "markdown",
      "metadata": {
        "id": "t2exqo9fMDgZ"
      },
      "source": [
        "### Step 6. Print the columns 'veterans' and 'deaths'"
      ]
    },
    {
      "cell_type": "code",
      "execution_count": 36,
      "metadata": {
        "id": "OMU1bp2CMDgZ",
        "outputId": "e7ce4cd7-65cb-4000-f5b3-5c7bb241b219",
        "colab": {
          "base_uri": "https://localhost:8080/"
        }
      },
      "outputs": [
        {
          "output_type": "stream",
          "name": "stdout",
          "text": [
            "+--------+------+\n",
            "|veterans|deaths|\n",
            "+--------+------+\n",
            "|       1|   523|\n",
            "|       5|    52|\n",
            "|      62|    25|\n",
            "|      26|   616|\n",
            "|      73|    43|\n",
            "|      37|   234|\n",
            "|     949|   523|\n",
            "|      48|    62|\n",
            "|      48|    62|\n",
            "|     435|    73|\n",
            "|      63|    37|\n",
            "|     345|    35|\n",
            "+--------+------+\n",
            "\n"
          ]
        }
      ],
      "source": [
        "df.select(\"veterans\", \"deaths\").show()"
      ]
    },
    {
      "cell_type": "markdown",
      "metadata": {
        "id": "bX_zbt4YMDga"
      },
      "source": [
        "### Step 7. Print the name of all the columns."
      ]
    },
    {
      "cell_type": "code",
      "execution_count": 37,
      "metadata": {
        "id": "IoXeM4xeMDga",
        "outputId": "be8d3183-03c6-499a-f560-2a521e11535e",
        "colab": {
          "base_uri": "https://localhost:8080/"
        }
      },
      "outputs": [
        {
          "output_type": "execute_result",
          "data": {
            "text/plain": [
              "['regiment',\n",
              " 'company',\n",
              " 'deaths',\n",
              " 'battles',\n",
              " 'size',\n",
              " 'veterans',\n",
              " 'readiness',\n",
              " 'armored',\n",
              " 'deserters',\n",
              " 'origin']"
            ]
          },
          "metadata": {},
          "execution_count": 37
        }
      ],
      "source": [
        "df.columns"
      ]
    },
    {
      "cell_type": "markdown",
      "metadata": {
        "id": "k2L6_PJAMDga"
      },
      "source": [
        "### Step 8. Select the 'deaths', 'size' and 'deserters' columns from Maine and Alaska"
      ]
    },
    {
      "cell_type": "code",
      "execution_count": 42,
      "metadata": {
        "id": "qioWQ2d0MDga",
        "outputId": "5e4db3ec-22ae-484c-e688-655d6dc51f2c",
        "colab": {
          "base_uri": "https://localhost:8080/"
        }
      },
      "outputs": [
        {
          "output_type": "stream",
          "name": "stdout",
          "text": [
            "+----------+------+----+---------+\n",
            "|    origin|deaths|size|deserters|\n",
            "+----------+------+----+---------+\n",
            "|   Arizona|   523|1045|        4|\n",
            "|California|    52| 957|       24|\n",
            "|     Texas|    25|1099|       31|\n",
            "|   Florida|   616|1400|        2|\n",
            "|      Iowa|   234|1006|        4|\n",
            "|Washington|    62| 849|       31|\n",
            "|    Oregon|    62| 973|        2|\n",
            "|   Wyoming|    73|1005|        3|\n",
            "|  Louisana|    37|1099|        2|\n",
            "|   Georgia|    35|1523|        3|\n",
            "+----------+------+----+---------+\n",
            "\n"
          ]
        }
      ],
      "source": [
        "df.filter(~f.col(\"origin\").isin(\"Maine\", \"Alaska\")).select(\"origin\", \"deaths\", \"size\", \"deserters\").show()"
      ]
    },
    {
      "cell_type": "markdown",
      "metadata": {
        "id": "XK9xVEsPMDga"
      },
      "source": [
        "### Step 9. Select the rows 3 to 7 and the columns 3 to 6"
      ]
    },
    {
      "cell_type": "code",
      "execution_count": 55,
      "metadata": {
        "id": "NpC0bdDqMDgb",
        "outputId": "0b90a347-59d5-4889-9ff8-9a17ae556041",
        "colab": {
          "base_uri": "https://localhost:8080/"
        }
      },
      "outputs": [
        {
          "output_type": "stream",
          "name": "stdout",
          "text": [
            "(2, 1099, 62, 3)\n",
            "(2, 1400, 26, 3)\n",
            "(4, 1592, 73, 2)\n",
            "(7, 1006, 37, 1)\n",
            "(8, 987, 949, 2)\n"
          ]
        }
      ],
      "source": [
        "for row in df.limit(7).tail(5):\n",
        "  print(row[3:7])"
      ]
    },
    {
      "cell_type": "markdown",
      "metadata": {
        "id": "7RBzMTdBMDgb"
      },
      "source": [
        "### Step 10. Select every row after the fourth row and all columns"
      ]
    },
    {
      "cell_type": "code",
      "execution_count": null,
      "metadata": {
        "id": "6fEYlgJpMDgb"
      },
      "outputs": [],
      "source": []
    },
    {
      "cell_type": "markdown",
      "metadata": {
        "id": "iUW_7AAAMDgb"
      },
      "source": [
        "### Step 11. Select every row up to the 4th row and all columns"
      ]
    },
    {
      "cell_type": "code",
      "execution_count": null,
      "metadata": {
        "id": "dANveOk8MDgb"
      },
      "outputs": [],
      "source": []
    },
    {
      "cell_type": "markdown",
      "metadata": {
        "id": "sL_a_vVNMDgb"
      },
      "source": [
        "### Step 12. Select the 3rd column up to the 7th column"
      ]
    },
    {
      "cell_type": "code",
      "execution_count": null,
      "metadata": {
        "id": "ZcovBtFNMDgc"
      },
      "outputs": [],
      "source": []
    },
    {
      "cell_type": "markdown",
      "metadata": {
        "id": "VLG68cByMDgc"
      },
      "source": [
        "### Step 13. Select rows where df.deaths is greater than 50"
      ]
    },
    {
      "cell_type": "code",
      "execution_count": null,
      "metadata": {
        "id": "YGS_ZBs-MDgc"
      },
      "outputs": [],
      "source": []
    },
    {
      "cell_type": "markdown",
      "metadata": {
        "id": "pchBACaMMDgc"
      },
      "source": [
        "### Step 14. Select rows where df.deaths is greater than 500 or less than 50"
      ]
    },
    {
      "cell_type": "code",
      "execution_count": null,
      "metadata": {
        "id": "tFVGPONqMDgc"
      },
      "outputs": [],
      "source": []
    },
    {
      "cell_type": "markdown",
      "metadata": {
        "id": "JqiGnf0YMDgc"
      },
      "source": [
        "### Step 15. Select all the regiments not named \"Dragoons\""
      ]
    },
    {
      "cell_type": "code",
      "execution_count": null,
      "metadata": {
        "id": "fqjshsjyMDgc"
      },
      "outputs": [],
      "source": []
    },
    {
      "cell_type": "markdown",
      "metadata": {
        "id": "r_afCW87MDgc"
      },
      "source": [
        "### Step 16. Select the rows called Texas and Arizona"
      ]
    },
    {
      "cell_type": "code",
      "execution_count": null,
      "metadata": {
        "id": "X-KZxolGMDgc"
      },
      "outputs": [],
      "source": []
    },
    {
      "cell_type": "markdown",
      "metadata": {
        "id": "K-MTOghxMDgd"
      },
      "source": [
        "### Step 17. Select the third cell in the row named Arizona"
      ]
    },
    {
      "cell_type": "code",
      "execution_count": null,
      "metadata": {
        "id": "gnXliU_jMDgd"
      },
      "outputs": [],
      "source": []
    },
    {
      "cell_type": "markdown",
      "metadata": {
        "id": "qHUA0ukOMDgd"
      },
      "source": [
        "### Step 18. Select the third cell down in the column named deaths"
      ]
    },
    {
      "cell_type": "code",
      "execution_count": null,
      "metadata": {
        "id": "W6hkWNQzMDgd"
      },
      "outputs": [],
      "source": []
    }
  ],
  "metadata": {
    "kernelspec": {
      "display_name": "Python 3",
      "language": "python",
      "name": "python3"
    },
    "language_info": {
      "codemirror_mode": {
        "name": "ipython",
        "version": 3
      },
      "file_extension": ".py",
      "mimetype": "text/x-python",
      "name": "python",
      "nbconvert_exporter": "python",
      "pygments_lexer": "ipython3",
      "version": "3.7.3"
    },
    "colab": {
      "provenance": []
    }
  },
  "nbformat": 4,
  "nbformat_minor": 0
}