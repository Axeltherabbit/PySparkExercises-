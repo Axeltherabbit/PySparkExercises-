{
  "cells": [
    {
      "cell_type": "markdown",
      "metadata": {
        "id": "utVVLCXzhyir"
      },
      "source": [
        "# MPG Cars"
      ]
    },
    {
      "cell_type": "markdown",
      "metadata": {
        "id": "piws8uS9hyi0"
      },
      "source": [
        "### Introduction:\n",
        "\n",
        "The following exercise utilizes data from [UC Irvine Machine Learning Repository](https://archive.ics.uci.edu/ml/datasets/Auto+MPG)\n",
        "\n",
        "### Step 1. Import the necessary libraries"
      ]
    },
    {
      "cell_type": "code",
      "execution_count": 1,
      "metadata": {
        "id": "-Ky4ACQvhyi2",
        "outputId": "c84e0832-64b2-4de3-cfba-563ad320946c",
        "colab": {
          "base_uri": "https://localhost:8080/"
        }
      },
      "outputs": [
        {
          "output_type": "stream",
          "name": "stdout",
          "text": [
            "Looking in indexes: https://pypi.org/simple, https://us-python.pkg.dev/colab-wheels/public/simple/\n",
            "Collecting pyspark\n",
            "  Downloading pyspark-3.3.0.tar.gz (281.3 MB)\n",
            "\u001b[K     |████████████████████████████████| 281.3 MB 43 kB/s \n",
            "\u001b[33mWARNING: Retrying (Retry(total=4, connect=None, read=None, redirect=None, status=None)) after connection broken by 'ProtocolError('Connection aborted.', ConnectionResetError(104, 'Connection reset by peer'))': /simple/py4j/\u001b[0m\n",
            "\u001b[?25hCollecting py4j==0.10.9.5\n",
            "  Downloading py4j-0.10.9.5-py2.py3-none-any.whl (199 kB)\n",
            "\u001b[K     |████████████████████████████████| 199 kB 44.9 MB/s \n",
            "\u001b[?25hBuilding wheels for collected packages: pyspark\n",
            "  Building wheel for pyspark (setup.py) ... \u001b[?25l\u001b[?25hdone\n",
            "  Created wheel for pyspark: filename=pyspark-3.3.0-py2.py3-none-any.whl size=281764026 sha256=bbe2901c49eeb8a66a5ab2a1434e436f1bf9ee3742b01bc9a1d29c0734e6cc81\n",
            "  Stored in directory: /root/.cache/pip/wheels/7a/8e/1b/f73a52650d2e5f337708d9f6a1750d451a7349a867f928b885\n",
            "Successfully built pyspark\n",
            "Installing collected packages: py4j, pyspark\n",
            "Successfully installed py4j-0.10.9.5 pyspark-3.3.0\n"
          ]
        }
      ],
      "source": [
        "!pip install pyspark"
      ]
    },
    {
      "cell_type": "code",
      "source": [
        "from pyspark.sql import SparkSession, functions as f\n",
        "from pyspark.sql.types import IntegerType\n",
        "from pyspark.files import SparkFiles"
      ],
      "metadata": {
        "id": "j4l5_nbjh4Wy"
      },
      "execution_count": 23,
      "outputs": []
    },
    {
      "cell_type": "markdown",
      "metadata": {
        "id": "wErb7a6Uhyi6"
      },
      "source": [
        "### Step 2. Import the first dataset [cars1](https://raw.githubusercontent.com/guipsamora/pandas_exercises/master/05_Merge/Auto_MPG/cars1.csv) and [cars2](https://raw.githubusercontent.com/guipsamora/pandas_exercises/master/05_Merge/Auto_MPG/cars2.csv).  "
      ]
    },
    {
      "cell_type": "code",
      "source": [
        "url1 = \"https://raw.githubusercontent.com/guipsamora/pandas_exercises/master/05_Merge/Auto_MPG/cars1.csv\"\n",
        "url2 = \"https://raw.githubusercontent.com/guipsamora/pandas_exercises/master/05_Merge/Auto_MPG/cars2.csv\"\n",
        "\n",
        "spark = SparkSession.builder.appName(\"Exercise51\").getOrCreate()\n",
        "spark.sparkContext.addFile(url1)\n",
        "spark.sparkContext.addFile(url2)"
      ],
      "metadata": {
        "id": "0Ij6U3Tph-nI"
      },
      "execution_count": 5,
      "outputs": []
    },
    {
      "cell_type": "markdown",
      "metadata": {
        "id": "5n78y-fghyi8"
      },
      "source": [
        "   ### Step 3. Assign each to a variable called cars1 and cars2"
      ]
    },
    {
      "cell_type": "code",
      "execution_count": 9,
      "metadata": {
        "id": "C-v7Jiokhyi-"
      },
      "outputs": [],
      "source": [
        "cars1 = spark.read.csv(\"file://\"+SparkFiles.get(\"cars1.csv\"), header=True, inferSchema=True)\n",
        "cars2 = spark.read.csv(\"file://\"+SparkFiles.get(\"cars2.csv\"), header=True, inferSchema=True)"
      ]
    },
    {
      "cell_type": "markdown",
      "metadata": {
        "id": "pZDSk02shyi_"
      },
      "source": [
        "### Step 4. Oops, it seems our first dataset has some unnamed blank columns, fix cars1"
      ]
    },
    {
      "cell_type": "code",
      "execution_count": 13,
      "metadata": {
        "id": "yIeCAuwrhyjB",
        "outputId": "6e31b563-524d-413b-c494-fd6197f3c37f",
        "colab": {
          "base_uri": "https://localhost:8080/"
        }
      },
      "outputs": [
        {
          "output_type": "stream",
          "name": "stdout",
          "text": [
            "+----+---------+------------+----------+------+------------+-----+------+--------------------+----+----+----+----+----+\n",
            "| mpg|cylinders|displacement|horsepower|weight|acceleration|model|origin|                 car| _c9|_c10|_c11|_c12|_c13|\n",
            "+----+---------+------------+----------+------+------------+-----+------+--------------------+----+----+----+----+----+\n",
            "|18.0|        8|         307|       130|  3504|        12.0|   70|     1|chevrolet chevell...|null|null|null|null|null|\n",
            "|15.0|        8|         350|       165|  3693|        11.5|   70|     1|   buick skylark 320|null|null|null|null|null|\n",
            "|18.0|        8|         318|       150|  3436|        11.0|   70|     1|  plymouth satellite|null|null|null|null|null|\n",
            "|16.0|        8|         304|       150|  3433|        12.0|   70|     1|       amc rebel sst|null|null|null|null|null|\n",
            "|17.0|        8|         302|       140|  3449|        10.5|   70|     1|         ford torino|null|null|null|null|null|\n",
            "|15.0|        8|         429|       198|  4341|        10.0|   70|     1|    ford galaxie 500|null|null|null|null|null|\n",
            "|14.0|        8|         454|       220|  4354|         9.0|   70|     1|    chevrolet impala|null|null|null|null|null|\n",
            "|14.0|        8|         440|       215|  4312|         8.5|   70|     1|   plymouth fury iii|null|null|null|null|null|\n",
            "|14.0|        8|         455|       225|  4425|        10.0|   70|     1|    pontiac catalina|null|null|null|null|null|\n",
            "|15.0|        8|         390|       190|  3850|         8.5|   70|     1|  amc ambassador dpl|null|null|null|null|null|\n",
            "|15.0|        8|         383|       170|  3563|        10.0|   70|     1| dodge challenger se|null|null|null|null|null|\n",
            "|14.0|        8|         340|       160|  3609|         8.0|   70|     1|  plymouth 'cuda 340|null|null|null|null|null|\n",
            "|15.0|        8|         400|       150|  3761|         9.5|   70|     1|chevrolet monte c...|null|null|null|null|null|\n",
            "|14.0|        8|         455|       225|  3086|        10.0|   70|     1|buick estate wago...|null|null|null|null|null|\n",
            "|24.0|        4|         113|        95|  2372|        15.0|   70|     3|toyota corona mar...|null|null|null|null|null|\n",
            "|22.0|        6|         198|        95|  2833|        15.5|   70|     1|     plymouth duster|null|null|null|null|null|\n",
            "|18.0|        6|         199|        97|  2774|        15.5|   70|     1|          amc hornet|null|null|null|null|null|\n",
            "|21.0|        6|         200|        85|  2587|        16.0|   70|     1|       ford maverick|null|null|null|null|null|\n",
            "|27.0|        4|          97|        88|  2130|        14.5|   70|     3|        datsun pl510|null|null|null|null|null|\n",
            "|26.0|        4|          97|        46|  1835|        20.5|   70|     2|volkswagen 1131 d...|null|null|null|null|null|\n",
            "+----+---------+------------+----------+------+------------+-----+------+--------------------+----+----+----+----+----+\n",
            "only showing top 20 rows\n",
            "\n",
            "+----+---------+------------+----------+------+------------+-----+------+--------------------+\n",
            "| mpg|cylinders|displacement|horsepower|weight|acceleration|model|origin|                 car|\n",
            "+----+---------+------------+----------+------+------------+-----+------+--------------------+\n",
            "|18.0|        8|         307|       130|  3504|        12.0|   70|     1|chevrolet chevell...|\n",
            "|15.0|        8|         350|       165|  3693|        11.5|   70|     1|   buick skylark 320|\n",
            "|18.0|        8|         318|       150|  3436|        11.0|   70|     1|  plymouth satellite|\n",
            "|16.0|        8|         304|       150|  3433|        12.0|   70|     1|       amc rebel sst|\n",
            "|17.0|        8|         302|       140|  3449|        10.5|   70|     1|         ford torino|\n",
            "|15.0|        8|         429|       198|  4341|        10.0|   70|     1|    ford galaxie 500|\n",
            "|14.0|        8|         454|       220|  4354|         9.0|   70|     1|    chevrolet impala|\n",
            "|14.0|        8|         440|       215|  4312|         8.5|   70|     1|   plymouth fury iii|\n",
            "|14.0|        8|         455|       225|  4425|        10.0|   70|     1|    pontiac catalina|\n",
            "|15.0|        8|         390|       190|  3850|         8.5|   70|     1|  amc ambassador dpl|\n",
            "|15.0|        8|         383|       170|  3563|        10.0|   70|     1| dodge challenger se|\n",
            "|14.0|        8|         340|       160|  3609|         8.0|   70|     1|  plymouth 'cuda 340|\n",
            "|15.0|        8|         400|       150|  3761|         9.5|   70|     1|chevrolet monte c...|\n",
            "|14.0|        8|         455|       225|  3086|        10.0|   70|     1|buick estate wago...|\n",
            "|24.0|        4|         113|        95|  2372|        15.0|   70|     3|toyota corona mar...|\n",
            "|22.0|        6|         198|        95|  2833|        15.5|   70|     1|     plymouth duster|\n",
            "|18.0|        6|         199|        97|  2774|        15.5|   70|     1|          amc hornet|\n",
            "|21.0|        6|         200|        85|  2587|        16.0|   70|     1|       ford maverick|\n",
            "|27.0|        4|          97|        88|  2130|        14.5|   70|     3|        datsun pl510|\n",
            "|26.0|        4|          97|        46|  1835|        20.5|   70|     2|volkswagen 1131 d...|\n",
            "+----+---------+------------+----------+------+------------+-----+------+--------------------+\n",
            "only showing top 20 rows\n",
            "\n"
          ]
        }
      ],
      "source": [
        "cars1.show()\n",
        "idx_car = cars1.columns.index(\"car\")\n",
        "cars1 = cars1.drop(*cars1.columns[idx_car+1:])\n",
        "cars1.show()"
      ]
    },
    {
      "cell_type": "markdown",
      "metadata": {
        "id": "mYTuT_9whyjB"
      },
      "source": [
        "### Step 5. What is the number of observations in each dataset?"
      ]
    },
    {
      "cell_type": "code",
      "execution_count": 15,
      "metadata": {
        "id": "6PzlThhXhyjC",
        "outputId": "0e388053-21ba-4aa3-8c93-f4f6d5655d44",
        "colab": {
          "base_uri": "https://localhost:8080/"
        }
      },
      "outputs": [
        {
          "output_type": "execute_result",
          "data": {
            "text/plain": [
              "(198, 200)"
            ]
          },
          "metadata": {},
          "execution_count": 15
        }
      ],
      "source": [
        "cars1.count(), cars2.count()"
      ]
    },
    {
      "cell_type": "markdown",
      "metadata": {
        "id": "-tT6YK45hyjD"
      },
      "source": [
        "### Step 6. Join cars1 and cars2 into a single DataFrame called cars"
      ]
    },
    {
      "cell_type": "code",
      "execution_count": 29,
      "metadata": {
        "id": "uuZRnkpvhyjD",
        "outputId": "9b3ebd13-7a29-4cfc-99bd-ebf4a7c3dd93",
        "colab": {
          "base_uri": "https://localhost:8080/"
        }
      },
      "outputs": [
        {
          "output_type": "stream",
          "name": "stdout",
          "text": [
            "+----+---------+------------+----------+------+------------+-----+------+--------------------+\n",
            "| mpg|cylinders|displacement|horsepower|weight|acceleration|model|origin|                 car|\n",
            "+----+---------+------------+----------+------+------------+-----+------+--------------------+\n",
            "|18.0|        8|         307|       130|  3504|        12.0|   70|     1|chevrolet chevell...|\n",
            "|15.0|        8|         350|       165|  3693|        11.5|   70|     1|   buick skylark 320|\n",
            "|18.0|        8|         318|       150|  3436|        11.0|   70|     1|  plymouth satellite|\n",
            "|16.0|        8|         304|       150|  3433|        12.0|   70|     1|       amc rebel sst|\n",
            "|17.0|        8|         302|       140|  3449|        10.5|   70|     1|         ford torino|\n",
            "|15.0|        8|         429|       198|  4341|        10.0|   70|     1|    ford galaxie 500|\n",
            "|14.0|        8|         454|       220|  4354|         9.0|   70|     1|    chevrolet impala|\n",
            "|14.0|        8|         440|       215|  4312|         8.5|   70|     1|   plymouth fury iii|\n",
            "|14.0|        8|         455|       225|  4425|        10.0|   70|     1|    pontiac catalina|\n",
            "|15.0|        8|         390|       190|  3850|         8.5|   70|     1|  amc ambassador dpl|\n",
            "|15.0|        8|         383|       170|  3563|        10.0|   70|     1| dodge challenger se|\n",
            "|14.0|        8|         340|       160|  3609|         8.0|   70|     1|  plymouth 'cuda 340|\n",
            "|15.0|        8|         400|       150|  3761|         9.5|   70|     1|chevrolet monte c...|\n",
            "|14.0|        8|         455|       225|  3086|        10.0|   70|     1|buick estate wago...|\n",
            "|24.0|        4|         113|        95|  2372|        15.0|   70|     3|toyota corona mar...|\n",
            "|22.0|        6|         198|        95|  2833|        15.5|   70|     1|     plymouth duster|\n",
            "|18.0|        6|         199|        97|  2774|        15.5|   70|     1|          amc hornet|\n",
            "|21.0|        6|         200|        85|  2587|        16.0|   70|     1|       ford maverick|\n",
            "|27.0|        4|          97|        88|  2130|        14.5|   70|     3|        datsun pl510|\n",
            "|26.0|        4|          97|        46|  1835|        20.5|   70|     2|volkswagen 1131 d...|\n",
            "+----+---------+------------+----------+------+------------+-----+------+--------------------+\n",
            "only showing top 20 rows\n",
            "\n"
          ]
        }
      ],
      "source": [
        "cars = cars1.union(cars2)\n",
        "cars.show()"
      ]
    },
    {
      "cell_type": "markdown",
      "metadata": {
        "id": "nfMFs5H4hyjE"
      },
      "source": [
        "### Step 7. Oops, there is a column missing, called owners. Create a random number Series from 15,000 to 73,000."
      ]
    },
    {
      "cell_type": "code",
      "execution_count": 30,
      "metadata": {
        "id": "dr_2tK3PhyjE"
      },
      "outputs": [],
      "source": [
        "from random import randint\n",
        "\n",
        "randint_udf = f.udf(lambda : randint(15_000, 73_000), IntegerType())\n",
        "\n",
        "cars = cars.withColumn(\"owners\", randint_udf())"
      ]
    },
    {
      "cell_type": "markdown",
      "metadata": {
        "id": "UB0YYvCNhyjE"
      },
      "source": [
        "### Step 8. Add the column owners to cars"
      ]
    },
    {
      "cell_type": "code",
      "execution_count": 31,
      "metadata": {
        "id": "3t0wdSVNhyjF",
        "outputId": "c5fc164a-0f54-491d-d883-35f93ed56634",
        "colab": {
          "base_uri": "https://localhost:8080/"
        }
      },
      "outputs": [
        {
          "output_type": "stream",
          "name": "stdout",
          "text": [
            "+----+---------+------------+----------+------+------------+-----+------+--------------------+------+\n",
            "| mpg|cylinders|displacement|horsepower|weight|acceleration|model|origin|                 car|owners|\n",
            "+----+---------+------------+----------+------+------------+-----+------+--------------------+------+\n",
            "|18.0|        8|         307|       130|  3504|        12.0|   70|     1|chevrolet chevell...| 47739|\n",
            "|15.0|        8|         350|       165|  3693|        11.5|   70|     1|   buick skylark 320| 44051|\n",
            "|18.0|        8|         318|       150|  3436|        11.0|   70|     1|  plymouth satellite| 71100|\n",
            "|16.0|        8|         304|       150|  3433|        12.0|   70|     1|       amc rebel sst| 31585|\n",
            "|17.0|        8|         302|       140|  3449|        10.5|   70|     1|         ford torino| 18376|\n",
            "|15.0|        8|         429|       198|  4341|        10.0|   70|     1|    ford galaxie 500| 65649|\n",
            "|14.0|        8|         454|       220|  4354|         9.0|   70|     1|    chevrolet impala| 49972|\n",
            "|14.0|        8|         440|       215|  4312|         8.5|   70|     1|   plymouth fury iii| 69032|\n",
            "|14.0|        8|         455|       225|  4425|        10.0|   70|     1|    pontiac catalina| 21176|\n",
            "|15.0|        8|         390|       190|  3850|         8.5|   70|     1|  amc ambassador dpl| 33024|\n",
            "|15.0|        8|         383|       170|  3563|        10.0|   70|     1| dodge challenger se| 52426|\n",
            "|14.0|        8|         340|       160|  3609|         8.0|   70|     1|  plymouth 'cuda 340| 38869|\n",
            "|15.0|        8|         400|       150|  3761|         9.5|   70|     1|chevrolet monte c...| 24408|\n",
            "|14.0|        8|         455|       225|  3086|        10.0|   70|     1|buick estate wago...| 19550|\n",
            "|24.0|        4|         113|        95|  2372|        15.0|   70|     3|toyota corona mar...| 60943|\n",
            "|22.0|        6|         198|        95|  2833|        15.5|   70|     1|     plymouth duster| 30564|\n",
            "|18.0|        6|         199|        97|  2774|        15.5|   70|     1|          amc hornet| 60117|\n",
            "|21.0|        6|         200|        85|  2587|        16.0|   70|     1|       ford maverick| 69648|\n",
            "|27.0|        4|          97|        88|  2130|        14.5|   70|     3|        datsun pl510| 42885|\n",
            "|26.0|        4|          97|        46|  1835|        20.5|   70|     2|volkswagen 1131 d...| 40101|\n",
            "+----+---------+------------+----------+------+------------+-----+------+--------------------+------+\n",
            "only showing top 20 rows\n",
            "\n"
          ]
        }
      ],
      "source": [
        "cars.show()"
      ]
    }
  ],
  "metadata": {
    "anaconda-cloud": {},
    "kernelspec": {
      "display_name": "Python [default]",
      "language": "python",
      "name": "python2"
    },
    "language_info": {
      "codemirror_mode": {
        "name": "ipython",
        "version": 2
      },
      "file_extension": ".py",
      "mimetype": "text/x-python",
      "name": "python",
      "nbconvert_exporter": "python",
      "pygments_lexer": "ipython2",
      "version": "2.7.12"
    },
    "colab": {
      "provenance": []
    }
  },
  "nbformat": 4,
  "nbformat_minor": 0
}