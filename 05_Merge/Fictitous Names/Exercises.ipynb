{
  "cells": [
    {
      "cell_type": "markdown",
      "metadata": {
        "id": "1S7MerJlmW6b"
      },
      "source": [
        "# Fictitious Names"
      ]
    },
    {
      "cell_type": "markdown",
      "metadata": {
        "id": "DO7o6dldmW6e"
      },
      "source": [
        "### Introduction:\n",
        "\n",
        "This time you will create a data again \n",
        "\n",
        "Special thanks to [Chris Albon](http://chrisalbon.com/) for sharing the dataset and materials.\n",
        "All the credits to this exercise belongs to him.  \n",
        "\n",
        "In order to understand about it go [here](https://blog.codinghorror.com/a-visual-explanation-of-sql-joins/).\n",
        "\n",
        "### Step 1. Import the necessary libraries"
      ]
    },
    {
      "cell_type": "code",
      "execution_count": 1,
      "metadata": {
        "colab": {
          "base_uri": "https://localhost:8080/"
        },
        "id": "F6xk8YxrmW6f",
        "outputId": "d620bde2-04db-4092-bac6-0d0378cbf35e"
      },
      "outputs": [
        {
          "output_type": "stream",
          "name": "stdout",
          "text": [
            "Looking in indexes: https://pypi.org/simple, https://us-python.pkg.dev/colab-wheels/public/simple/\n",
            "Collecting pyspark\n",
            "  Downloading pyspark-3.3.0.tar.gz (281.3 MB)\n",
            "\u001b[K     |████████████████████████████████| 281.3 MB 50 kB/s \n",
            "\u001b[?25hCollecting py4j==0.10.9.5\n",
            "  Downloading py4j-0.10.9.5-py2.py3-none-any.whl (199 kB)\n",
            "\u001b[K     |████████████████████████████████| 199 kB 53.3 MB/s \n",
            "\u001b[?25hBuilding wheels for collected packages: pyspark\n",
            "  Building wheel for pyspark (setup.py) ... \u001b[?25l\u001b[?25hdone\n",
            "  Created wheel for pyspark: filename=pyspark-3.3.0-py2.py3-none-any.whl size=281764026 sha256=4fb672e5653aac9d448586b561fa099edbea087f2ec4847d38e26637c72bb739\n",
            "  Stored in directory: /root/.cache/pip/wheels/7a/8e/1b/f73a52650d2e5f337708d9f6a1750d451a7349a867f928b885\n",
            "Successfully built pyspark\n",
            "Installing collected packages: py4j, pyspark\n",
            "Successfully installed py4j-0.10.9.5 pyspark-3.3.0\n"
          ]
        }
      ],
      "source": [
        "!pip install pyspark"
      ]
    },
    {
      "cell_type": "code",
      "source": [
        "from pyspark.sql import SparkSession, functions as f"
      ],
      "metadata": {
        "id": "K6FXUQY5mzMw"
      },
      "execution_count": 3,
      "outputs": []
    },
    {
      "cell_type": "markdown",
      "metadata": {
        "id": "FmvAT0o4mW6g"
      },
      "source": [
        "### Step 2. Create the 3 DataFrames based on the following raw data"
      ]
    },
    {
      "cell_type": "code",
      "execution_count": 2,
      "metadata": {
        "collapsed": true,
        "id": "Vn4-P2a_mW6g"
      },
      "outputs": [],
      "source": [
        "raw_data_1 = {\n",
        "        'subject_id': ['1', '2', '3', '4', '5'],\n",
        "        'first_name': ['Alex', 'Amy', 'Allen', 'Alice', 'Ayoung'], \n",
        "        'last_name': ['Anderson', 'Ackerman', 'Ali', 'Aoni', 'Atiches']}\n",
        "\n",
        "raw_data_2 = {\n",
        "        'subject_id': ['4', '5', '6', '7', '8'],\n",
        "        'first_name': ['Billy', 'Brian', 'Bran', 'Bryce', 'Betty'], \n",
        "        'last_name': ['Bonder', 'Black', 'Balwner', 'Brice', 'Btisan']}\n",
        "\n",
        "raw_data_3 = {\n",
        "        'subject_id': ['1', '2', '3', '4', '5', '7', '8', '9', '10', '11'],\n",
        "        'test_id': [51, 15, 15, 61, 16, 14, 15, 1, 61, 16]}"
      ]
    },
    {
      "cell_type": "markdown",
      "metadata": {
        "id": "3Ftsf62OmW6h"
      },
      "source": [
        "### Step 3. Assign each to a variable called data1, data2, data3"
      ]
    },
    {
      "cell_type": "code",
      "execution_count": 10,
      "metadata": {
        "id": "CY0ehXb5mW6h"
      },
      "outputs": [],
      "source": [
        "spark = SparkSession.builder.appName(\"Exercise52\").getOrCreate()\n",
        "\n",
        "def flip_data(raw_data: dict):\n",
        "  columns = list(raw_data.keys())\n",
        "  data = [[*vals] for vals in zip(*raw_data.values())]\n",
        "  return data, columns\n",
        "\n",
        "data1 = spark.createDataFrame(*flip_data(raw_data_1))\n",
        "data2 = spark.createDataFrame(*flip_data(raw_data_2))\n",
        "data3 = spark.createDataFrame(*flip_data(raw_data_3))"
      ]
    },
    {
      "cell_type": "markdown",
      "metadata": {
        "id": "VGLzUMR4mW6i"
      },
      "source": [
        "### Step 4. Join the two dataframes along rows and assign all_data\n",
        "\n",
        "1.   List item\n",
        "2.   List item\n",
        "\n"
      ]
    },
    {
      "cell_type": "code",
      "execution_count": 18,
      "metadata": {
        "colab": {
          "base_uri": "https://localhost:8080/"
        },
        "id": "LCIlonH2mW6i",
        "outputId": "34c750df-67a7-4b67-f86f-7b1a8a6c3325"
      },
      "outputs": [
        {
          "output_type": "stream",
          "name": "stdout",
          "text": [
            "+----------+----------+---------+\n",
            "|subject_id|first_name|last_name|\n",
            "+----------+----------+---------+\n",
            "|         1|      Alex| Anderson|\n",
            "|         2|       Amy| Ackerman|\n",
            "|         3|     Allen|      Ali|\n",
            "|         4|     Alice|     Aoni|\n",
            "|         5|    Ayoung|  Atiches|\n",
            "|         4|     Billy|   Bonder|\n",
            "|         5|     Brian|    Black|\n",
            "|         6|      Bran|  Balwner|\n",
            "|         7|     Bryce|    Brice|\n",
            "|         8|     Betty|   Btisan|\n",
            "+----------+----------+---------+\n",
            "\n"
          ]
        }
      ],
      "source": [
        "all_data = data1.union(data2)\n",
        "all_data.show()"
      ]
    },
    {
      "cell_type": "markdown",
      "metadata": {
        "id": "Ehbx7OdTmW6j"
      },
      "source": [
        "### Step 5. Join the two dataframes along columns and assing to all_data_col"
      ]
    },
    {
      "cell_type": "code",
      "execution_count": 29,
      "metadata": {
        "id": "GpSn6cU_mW6j"
      },
      "outputs": [],
      "source": [
        "all_data_col = data1.join(data2, on=\"subject_id\", how=\"full\")"
      ]
    },
    {
      "cell_type": "markdown",
      "metadata": {
        "id": "0xXVST8rmW6j"
      },
      "source": [
        "### Step 6. Print data3"
      ]
    },
    {
      "cell_type": "code",
      "execution_count": 12,
      "metadata": {
        "colab": {
          "base_uri": "https://localhost:8080/"
        },
        "id": "OcqTXjNMmW6k",
        "outputId": "17a98010-6122-4280-9701-a27b67763d76"
      },
      "outputs": [
        {
          "output_type": "stream",
          "name": "stdout",
          "text": [
            "+----------+-------+\n",
            "|subject_id|test_id|\n",
            "+----------+-------+\n",
            "|         1|     51|\n",
            "|         2|     15|\n",
            "|         3|     15|\n",
            "|         4|     61|\n",
            "|         5|     16|\n",
            "|         7|     14|\n",
            "|         8|     15|\n",
            "|         9|      1|\n",
            "|        10|     61|\n",
            "|        11|     16|\n",
            "+----------+-------+\n",
            "\n"
          ]
        }
      ],
      "source": [
        "data3.show()"
      ]
    },
    {
      "cell_type": "markdown",
      "metadata": {
        "id": "AZF6sQ8mmW6k"
      },
      "source": [
        "### Step 7. Merge all_data and data3 along the subject_id value"
      ]
    },
    {
      "cell_type": "code",
      "execution_count": 24,
      "metadata": {
        "colab": {
          "base_uri": "https://localhost:8080/"
        },
        "id": "4b-xdWtImW6k",
        "outputId": "cac23cd7-2522-4428-8050-40df750df5fd"
      },
      "outputs": [
        {
          "output_type": "stream",
          "name": "stdout",
          "text": [
            "+----------+----------+---------+-------+\n",
            "|subject_id|first_name|last_name|test_id|\n",
            "+----------+----------+---------+-------+\n",
            "|         1|      Alex| Anderson|     51|\n",
            "|         2|       Amy| Ackerman|     15|\n",
            "|         3|     Allen|      Ali|     15|\n",
            "|         4|     Alice|     Aoni|     61|\n",
            "|         4|     Billy|   Bonder|     61|\n",
            "|         5|    Ayoung|  Atiches|     16|\n",
            "|         5|     Brian|    Black|     16|\n",
            "|         7|     Bryce|    Brice|     14|\n",
            "|         8|     Betty|   Btisan|     15|\n",
            "+----------+----------+---------+-------+\n",
            "\n"
          ]
        }
      ],
      "source": [
        "all_data.join(data3, on=\"subject_id\").show()"
      ]
    },
    {
      "cell_type": "markdown",
      "metadata": {
        "id": "TeaDawbtmW6l"
      },
      "source": [
        "### Step 8. Merge only the data that has the same 'subject_id' on both data1 and data2"
      ]
    },
    {
      "cell_type": "code",
      "execution_count": 28,
      "metadata": {
        "colab": {
          "base_uri": "https://localhost:8080/"
        },
        "id": "wU2uSCB5mW6l",
        "outputId": "fd6ea6fa-c13c-4094-b278-e7d12118836b"
      },
      "outputs": [
        {
          "output_type": "stream",
          "name": "stdout",
          "text": [
            "+----------+----------+---------+----------+---------+\n",
            "|subject_id|first_name|last_name|first_name|last_name|\n",
            "+----------+----------+---------+----------+---------+\n",
            "|         4|     Alice|     Aoni|     Billy|   Bonder|\n",
            "|         5|    Ayoung|  Atiches|     Brian|    Black|\n",
            "+----------+----------+---------+----------+---------+\n",
            "\n"
          ]
        }
      ],
      "source": [
        "data1.join(data2, on=\"subject_id\").show()"
      ]
    },
    {
      "cell_type": "markdown",
      "metadata": {
        "id": "cKkk_FRjmW6l"
      },
      "source": [
        "### Step 9. Merge all values in data1 and data2, with matching records from both sides where available."
      ]
    },
    {
      "cell_type": "code",
      "execution_count": 30,
      "metadata": {
        "colab": {
          "base_uri": "https://localhost:8080/"
        },
        "id": "sGnWMAYwmW6l",
        "outputId": "f7b3e1ab-a38a-4082-cfe5-5857f68f4104"
      },
      "outputs": [
        {
          "output_type": "stream",
          "name": "stdout",
          "text": [
            "+----------+----------+---------+----------+---------+\n",
            "|subject_id|first_name|last_name|first_name|last_name|\n",
            "+----------+----------+---------+----------+---------+\n",
            "|         1|      Alex| Anderson|      null|     null|\n",
            "|         2|       Amy| Ackerman|      null|     null|\n",
            "|         3|     Allen|      Ali|      null|     null|\n",
            "|         4|     Alice|     Aoni|     Billy|   Bonder|\n",
            "|         5|    Ayoung|  Atiches|     Brian|    Black|\n",
            "|         6|      null|     null|      Bran|  Balwner|\n",
            "|         7|      null|     null|     Bryce|    Brice|\n",
            "|         8|      null|     null|     Betty|   Btisan|\n",
            "+----------+----------+---------+----------+---------+\n",
            "\n"
          ]
        }
      ],
      "source": [
        "all_data_col.show()"
      ]
    }
  ],
  "metadata": {
    "kernelspec": {
      "display_name": "Python 2",
      "language": "python",
      "name": "python2"
    },
    "language_info": {
      "codemirror_mode": {
        "name": "ipython",
        "version": 2
      },
      "file_extension": ".py",
      "mimetype": "text/x-python",
      "name": "python",
      "nbconvert_exporter": "python",
      "pygments_lexer": "ipython2",
      "version": "2.7.11"
    },
    "colab": {
      "provenance": []
    }
  },
  "nbformat": 4,
  "nbformat_minor": 0
}