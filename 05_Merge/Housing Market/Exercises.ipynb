{
  "cells": [
    {
      "cell_type": "markdown",
      "metadata": {
        "id": "S5RKp1iOAyy_"
      },
      "source": [
        "# Housing Market"
      ]
    },
    {
      "cell_type": "markdown",
      "metadata": {
        "id": "5vdKjVCCAyzF"
      },
      "source": [
        "### Introduction:\n",
        "\n",
        "This time we will create our own dataset with fictional numbers to describe a house market. As we are going to create random data don't try to reason of the numbers.\n",
        "\n",
        "### Step 1. Import the necessary libraries"
      ]
    },
    {
      "cell_type": "code",
      "execution_count": 1,
      "metadata": {
        "id": "G3NUu30UAyzG",
        "outputId": "91f693cd-b406-4d82-9baa-762b06cdc9fd",
        "colab": {
          "base_uri": "https://localhost:8080/"
        }
      },
      "outputs": [
        {
          "output_type": "stream",
          "name": "stdout",
          "text": [
            "Looking in indexes: https://pypi.org/simple, https://us-python.pkg.dev/colab-wheels/public/simple/\n",
            "Collecting pyspark\n",
            "  Downloading pyspark-3.3.0.tar.gz (281.3 MB)\n",
            "\u001b[K     |████████████████████████████████| 281.3 MB 44 kB/s \n",
            "\u001b[?25hCollecting py4j==0.10.9.5\n",
            "  Downloading py4j-0.10.9.5-py2.py3-none-any.whl (199 kB)\n",
            "\u001b[K     |████████████████████████████████| 199 kB 51.2 MB/s \n",
            "\u001b[?25hBuilding wheels for collected packages: pyspark\n",
            "  Building wheel for pyspark (setup.py) ... \u001b[?25l\u001b[?25hdone\n",
            "  Created wheel for pyspark: filename=pyspark-3.3.0-py2.py3-none-any.whl size=281764026 sha256=c5d169353fba819909a3eca2579e19e8afcdc1b88f3c2dafbd22a1ca24ac1df6\n",
            "  Stored in directory: /root/.cache/pip/wheels/7a/8e/1b/f73a52650d2e5f337708d9f6a1750d451a7349a867f928b885\n",
            "Successfully built pyspark\n",
            "Installing collected packages: py4j, pyspark\n",
            "Successfully installed py4j-0.10.9.5 pyspark-3.3.0\n"
          ]
        }
      ],
      "source": [
        "!pip install pyspark"
      ]
    },
    {
      "cell_type": "code",
      "source": [
        "from pyspark.sql import SparkSession, functions as f\n",
        "from random import randint"
      ],
      "metadata": {
        "id": "LT5Tla54A5Yf"
      },
      "execution_count": 5,
      "outputs": []
    },
    {
      "cell_type": "code",
      "source": [
        "spark = SparkSession.builder.appName(\"Exercise53\").getOrCreate()"
      ],
      "metadata": {
        "id": "KgSAgyfZBeZN"
      },
      "execution_count": 7,
      "outputs": []
    },
    {
      "cell_type": "markdown",
      "metadata": {
        "id": "liN6X5HSAyzI"
      },
      "source": [
        "### Step 2. Create 3 differents Series, each of length 100, as follows: \n",
        "1. The first a random number from 1 to 4 \n",
        "2. The second a random number from 1 to 3\n",
        "3. The third a random number from 10,000 to 30,000"
      ]
    },
    {
      "cell_type": "code",
      "execution_count": 9,
      "metadata": {
        "id": "iBMtplHBAyzJ"
      },
      "outputs": [],
      "source": [
        "s1 = [randint(1,4) for _ in range(100)]\n",
        "s2 = [randint(1,3) for _ in range(100)]\n",
        "s3 = [randint(10_000,30_000) for _ in range(100)]"
      ]
    },
    {
      "cell_type": "markdown",
      "metadata": {
        "id": "rjf-P2e_AyzJ"
      },
      "source": [
        "### Step 3. Let's create a DataFrame by joinning the Series by column"
      ]
    },
    {
      "cell_type": "code",
      "execution_count": 23,
      "metadata": {
        "id": "H955-66vAyzK",
        "outputId": "5ebcb92f-9c83-4c2c-ac68-37a9d3566e2d",
        "colab": {
          "base_uri": "https://localhost:8080/"
        }
      },
      "outputs": [
        {
          "output_type": "stream",
          "name": "stdout",
          "text": [
            "+---+---+-----+\n",
            "| s1| s2|   s3|\n",
            "+---+---+-----+\n",
            "|  3|  3|23085|\n",
            "|  2|  1|25198|\n",
            "|  4|  1|15600|\n",
            "|  4|  1|14215|\n",
            "|  1|  1|22476|\n",
            "|  3|  2|28961|\n",
            "|  3|  1|14795|\n",
            "|  1|  1|12925|\n",
            "|  1|  3|10947|\n",
            "|  3|  2|13311|\n",
            "|  4|  3|21484|\n",
            "|  1|  2|22818|\n",
            "|  2|  2|25345|\n",
            "|  4|  1|19430|\n",
            "|  1|  3|23527|\n",
            "|  2|  1|15825|\n",
            "|  2|  1|25772|\n",
            "|  2|  2|18217|\n",
            "|  4|  3|25183|\n",
            "|  4|  3|21319|\n",
            "+---+---+-----+\n",
            "only showing top 20 rows\n",
            "\n"
          ]
        }
      ],
      "source": [
        "df = spark.createDataFrame(zip(s1, s2, s3), [\"s1\",\"s2\",\"s3\"])\n",
        "df.show()"
      ]
    },
    {
      "cell_type": "markdown",
      "metadata": {
        "id": "I4YS5gU6AyzK"
      },
      "source": [
        "### Step 4. Change the name of the columns to bedrs, bathrs, price_sqr_meter"
      ]
    },
    {
      "cell_type": "code",
      "execution_count": 24,
      "metadata": {
        "id": "r4iO9YmwAyzL"
      },
      "outputs": [],
      "source": [
        "df = df.select(f.col(\"s1\").alias(\"bedrs\"), f.col(\"s2\").alias(\"bathrs\"), f.col(\"s3\").alias(\"price_sqr_meter\"))"
      ]
    },
    {
      "cell_type": "markdown",
      "metadata": {
        "id": "X9SneDyJAyzL"
      },
      "source": [
        "### Step 5. Create a one column DataFrame with the values of the 3 Series and assign it to 'bigcolumn'"
      ]
    },
    {
      "cell_type": "code",
      "execution_count": 26,
      "metadata": {
        "id": "p8sdV2oeAyzM",
        "outputId": "632a3cbd-d086-4b2d-b967-d4f4c776d69f",
        "colab": {
          "base_uri": "https://localhost:8080/"
        }
      },
      "outputs": [
        {
          "output_type": "execute_result",
          "data": {
            "text/plain": [
              "300"
            ]
          },
          "metadata": {},
          "execution_count": 26
        }
      ],
      "source": [
        "bigcolumn = df.select(\"bedrs\").union(df.select(\"bathrs\")).union(df.select(\"price_sqr_meter\"))\n",
        "bigcolumn.count()"
      ]
    },
    {
      "cell_type": "markdown",
      "metadata": {
        "id": "KptpIZOaAyzM"
      },
      "source": [
        "### Step 6. Oops, it seems it is going only until index 99. Is it true?"
      ]
    },
    {
      "cell_type": "code",
      "execution_count": null,
      "metadata": {
        "id": "_SmVAXbmAyzM"
      },
      "outputs": [],
      "source": []
    },
    {
      "cell_type": "markdown",
      "metadata": {
        "id": "1R6K7hmGAyzN"
      },
      "source": [
        "### Step 7. Reindex the DataFrame so it goes from 0 to 299"
      ]
    },
    {
      "cell_type": "code",
      "execution_count": null,
      "metadata": {
        "id": "WVlqGD_TAyzN"
      },
      "outputs": [],
      "source": []
    }
  ],
  "metadata": {
    "kernelspec": {
      "display_name": "Python 2",
      "language": "python",
      "name": "python2"
    },
    "language_info": {
      "codemirror_mode": {
        "name": "ipython",
        "version": 2
      },
      "file_extension": ".py",
      "mimetype": "text/x-python",
      "name": "python",
      "nbconvert_exporter": "python",
      "pygments_lexer": "ipython2",
      "version": "2.7.11"
    },
    "colab": {
      "provenance": []
    }
  },
  "nbformat": 4,
  "nbformat_minor": 0
}