{
  "cells": [
    {
      "cell_type": "markdown",
      "metadata": {
        "id": "tWWhYDkOVDK1"
      },
      "source": [
        "# United States - Crime Rates - 1960 - 2014"
      ]
    },
    {
      "cell_type": "markdown",
      "metadata": {
        "id": "fZbaQJN-VDK5"
      },
      "source": [
        "### Introduction:\n",
        "\n",
        "This time you will create a data \n",
        "\n",
        "Special thanks to: https://github.com/justmarkham for sharing the dataset and materials.\n",
        "\n",
        "### Step 1. Import the necessary libraries"
      ]
    },
    {
      "cell_type": "code",
      "execution_count": 1,
      "metadata": {
        "colab": {
          "base_uri": "https://localhost:8080/"
        },
        "id": "HoNvQlQjVDK6",
        "outputId": "aa45fe05-c2dd-48e9-d714-eb0b461514e9"
      },
      "outputs": [
        {
          "output_type": "stream",
          "name": "stdout",
          "text": [
            "Looking in indexes: https://pypi.org/simple, https://us-python.pkg.dev/colab-wheels/public/simple/\n",
            "Collecting pyspark\n",
            "  Downloading pyspark-3.3.0.tar.gz (281.3 MB)\n",
            "\u001b[K     |████████████████████████████████| 281.3 MB 59 kB/s \n",
            "\u001b[?25hCollecting py4j==0.10.9.5\n",
            "  Downloading py4j-0.10.9.5-py2.py3-none-any.whl (199 kB)\n",
            "\u001b[K     |████████████████████████████████| 199 kB 78.8 MB/s \n",
            "\u001b[?25hBuilding wheels for collected packages: pyspark\n",
            "  Building wheel for pyspark (setup.py) ... \u001b[?25l\u001b[?25hdone\n",
            "  Created wheel for pyspark: filename=pyspark-3.3.0-py2.py3-none-any.whl size=281764026 sha256=c7e8753f7d454bd7305d62e9bf5dd8581f533363cedae76a72c4c33e98dd8582\n",
            "  Stored in directory: /root/.cache/pip/wheels/7a/8e/1b/f73a52650d2e5f337708d9f6a1750d451a7349a867f928b885\n",
            "Successfully built pyspark\n",
            "Installing collected packages: py4j, pyspark\n",
            "Successfully installed py4j-0.10.9.5 pyspark-3.3.0\n"
          ]
        }
      ],
      "source": [
        "!pip install pyspark"
      ]
    },
    {
      "cell_type": "code",
      "source": [
        "from pyspark.sql import SparkSession, functions as f\n",
        "from pyspark.files import SparkFiles"
      ],
      "metadata": {
        "id": "qIknayhkVJon"
      },
      "execution_count": 3,
      "outputs": []
    },
    {
      "cell_type": "markdown",
      "metadata": {
        "id": "wrlaBbwAVDK7"
      },
      "source": [
        "### Step 2. Import the dataset from this [address](https://raw.githubusercontent.com/guipsamora/pandas_exercises/master/04_Apply/US_Crime_Rates/US_Crime_Rates_1960_2014.csv). "
      ]
    },
    {
      "cell_type": "code",
      "source": [
        "spark = SparkSession.builder.appName(\"exercise42\").getOrCreate()\n",
        "url = \"https://raw.githubusercontent.com/guipsamora/pandas_exercises/master/04_Apply/US_Crime_Rates/US_Crime_Rates_1960_2014.csv\"\n",
        "spark.sparkContext.addFile(url)"
      ],
      "metadata": {
        "id": "O8lXT6WyVR6P"
      },
      "execution_count": 5,
      "outputs": []
    },
    {
      "cell_type": "markdown",
      "metadata": {
        "id": "VJOSSbRWVDK8"
      },
      "source": [
        "### Step 3. Assign it to a variable called crime."
      ]
    },
    {
      "cell_type": "code",
      "execution_count": 20,
      "metadata": {
        "colab": {
          "base_uri": "https://localhost:8080/"
        },
        "id": "K8l3_dTRVDK8",
        "outputId": "c866b29f-1884-454c-e40c-4a8149c80943"
      },
      "outputs": [
        {
          "output_type": "stream",
          "name": "stdout",
          "text": [
            "+----+----------+--------+-------+--------+------+-------------+-------+------------------+--------+-------------+-------------+\n",
            "|Year|Population|   Total|Violent|Property|Murder|Forcible_Rape|Robbery|Aggravated_assault|Burglary|Larceny_Theft|Vehicle_Theft|\n",
            "+----+----------+--------+-------+--------+------+-------------+-------+------------------+--------+-------------+-------------+\n",
            "|1960| 179323175| 3384200| 288460| 3095700|  9110|        17190| 107840|            154320|  912100|      1855400|       328200|\n",
            "|1961| 182992000| 3488000| 289390| 3198600|  8740|        17220| 106670|            156760|  949600|      1913000|       336000|\n",
            "|1962| 185771000| 3752200| 301510| 3450700|  8530|        17550| 110860|            164570|  994300|      2089600|       366800|\n",
            "|1963| 188483000| 4109500| 316970| 3792500|  8640|        17650| 116470|            174210| 1086400|      2297800|       408300|\n",
            "|1964| 191141000| 4564600| 364220| 4200400|  9360|        21420| 130390|            203050| 1213200|      2514400|       472800|\n",
            "|1965| 193526000| 4739400| 387390| 4352000|  9960|        23410| 138690|            215330| 1282500|      2572600|       496900|\n",
            "|1966| 195576000| 5223500| 430180| 4793300| 11040|        25820| 157990|            235330| 1410100|      2822000|       561200|\n",
            "|1967| 197457000| 5903400| 499930| 5403500| 12240|        27620| 202910|            257160| 1632100|      3111600|       659800|\n",
            "|1968| 199399000| 6720200| 595010| 6125200| 13800|        31670| 262840|            286700| 1858900|      3482700|       783600|\n",
            "|1969| 201385000| 7410900| 661870| 6749000| 14760|        37170| 298850|            311090| 1981900|      3888600|       878500|\n",
            "|1970| 203235298| 8098000| 738820| 7359200| 16000|        37990| 349860|            334970| 2205000|      4225800|       928400|\n",
            "|1971| 206212000| 8588200| 816500| 7771700| 17780|        42260| 387700|            368760| 2399300|      4424200|       948200|\n",
            "|1972| 208230000| 8248800| 834900| 7413900| 18670|        46850| 376290|            393090| 2375500|      4151200|       887200|\n",
            "|1973| 209851000| 8718100| 875910| 7842200| 19640|        51400| 384220|            420650| 2565500|      4347900|       928800|\n",
            "|1974| 211392000|10253400| 974720| 9278700| 20710|        55400| 442400|            456210| 3039200|      5262500|       977100|\n",
            "|1975| 213124000|11292400|1039710|10252700| 20510|        56090| 470500|            492620| 3265300|      5977700|      1009600|\n",
            "|1976| 214659000|11349700|1004210|10345500| 18780|        57080| 427810|            500530| 3108700|      6270800|       966000|\n",
            "|1977| 216332000|10984500|1029580| 9955000| 19120|        63500| 412610|            534350| 3071500|      5905700|       977700|\n",
            "|1978| 218059000|11209000|1085550|10123400| 19560|        67610| 426930|            571460| 3128300|      5991000|      1004100|\n",
            "|1979| 220099000|12249500|1208030|11041500| 21460|        76390| 480700|            629480| 3327700|      6601000|      1112800|\n",
            "+----+----------+--------+-------+--------+------+-------------+-------+------------------+--------+-------------+-------------+\n",
            "only showing top 20 rows\n",
            "\n"
          ]
        }
      ],
      "source": [
        "df = spark.read.csv(\"file://\"+SparkFiles.get(\"US_Crime_Rates_1960_2014.csv\"), header=True, inferSchema=True)\n",
        "df.show()"
      ]
    },
    {
      "cell_type": "markdown",
      "metadata": {
        "id": "oWFVt_2iVDK9"
      },
      "source": [
        "### Step 4. What is the type of the columns?"
      ]
    },
    {
      "cell_type": "code",
      "execution_count": 8,
      "metadata": {
        "colab": {
          "base_uri": "https://localhost:8080/"
        },
        "id": "wCSqZ9y-VDK-",
        "outputId": "873bf1c5-573c-4724-a6b0-40d74bf8ef5a"
      },
      "outputs": [
        {
          "output_type": "stream",
          "name": "stdout",
          "text": [
            "root\n",
            " |-- Year: integer (nullable = true)\n",
            " |-- Population: integer (nullable = true)\n",
            " |-- Total: integer (nullable = true)\n",
            " |-- Violent: integer (nullable = true)\n",
            " |-- Property: integer (nullable = true)\n",
            " |-- Murder: integer (nullable = true)\n",
            " |-- Forcible_Rape: integer (nullable = true)\n",
            " |-- Robbery: integer (nullable = true)\n",
            " |-- Aggravated_assault: integer (nullable = true)\n",
            " |-- Burglary: integer (nullable = true)\n",
            " |-- Larceny_Theft: integer (nullable = true)\n",
            " |-- Vehicle_Theft: integer (nullable = true)\n",
            "\n"
          ]
        }
      ],
      "source": [
        "df.printSchema()"
      ]
    },
    {
      "cell_type": "markdown",
      "metadata": {
        "id": "3OqJ6QRBVDK_"
      },
      "source": [
        "##### Have you noticed that the type of Year is int64. But pandas has a different type to work with Time Series. Let's see it now.\n",
        "\n",
        "### Step 5. Convert the type of the column Year to datetime64"
      ]
    },
    {
      "cell_type": "code",
      "execution_count": 21,
      "metadata": {
        "colab": {
          "base_uri": "https://localhost:8080/"
        },
        "id": "goQW-lZ5VDLA",
        "outputId": "e948154d-ce5f-46ff-f184-debe8a33486f"
      },
      "outputs": [
        {
          "output_type": "stream",
          "name": "stdout",
          "text": [
            "+----------+----------+--------+-------+--------+------+-------------+-------+------------------+--------+-------------+-------------+\n",
            "|      Year|Population|   Total|Violent|Property|Murder|Forcible_Rape|Robbery|Aggravated_assault|Burglary|Larceny_Theft|Vehicle_Theft|\n",
            "+----------+----------+--------+-------+--------+------+-------------+-------+------------------+--------+-------------+-------------+\n",
            "|1960-01-01| 179323175| 3384200| 288460| 3095700|  9110|        17190| 107840|            154320|  912100|      1855400|       328200|\n",
            "|1961-01-01| 182992000| 3488000| 289390| 3198600|  8740|        17220| 106670|            156760|  949600|      1913000|       336000|\n",
            "|1962-01-01| 185771000| 3752200| 301510| 3450700|  8530|        17550| 110860|            164570|  994300|      2089600|       366800|\n",
            "|1963-01-01| 188483000| 4109500| 316970| 3792500|  8640|        17650| 116470|            174210| 1086400|      2297800|       408300|\n",
            "|1964-01-01| 191141000| 4564600| 364220| 4200400|  9360|        21420| 130390|            203050| 1213200|      2514400|       472800|\n",
            "|1965-01-01| 193526000| 4739400| 387390| 4352000|  9960|        23410| 138690|            215330| 1282500|      2572600|       496900|\n",
            "|1966-01-01| 195576000| 5223500| 430180| 4793300| 11040|        25820| 157990|            235330| 1410100|      2822000|       561200|\n",
            "|1967-01-01| 197457000| 5903400| 499930| 5403500| 12240|        27620| 202910|            257160| 1632100|      3111600|       659800|\n",
            "|1968-01-01| 199399000| 6720200| 595010| 6125200| 13800|        31670| 262840|            286700| 1858900|      3482700|       783600|\n",
            "|1969-01-01| 201385000| 7410900| 661870| 6749000| 14760|        37170| 298850|            311090| 1981900|      3888600|       878500|\n",
            "|1970-01-01| 203235298| 8098000| 738820| 7359200| 16000|        37990| 349860|            334970| 2205000|      4225800|       928400|\n",
            "|1971-01-01| 206212000| 8588200| 816500| 7771700| 17780|        42260| 387700|            368760| 2399300|      4424200|       948200|\n",
            "|1972-01-01| 208230000| 8248800| 834900| 7413900| 18670|        46850| 376290|            393090| 2375500|      4151200|       887200|\n",
            "|1973-01-01| 209851000| 8718100| 875910| 7842200| 19640|        51400| 384220|            420650| 2565500|      4347900|       928800|\n",
            "|1974-01-01| 211392000|10253400| 974720| 9278700| 20710|        55400| 442400|            456210| 3039200|      5262500|       977100|\n",
            "|1975-01-01| 213124000|11292400|1039710|10252700| 20510|        56090| 470500|            492620| 3265300|      5977700|      1009600|\n",
            "|1976-01-01| 214659000|11349700|1004210|10345500| 18780|        57080| 427810|            500530| 3108700|      6270800|       966000|\n",
            "|1977-01-01| 216332000|10984500|1029580| 9955000| 19120|        63500| 412610|            534350| 3071500|      5905700|       977700|\n",
            "|1978-01-01| 218059000|11209000|1085550|10123400| 19560|        67610| 426930|            571460| 3128300|      5991000|      1004100|\n",
            "|1979-01-01| 220099000|12249500|1208030|11041500| 21460|        76390| 480700|            629480| 3327700|      6601000|      1112800|\n",
            "+----------+----------+--------+-------+--------+------+-------------+-------+------------------+--------+-------------+-------------+\n",
            "only showing top 20 rows\n",
            "\n"
          ]
        }
      ],
      "source": [
        "df = df.withColumn(\"Year\", f.to_date(f.col(\"Year\").cast(\"string\"), \"yyyy\"))\n",
        "df.show()"
      ]
    },
    {
      "cell_type": "markdown",
      "metadata": {
        "id": "2b9FjVlyVDLA"
      },
      "source": [
        "### Step 6. Set the Year column as the index of the dataframe"
      ]
    },
    {
      "cell_type": "code",
      "execution_count": null,
      "metadata": {
        "id": "yTSb2pBrVDLB"
      },
      "outputs": [],
      "source": []
    },
    {
      "cell_type": "markdown",
      "metadata": {
        "id": "Me1T4ACXVDLB"
      },
      "source": [
        "### Step 7. Delete the Total column"
      ]
    },
    {
      "cell_type": "code",
      "execution_count": 24,
      "metadata": {
        "colab": {
          "base_uri": "https://localhost:8080/"
        },
        "id": "J_2_u4giVDLB",
        "outputId": "5b2d21a7-546a-48e1-f5c2-68352fec78cc"
      },
      "outputs": [
        {
          "output_type": "stream",
          "name": "stdout",
          "text": [
            "+----------+----------+-------+--------+------+-------------+-------+------------------+--------+-------------+-------------+\n",
            "|      Year|Population|Violent|Property|Murder|Forcible_Rape|Robbery|Aggravated_assault|Burglary|Larceny_Theft|Vehicle_Theft|\n",
            "+----------+----------+-------+--------+------+-------------+-------+------------------+--------+-------------+-------------+\n",
            "|1960-01-01| 179323175| 288460| 3095700|  9110|        17190| 107840|            154320|  912100|      1855400|       328200|\n",
            "|1961-01-01| 182992000| 289390| 3198600|  8740|        17220| 106670|            156760|  949600|      1913000|       336000|\n",
            "|1962-01-01| 185771000| 301510| 3450700|  8530|        17550| 110860|            164570|  994300|      2089600|       366800|\n",
            "|1963-01-01| 188483000| 316970| 3792500|  8640|        17650| 116470|            174210| 1086400|      2297800|       408300|\n",
            "|1964-01-01| 191141000| 364220| 4200400|  9360|        21420| 130390|            203050| 1213200|      2514400|       472800|\n",
            "|1965-01-01| 193526000| 387390| 4352000|  9960|        23410| 138690|            215330| 1282500|      2572600|       496900|\n",
            "|1966-01-01| 195576000| 430180| 4793300| 11040|        25820| 157990|            235330| 1410100|      2822000|       561200|\n",
            "|1967-01-01| 197457000| 499930| 5403500| 12240|        27620| 202910|            257160| 1632100|      3111600|       659800|\n",
            "|1968-01-01| 199399000| 595010| 6125200| 13800|        31670| 262840|            286700| 1858900|      3482700|       783600|\n",
            "|1969-01-01| 201385000| 661870| 6749000| 14760|        37170| 298850|            311090| 1981900|      3888600|       878500|\n",
            "|1970-01-01| 203235298| 738820| 7359200| 16000|        37990| 349860|            334970| 2205000|      4225800|       928400|\n",
            "|1971-01-01| 206212000| 816500| 7771700| 17780|        42260| 387700|            368760| 2399300|      4424200|       948200|\n",
            "|1972-01-01| 208230000| 834900| 7413900| 18670|        46850| 376290|            393090| 2375500|      4151200|       887200|\n",
            "|1973-01-01| 209851000| 875910| 7842200| 19640|        51400| 384220|            420650| 2565500|      4347900|       928800|\n",
            "|1974-01-01| 211392000| 974720| 9278700| 20710|        55400| 442400|            456210| 3039200|      5262500|       977100|\n",
            "|1975-01-01| 213124000|1039710|10252700| 20510|        56090| 470500|            492620| 3265300|      5977700|      1009600|\n",
            "|1976-01-01| 214659000|1004210|10345500| 18780|        57080| 427810|            500530| 3108700|      6270800|       966000|\n",
            "|1977-01-01| 216332000|1029580| 9955000| 19120|        63500| 412610|            534350| 3071500|      5905700|       977700|\n",
            "|1978-01-01| 218059000|1085550|10123400| 19560|        67610| 426930|            571460| 3128300|      5991000|      1004100|\n",
            "|1979-01-01| 220099000|1208030|11041500| 21460|        76390| 480700|            629480| 3327700|      6601000|      1112800|\n",
            "+----------+----------+-------+--------+------+-------------+-------+------------------+--------+-------------+-------------+\n",
            "only showing top 20 rows\n",
            "\n"
          ]
        }
      ],
      "source": [
        "df = df.drop(df.Total)\n",
        "df.show()"
      ]
    },
    {
      "cell_type": "markdown",
      "metadata": {
        "id": "dd5eLUSAVDLC"
      },
      "source": [
        "### Step 8. Group the year by decades and sum the values\n",
        "\n",
        "#### Pay attention to the Population column number, summing this column is a mistake"
      ]
    },
    {
      "cell_type": "code",
      "execution_count": 36,
      "metadata": {
        "scrolled": true,
        "colab": {
          "base_uri": "https://localhost:8080/"
        },
        "id": "7wJt6xR_VDLC",
        "outputId": "e429f179-d063-43e0-871d-db481944ff04"
      },
      "outputs": [
        {
          "output_type": "stream",
          "name": "stdout",
          "text": [
            "+------+------------+-------------+-----------+------------------+------------+-----------------------+-------------+------------------+------------------+\n",
            "|decade|sum(Violent)|sum(Property)|sum(Murder)|sum(Forcible_Rape)|sum(Robbery)|sum(Aggravated_assault)|sum(Burglary)|sum(Larceny_Theft)|sum(Vehicle_Theft)|\n",
            "+------+------------+-------------+-----------+------------------+------------+-----------------------+-------------+------------------+------------------+\n",
            "|  1960|     4134930|     45160900|     106180|            236720|     1633510|                2158520|     13321100|          26547700|           5292100|\n",
            "|  2010|     6072017|     44095950|      72867|            421059|     1749809|                3764142|     10125170|          30401698|           3569080|\n",
            "|  1970|     9607930|     91383800|     192230|            554570|     4159020|                4702120|     28486000|          53157800|           9739900|\n",
            "|  1980|    14074328|    117048900|     206439|            865639|     5383109|                7619130|     33073494|          72040253|          11935411|\n",
            "|  2000|    13968056|    100944369|     163068|            922499|     4230366|                8652124|     21565176|          67970291|          11412834|\n",
            "|  1990|    17527048|    119053499|     211664|            998827|     5748930|               10568963|     26750015|          77679366|          14624418|\n",
            "+------+------------+-------------+-----------+------------------+------------+-----------------------+-------------+------------------+------------------+\n",
            "\n"
          ]
        }
      ],
      "source": [
        "data_cols = [\"Violent\", \"Property\", \"Murder\", \"Forcible_Rape\", \"Robbery\", \"Aggravated_assault\", \"Burglary\", \"Larceny_Theft\", \"Vehicle_Theft\"]\n",
        "decade_df =  df.withColumn(\"decade\", f.floor(f.year(df.Year) / 10) * 10).groupby(\"decade\").sum(*data_cols)\n",
        "decade_df.show()"
      ]
    },
    {
      "cell_type": "markdown",
      "metadata": {
        "id": "wTigVtFiVDLC"
      },
      "source": [
        "### Step 9. What is the most dangerous decade to live in the US?"
      ]
    },
    {
      "cell_type": "code",
      "execution_count": 53,
      "metadata": {
        "colab": {
          "base_uri": "https://localhost:8080/"
        },
        "id": "57ZqenmDVDLD",
        "outputId": "d60fa9e4-b075-4b93-bdb7-1cc38980d650"
      },
      "outputs": [
        {
          "output_type": "stream",
          "name": "stdout",
          "text": [
            "+------+------------+-------------+-----------+------------------+------------+-----------------------+-------------+------------------+------------------+---------+\n",
            "|decade|sum(Violent)|sum(Property)|sum(Murder)|sum(Forcible_Rape)|sum(Robbery)|sum(Aggravated_assault)|sum(Burglary)|sum(Larceny_Theft)|sum(Vehicle_Theft)|    Total|\n",
            "+------+------------+-------------+-----------+------------------+------------+-----------------------+-------------+------------------+------------------+---------+\n",
            "|  1990|    17527048|    119053499|     211664|            998827|     5748930|               10568963|     26750015|          77679366|          14624418|273162730|\n",
            "+------+------------+-------------+-----------+------------------+------------+-----------------------+-------------+------------------+------------------+---------+\n",
            "\n"
          ]
        }
      ],
      "source": [
        "decade_df.withColumn(\"Total\", sum(map(lambda c: f.col(f\"sum({c})\"), data_cols))).orderBy(f.desc(\"Total\")).limit(1).show()"
      ]
    }
  ],
  "metadata": {
    "anaconda-cloud": {},
    "kernelspec": {
      "display_name": "Python [default]",
      "language": "python",
      "name": "python2"
    },
    "language_info": {
      "codemirror_mode": {
        "name": "ipython",
        "version": 2
      },
      "file_extension": ".py",
      "mimetype": "text/x-python",
      "name": "python",
      "nbconvert_exporter": "python",
      "pygments_lexer": "ipython2",
      "version": "2.7.12"
    },
    "colab": {
      "provenance": []
    }
  },
  "nbformat": 4,
  "nbformat_minor": 0
}