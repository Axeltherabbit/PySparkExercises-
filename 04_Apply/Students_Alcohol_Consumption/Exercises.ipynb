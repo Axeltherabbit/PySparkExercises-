{
  "cells": [
    {
      "cell_type": "markdown",
      "metadata": {
        "id": "FcKNtq9NInND"
      },
      "source": [
        "# Student Alcohol Consumption"
      ]
    },
    {
      "cell_type": "markdown",
      "metadata": {
        "id": "OLvLwaviInNH"
      },
      "source": [
        "### Introduction:\n",
        "\n",
        "This time you will download a dataset from the UCI.\n",
        "\n",
        "### Step 1. Import the necessary libraries"
      ]
    },
    {
      "cell_type": "code",
      "execution_count": 1,
      "metadata": {
        "id": "qgu6J63IInNI",
        "outputId": "f0e1ac28-1156-4e3f-d9a7-078744a2f66a",
        "colab": {
          "base_uri": "https://localhost:8080/"
        }
      },
      "outputs": [
        {
          "output_type": "stream",
          "name": "stdout",
          "text": [
            "Looking in indexes: https://pypi.org/simple, https://us-python.pkg.dev/colab-wheels/public/simple/\n",
            "Collecting pyspark\n",
            "  Downloading pyspark-3.3.0.tar.gz (281.3 MB)\n",
            "\u001b[K     |████████████████████████████████| 281.3 MB 50 kB/s \n",
            "\u001b[?25hCollecting py4j==0.10.9.5\n",
            "  Downloading py4j-0.10.9.5-py2.py3-none-any.whl (199 kB)\n",
            "\u001b[K     |████████████████████████████████| 199 kB 43.1 MB/s \n",
            "\u001b[?25hBuilding wheels for collected packages: pyspark\n",
            "  Building wheel for pyspark (setup.py) ... \u001b[?25l\u001b[?25hdone\n",
            "  Created wheel for pyspark: filename=pyspark-3.3.0-py2.py3-none-any.whl size=281764026 sha256=966d0b5b207c9464655429ca86259773d74fb64c71e4ca77bffb24f981aa65ca\n",
            "  Stored in directory: /root/.cache/pip/wheels/7a/8e/1b/f73a52650d2e5f337708d9f6a1750d451a7349a867f928b885\n",
            "Successfully built pyspark\n",
            "Installing collected packages: py4j, pyspark\n",
            "Successfully installed py4j-0.10.9.5 pyspark-3.3.0\n"
          ]
        }
      ],
      "source": [
        "!pip install pyspark"
      ]
    },
    {
      "cell_type": "code",
      "source": [
        "from pyspark.sql import SparkSession, functions as f\n",
        "from pyspark.sql.types import StringType, BooleanType\n",
        "from pyspark.files import SparkFiles"
      ],
      "metadata": {
        "id": "wp3s6J6MJFwb"
      },
      "execution_count": 28,
      "outputs": []
    },
    {
      "cell_type": "markdown",
      "metadata": {
        "id": "TbZGgHL5InNJ"
      },
      "source": [
        "### Step 2. Import the dataset from this [address](https://raw.githubusercontent.com/guipsamora/pandas_exercises/master/04_Apply/Students_Alcohol_Consumption/student-mat.csv)."
      ]
    },
    {
      "cell_type": "code",
      "source": [
        "spark = SparkSession.builder.appName(\"exercise40\").getOrCreate()\n",
        "url = \"https://raw.githubusercontent.com/guipsamora/pandas_exercises/master/04_Apply/Students_Alcohol_Consumption/student-mat.csv\"\n",
        "spark.sparkContext.addFile(url)"
      ],
      "metadata": {
        "id": "7bRVfg4lJNP5"
      },
      "execution_count": 4,
      "outputs": []
    },
    {
      "cell_type": "markdown",
      "metadata": {
        "id": "Kn4yMKT_InNJ"
      },
      "source": [
        "### Step 3. Assign it to a variable called df."
      ]
    },
    {
      "cell_type": "code",
      "execution_count": 6,
      "metadata": {
        "id": "OpslN5MQInNK",
        "outputId": "a97d5dad-0560-4d91-fdd3-34fb7bbe4ea3",
        "colab": {
          "base_uri": "https://localhost:8080/"
        }
      },
      "outputs": [
        {
          "output_type": "stream",
          "name": "stdout",
          "text": [
            "root\n",
            " |-- school: string (nullable = true)\n",
            " |-- sex: string (nullable = true)\n",
            " |-- age: integer (nullable = true)\n",
            " |-- address: string (nullable = true)\n",
            " |-- famsize: string (nullable = true)\n",
            " |-- Pstatus: string (nullable = true)\n",
            " |-- Medu: integer (nullable = true)\n",
            " |-- Fedu: integer (nullable = true)\n",
            " |-- Mjob: string (nullable = true)\n",
            " |-- Fjob: string (nullable = true)\n",
            " |-- reason: string (nullable = true)\n",
            " |-- guardian: string (nullable = true)\n",
            " |-- traveltime: integer (nullable = true)\n",
            " |-- studytime: integer (nullable = true)\n",
            " |-- failures: integer (nullable = true)\n",
            " |-- schoolsup: string (nullable = true)\n",
            " |-- famsup: string (nullable = true)\n",
            " |-- paid: string (nullable = true)\n",
            " |-- activities: string (nullable = true)\n",
            " |-- nursery: string (nullable = true)\n",
            " |-- higher: string (nullable = true)\n",
            " |-- internet: string (nullable = true)\n",
            " |-- romantic: string (nullable = true)\n",
            " |-- famrel: integer (nullable = true)\n",
            " |-- freetime: integer (nullable = true)\n",
            " |-- goout: integer (nullable = true)\n",
            " |-- Dalc: integer (nullable = true)\n",
            " |-- Walc: integer (nullable = true)\n",
            " |-- health: integer (nullable = true)\n",
            " |-- absences: integer (nullable = true)\n",
            " |-- G1: integer (nullable = true)\n",
            " |-- G2: integer (nullable = true)\n",
            " |-- G3: integer (nullable = true)\n",
            "\n",
            "+------+---+---+-------+-------+-------+----+----+--------+--------+----------+--------+----------+---------+--------+---------+------+----+----------+-------+------+--------+--------+------+--------+-----+----+----+------+--------+---+---+---+\n",
            "|school|sex|age|address|famsize|Pstatus|Medu|Fedu|    Mjob|    Fjob|    reason|guardian|traveltime|studytime|failures|schoolsup|famsup|paid|activities|nursery|higher|internet|romantic|famrel|freetime|goout|Dalc|Walc|health|absences| G1| G2| G3|\n",
            "+------+---+---+-------+-------+-------+----+----+--------+--------+----------+--------+----------+---------+--------+---------+------+----+----------+-------+------+--------+--------+------+--------+-----+----+----+------+--------+---+---+---+\n",
            "|    GP|  F| 18|      U|    GT3|      A|   4|   4| at_home| teacher|    course|  mother|         2|        2|       0|      yes|    no|  no|        no|    yes|   yes|      no|      no|     4|       3|    4|   1|   1|     3|       6|  5|  6|  6|\n",
            "|    GP|  F| 17|      U|    GT3|      T|   1|   1| at_home|   other|    course|  father|         1|        2|       0|       no|   yes|  no|        no|     no|   yes|     yes|      no|     5|       3|    3|   1|   1|     3|       4|  5|  5|  6|\n",
            "|    GP|  F| 15|      U|    LE3|      T|   1|   1| at_home|   other|     other|  mother|         1|        2|       3|      yes|    no| yes|        no|    yes|   yes|     yes|      no|     4|       3|    2|   2|   3|     3|      10|  7|  8| 10|\n",
            "|    GP|  F| 15|      U|    GT3|      T|   4|   2|  health|services|      home|  mother|         1|        3|       0|       no|   yes| yes|       yes|    yes|   yes|     yes|     yes|     3|       2|    2|   1|   1|     5|       2| 15| 14| 15|\n",
            "|    GP|  F| 16|      U|    GT3|      T|   3|   3|   other|   other|      home|  father|         1|        2|       0|       no|   yes| yes|        no|    yes|   yes|      no|      no|     4|       3|    2|   1|   2|     5|       4|  6| 10| 10|\n",
            "|    GP|  M| 16|      U|    LE3|      T|   4|   3|services|   other|reputation|  mother|         1|        2|       0|       no|   yes| yes|       yes|    yes|   yes|     yes|      no|     5|       4|    2|   1|   2|     5|      10| 15| 15| 15|\n",
            "|    GP|  M| 16|      U|    LE3|      T|   2|   2|   other|   other|      home|  mother|         1|        2|       0|       no|    no|  no|        no|    yes|   yes|     yes|      no|     4|       4|    4|   1|   1|     3|       0| 12| 12| 11|\n",
            "|    GP|  F| 17|      U|    GT3|      A|   4|   4|   other| teacher|      home|  mother|         2|        2|       0|      yes|   yes|  no|        no|    yes|   yes|      no|      no|     4|       1|    4|   1|   1|     1|       6|  6|  5|  6|\n",
            "|    GP|  M| 15|      U|    LE3|      A|   3|   2|services|   other|      home|  mother|         1|        2|       0|       no|   yes| yes|        no|    yes|   yes|     yes|      no|     4|       2|    2|   1|   1|     1|       0| 16| 18| 19|\n",
            "|    GP|  M| 15|      U|    GT3|      T|   3|   4|   other|   other|      home|  mother|         1|        2|       0|       no|   yes| yes|       yes|    yes|   yes|     yes|      no|     5|       5|    1|   1|   1|     5|       0| 14| 15| 15|\n",
            "|    GP|  F| 15|      U|    GT3|      T|   4|   4| teacher|  health|reputation|  mother|         1|        2|       0|       no|   yes| yes|        no|    yes|   yes|     yes|      no|     3|       3|    3|   1|   2|     2|       0| 10|  8|  9|\n",
            "|    GP|  F| 15|      U|    GT3|      T|   2|   1|services|   other|reputation|  father|         3|        3|       0|       no|   yes|  no|       yes|    yes|   yes|     yes|      no|     5|       2|    2|   1|   1|     4|       4| 10| 12| 12|\n",
            "|    GP|  M| 15|      U|    LE3|      T|   4|   4|  health|services|    course|  father|         1|        1|       0|       no|   yes| yes|       yes|    yes|   yes|     yes|      no|     4|       3|    3|   1|   3|     5|       2| 14| 14| 14|\n",
            "|    GP|  M| 15|      U|    GT3|      T|   4|   3| teacher|   other|    course|  mother|         2|        2|       0|       no|   yes| yes|        no|    yes|   yes|     yes|      no|     5|       4|    3|   1|   2|     3|       2| 10| 10| 11|\n",
            "|    GP|  M| 15|      U|    GT3|      A|   2|   2|   other|   other|      home|   other|         1|        3|       0|       no|   yes|  no|        no|    yes|   yes|     yes|     yes|     4|       5|    2|   1|   1|     3|       0| 14| 16| 16|\n",
            "|    GP|  F| 16|      U|    GT3|      T|   4|   4|  health|   other|      home|  mother|         1|        1|       0|       no|   yes|  no|        no|    yes|   yes|     yes|      no|     4|       4|    4|   1|   2|     2|       4| 14| 14| 14|\n",
            "|    GP|  F| 16|      U|    GT3|      T|   4|   4|services|services|reputation|  mother|         1|        3|       0|       no|   yes| yes|       yes|    yes|   yes|     yes|      no|     3|       2|    3|   1|   2|     2|       6| 13| 14| 14|\n",
            "|    GP|  F| 16|      U|    GT3|      T|   3|   3|   other|   other|reputation|  mother|         3|        2|       0|      yes|   yes|  no|       yes|    yes|   yes|      no|      no|     5|       3|    2|   1|   1|     4|       4|  8| 10| 10|\n",
            "|    GP|  M| 17|      U|    GT3|      T|   3|   2|services|services|    course|  mother|         1|        1|       3|       no|   yes|  no|       yes|    yes|   yes|     yes|      no|     5|       5|    5|   2|   4|     5|      16|  6|  5|  5|\n",
            "|    GP|  M| 16|      U|    LE3|      T|   4|   3|  health|   other|      home|  father|         1|        1|       0|       no|    no| yes|       yes|    yes|   yes|     yes|      no|     3|       1|    3|   1|   3|     5|       4|  8| 10| 10|\n",
            "+------+---+---+-------+-------+-------+----+----+--------+--------+----------+--------+----------+---------+--------+---------+------+----+----------+-------+------+--------+--------+------+--------+-----+----+----+------+--------+---+---+---+\n",
            "only showing top 20 rows\n",
            "\n"
          ]
        }
      ],
      "source": [
        "df = spark.read.csv(\"file://\"+SparkFiles.get(\"student-mat.csv\"), header=True, inferSchema=True)\n",
        "df.printSchema()\n",
        "df.show()"
      ]
    },
    {
      "cell_type": "markdown",
      "metadata": {
        "id": "IcO9pNM1InNK"
      },
      "source": [
        "### Step 4. For the purpose of this exercise slice the dataframe from 'school' until the 'guardian' column"
      ]
    },
    {
      "cell_type": "code",
      "execution_count": 13,
      "metadata": {
        "id": "0Pm2AqMrInNK",
        "outputId": "e9af8f95-d213-4cfc-8d91-95e2ccdd6c8c",
        "colab": {
          "base_uri": "https://localhost:8080/"
        }
      },
      "outputs": [
        {
          "output_type": "stream",
          "name": "stdout",
          "text": [
            "+------+---+---+-------+-------+-------+----+----+--------+--------+----------+--------+\n",
            "|school|sex|age|address|famsize|Pstatus|Medu|Fedu|    Mjob|    Fjob|    reason|guardian|\n",
            "+------+---+---+-------+-------+-------+----+----+--------+--------+----------+--------+\n",
            "|    GP|  F| 18|      U|    GT3|      A|   4|   4| at_home| teacher|    course|  mother|\n",
            "|    GP|  F| 17|      U|    GT3|      T|   1|   1| at_home|   other|    course|  father|\n",
            "|    GP|  F| 15|      U|    LE3|      T|   1|   1| at_home|   other|     other|  mother|\n",
            "|    GP|  F| 15|      U|    GT3|      T|   4|   2|  health|services|      home|  mother|\n",
            "|    GP|  F| 16|      U|    GT3|      T|   3|   3|   other|   other|      home|  father|\n",
            "|    GP|  M| 16|      U|    LE3|      T|   4|   3|services|   other|reputation|  mother|\n",
            "|    GP|  M| 16|      U|    LE3|      T|   2|   2|   other|   other|      home|  mother|\n",
            "|    GP|  F| 17|      U|    GT3|      A|   4|   4|   other| teacher|      home|  mother|\n",
            "|    GP|  M| 15|      U|    LE3|      A|   3|   2|services|   other|      home|  mother|\n",
            "|    GP|  M| 15|      U|    GT3|      T|   3|   4|   other|   other|      home|  mother|\n",
            "|    GP|  F| 15|      U|    GT3|      T|   4|   4| teacher|  health|reputation|  mother|\n",
            "|    GP|  F| 15|      U|    GT3|      T|   2|   1|services|   other|reputation|  father|\n",
            "|    GP|  M| 15|      U|    LE3|      T|   4|   4|  health|services|    course|  father|\n",
            "|    GP|  M| 15|      U|    GT3|      T|   4|   3| teacher|   other|    course|  mother|\n",
            "|    GP|  M| 15|      U|    GT3|      A|   2|   2|   other|   other|      home|   other|\n",
            "|    GP|  F| 16|      U|    GT3|      T|   4|   4|  health|   other|      home|  mother|\n",
            "|    GP|  F| 16|      U|    GT3|      T|   4|   4|services|services|reputation|  mother|\n",
            "|    GP|  F| 16|      U|    GT3|      T|   3|   3|   other|   other|reputation|  mother|\n",
            "|    GP|  M| 17|      U|    GT3|      T|   3|   2|services|services|    course|  mother|\n",
            "|    GP|  M| 16|      U|    LE3|      T|   4|   3|  health|   other|      home|  father|\n",
            "+------+---+---+-------+-------+-------+----+----+--------+--------+----------+--------+\n",
            "only showing top 20 rows\n",
            "\n"
          ]
        }
      ],
      "source": [
        "school_idx = df.columns.index(\"school\")\n",
        "guardian_idx = df.columns.index(\"guardian\")\n",
        "\n",
        "df.select(*df.columns[school_idx: guardian_idx+1]).show()"
      ]
    },
    {
      "cell_type": "markdown",
      "metadata": {
        "id": "jI748Uu0InNL"
      },
      "source": [
        "### Step 5. Create a lambda function that will capitalize strings."
      ]
    },
    {
      "cell_type": "code",
      "execution_count": 20,
      "metadata": {
        "id": "VqRLVacZInNL"
      },
      "outputs": [],
      "source": [
        "capitalize = f.udf(lambda x : x.capitalize(),StringType())"
      ]
    },
    {
      "cell_type": "markdown",
      "metadata": {
        "id": "DAvZVlf9InNL"
      },
      "source": [
        "### Step 6. Capitalize both Mjob and Fjob"
      ]
    },
    {
      "cell_type": "code",
      "execution_count": 21,
      "metadata": {
        "id": "3Iq7f9MDInNM",
        "outputId": "0d18f541-fa47-4691-e683-b29ebae181dc",
        "colab": {
          "base_uri": "https://localhost:8080/"
        }
      },
      "outputs": [
        {
          "output_type": "stream",
          "name": "stdout",
          "text": [
            "+--------------+--------------+\n",
            "|<lambda>(Mjob)|<lambda>(Fjob)|\n",
            "+--------------+--------------+\n",
            "|       At_home|       Teacher|\n",
            "|       At_home|         Other|\n",
            "|       At_home|         Other|\n",
            "|        Health|      Services|\n",
            "|         Other|         Other|\n",
            "|      Services|         Other|\n",
            "|         Other|         Other|\n",
            "|         Other|       Teacher|\n",
            "|      Services|         Other|\n",
            "|         Other|         Other|\n",
            "|       Teacher|        Health|\n",
            "|      Services|         Other|\n",
            "|        Health|      Services|\n",
            "|       Teacher|         Other|\n",
            "|         Other|         Other|\n",
            "|        Health|         Other|\n",
            "|      Services|      Services|\n",
            "|         Other|         Other|\n",
            "|      Services|      Services|\n",
            "|        Health|         Other|\n",
            "+--------------+--------------+\n",
            "only showing top 20 rows\n",
            "\n"
          ]
        }
      ],
      "source": [
        "df.select(capitalize(df.Mjob), capitalize(df.Fjob)).show()"
      ]
    },
    {
      "cell_type": "markdown",
      "metadata": {
        "id": "Ve44sELuInNM"
      },
      "source": [
        "### Step 7. Print the last elements of the data set."
      ]
    },
    {
      "cell_type": "code",
      "execution_count": 22,
      "metadata": {
        "id": "iUbQHeqrInNM",
        "outputId": "5fc41629-32cd-4f0d-8e23-caa5912bfc5f",
        "colab": {
          "base_uri": "https://localhost:8080/"
        }
      },
      "outputs": [
        {
          "output_type": "execute_result",
          "data": {
            "text/plain": [
              "[Row(school='MS', sex='M', age=19, address='U', famsize='LE3', Pstatus='T', Medu=1, Fedu=1, Mjob='other', Fjob='at_home', reason='course', guardian='father', traveltime=1, studytime=1, failures=0, schoolsup='no', famsup='no', paid='no', activities='no', nursery='yes', higher='yes', internet='yes', romantic='no', famrel=3, freetime=2, goout=3, Dalc=3, Walc=3, health=5, absences=5, G1=8, G2=9, G3=9)]"
            ]
          },
          "metadata": {},
          "execution_count": 22
        }
      ],
      "source": [
        "df.tail(1)"
      ]
    },
    {
      "cell_type": "markdown",
      "metadata": {
        "id": "lVH99hnIInNM"
      },
      "source": [
        "### Step 8. Did you notice the original dataframe is still lowercase? Why is that? Fix it and capitalize Mjob and Fjob."
      ]
    },
    {
      "cell_type": "code",
      "execution_count": 27,
      "metadata": {
        "id": "zdegbN1qInNN",
        "outputId": "dd70ed82-41cf-4e82-800c-15cfef2cadac",
        "colab": {
          "base_uri": "https://localhost:8080/"
        }
      },
      "outputs": [
        {
          "output_type": "stream",
          "name": "stdout",
          "text": [
            "+------+---+---+-------+-------+-------+----+----+--------+--------+----------+--------+----------+---------+--------+---------+------+----+----------+-------+------+--------+--------+------+--------+-----+----+----+------+--------+---+---+---+\n",
            "|school|sex|age|address|famsize|Pstatus|Medu|Fedu|    Mjob|    Fjob|    reason|guardian|traveltime|studytime|failures|schoolsup|famsup|paid|activities|nursery|higher|internet|romantic|famrel|freetime|goout|Dalc|Walc|health|absences| G1| G2| G3|\n",
            "+------+---+---+-------+-------+-------+----+----+--------+--------+----------+--------+----------+---------+--------+---------+------+----+----------+-------+------+--------+--------+------+--------+-----+----+----+------+--------+---+---+---+\n",
            "|    GP|  F| 18|      U|    GT3|      A|   4|   4| At_home| Teacher|    course|  mother|         2|        2|       0|      yes|    no|  no|        no|    yes|   yes|      no|      no|     4|       3|    4|   1|   1|     3|       6|  5|  6|  6|\n",
            "|    GP|  F| 17|      U|    GT3|      T|   1|   1| At_home|   Other|    course|  father|         1|        2|       0|       no|   yes|  no|        no|     no|   yes|     yes|      no|     5|       3|    3|   1|   1|     3|       4|  5|  5|  6|\n",
            "|    GP|  F| 15|      U|    LE3|      T|   1|   1| At_home|   Other|     other|  mother|         1|        2|       3|      yes|    no| yes|        no|    yes|   yes|     yes|      no|     4|       3|    2|   2|   3|     3|      10|  7|  8| 10|\n",
            "|    GP|  F| 15|      U|    GT3|      T|   4|   2|  Health|Services|      home|  mother|         1|        3|       0|       no|   yes| yes|       yes|    yes|   yes|     yes|     yes|     3|       2|    2|   1|   1|     5|       2| 15| 14| 15|\n",
            "|    GP|  F| 16|      U|    GT3|      T|   3|   3|   Other|   Other|      home|  father|         1|        2|       0|       no|   yes| yes|        no|    yes|   yes|      no|      no|     4|       3|    2|   1|   2|     5|       4|  6| 10| 10|\n",
            "|    GP|  M| 16|      U|    LE3|      T|   4|   3|Services|   Other|reputation|  mother|         1|        2|       0|       no|   yes| yes|       yes|    yes|   yes|     yes|      no|     5|       4|    2|   1|   2|     5|      10| 15| 15| 15|\n",
            "|    GP|  M| 16|      U|    LE3|      T|   2|   2|   Other|   Other|      home|  mother|         1|        2|       0|       no|    no|  no|        no|    yes|   yes|     yes|      no|     4|       4|    4|   1|   1|     3|       0| 12| 12| 11|\n",
            "|    GP|  F| 17|      U|    GT3|      A|   4|   4|   Other| Teacher|      home|  mother|         2|        2|       0|      yes|   yes|  no|        no|    yes|   yes|      no|      no|     4|       1|    4|   1|   1|     1|       6|  6|  5|  6|\n",
            "|    GP|  M| 15|      U|    LE3|      A|   3|   2|Services|   Other|      home|  mother|         1|        2|       0|       no|   yes| yes|        no|    yes|   yes|     yes|      no|     4|       2|    2|   1|   1|     1|       0| 16| 18| 19|\n",
            "|    GP|  M| 15|      U|    GT3|      T|   3|   4|   Other|   Other|      home|  mother|         1|        2|       0|       no|   yes| yes|       yes|    yes|   yes|     yes|      no|     5|       5|    1|   1|   1|     5|       0| 14| 15| 15|\n",
            "|    GP|  F| 15|      U|    GT3|      T|   4|   4| Teacher|  Health|reputation|  mother|         1|        2|       0|       no|   yes| yes|        no|    yes|   yes|     yes|      no|     3|       3|    3|   1|   2|     2|       0| 10|  8|  9|\n",
            "|    GP|  F| 15|      U|    GT3|      T|   2|   1|Services|   Other|reputation|  father|         3|        3|       0|       no|   yes|  no|       yes|    yes|   yes|     yes|      no|     5|       2|    2|   1|   1|     4|       4| 10| 12| 12|\n",
            "|    GP|  M| 15|      U|    LE3|      T|   4|   4|  Health|Services|    course|  father|         1|        1|       0|       no|   yes| yes|       yes|    yes|   yes|     yes|      no|     4|       3|    3|   1|   3|     5|       2| 14| 14| 14|\n",
            "|    GP|  M| 15|      U|    GT3|      T|   4|   3| Teacher|   Other|    course|  mother|         2|        2|       0|       no|   yes| yes|        no|    yes|   yes|     yes|      no|     5|       4|    3|   1|   2|     3|       2| 10| 10| 11|\n",
            "|    GP|  M| 15|      U|    GT3|      A|   2|   2|   Other|   Other|      home|   other|         1|        3|       0|       no|   yes|  no|        no|    yes|   yes|     yes|     yes|     4|       5|    2|   1|   1|     3|       0| 14| 16| 16|\n",
            "|    GP|  F| 16|      U|    GT3|      T|   4|   4|  Health|   Other|      home|  mother|         1|        1|       0|       no|   yes|  no|        no|    yes|   yes|     yes|      no|     4|       4|    4|   1|   2|     2|       4| 14| 14| 14|\n",
            "|    GP|  F| 16|      U|    GT3|      T|   4|   4|Services|Services|reputation|  mother|         1|        3|       0|       no|   yes| yes|       yes|    yes|   yes|     yes|      no|     3|       2|    3|   1|   2|     2|       6| 13| 14| 14|\n",
            "|    GP|  F| 16|      U|    GT3|      T|   3|   3|   Other|   Other|reputation|  mother|         3|        2|       0|      yes|   yes|  no|       yes|    yes|   yes|      no|      no|     5|       3|    2|   1|   1|     4|       4|  8| 10| 10|\n",
            "|    GP|  M| 17|      U|    GT3|      T|   3|   2|Services|Services|    course|  mother|         1|        1|       3|       no|   yes|  no|       yes|    yes|   yes|     yes|      no|     5|       5|    5|   2|   4|     5|      16|  6|  5|  5|\n",
            "|    GP|  M| 16|      U|    LE3|      T|   4|   3|  Health|   Other|      home|  father|         1|        1|       0|       no|    no| yes|       yes|    yes|   yes|     yes|      no|     3|       1|    3|   1|   3|     5|       4|  8| 10| 10|\n",
            "+------+---+---+-------+-------+-------+----+----+--------+--------+----------+--------+----------+---------+--------+---------+------+----+----------+-------+------+--------+--------+------+--------+-----+----+----+------+--------+---+---+---+\n",
            "only showing top 20 rows\n",
            "\n"
          ]
        }
      ],
      "source": [
        "df = df.withColumn(\"Mjob\", capitalize(df.Mjob)).withColumn(\"Fjob\", capitalize(df.Fjob))\n",
        "df.show()\n"
      ]
    },
    {
      "cell_type": "markdown",
      "metadata": {
        "id": "HoKe8B_OInNN"
      },
      "source": [
        "### Step 9. Create a function called majority that returns a boolean value to a new column called legal_drinker (Consider majority as older than 17 years old)\n",
        "\n",
        "> Indented block\n",
        "\n"
      ]
    },
    {
      "cell_type": "code",
      "execution_count": 29,
      "metadata": {
        "id": "r3O-H9JIInNN"
      },
      "outputs": [],
      "source": [
        "majority = f.udf(lambda age : age > 17,BooleanType())"
      ]
    },
    {
      "cell_type": "code",
      "execution_count": 30,
      "metadata": {
        "id": "JpAeyXylInNN",
        "outputId": "66fc6b61-ad65-4fe4-b9ed-fe826c4b3a15",
        "colab": {
          "base_uri": "https://localhost:8080/"
        }
      },
      "outputs": [
        {
          "output_type": "stream",
          "name": "stdout",
          "text": [
            "+------+---+---+-------+-------+-------+----+----+--------+--------+----------+--------+----------+---------+--------+---------+------+----+----------+-------+------+--------+--------+------+--------+-----+----+----+------+--------+---+---+---+-------------+\n",
            "|school|sex|age|address|famsize|Pstatus|Medu|Fedu|    Mjob|    Fjob|    reason|guardian|traveltime|studytime|failures|schoolsup|famsup|paid|activities|nursery|higher|internet|romantic|famrel|freetime|goout|Dalc|Walc|health|absences| G1| G2| G3|legal_drinker|\n",
            "+------+---+---+-------+-------+-------+----+----+--------+--------+----------+--------+----------+---------+--------+---------+------+----+----------+-------+------+--------+--------+------+--------+-----+----+----+------+--------+---+---+---+-------------+\n",
            "|    GP|  F| 18|      U|    GT3|      A|   4|   4| At_home| Teacher|    course|  mother|         2|        2|       0|      yes|    no|  no|        no|    yes|   yes|      no|      no|     4|       3|    4|   1|   1|     3|       6|  5|  6|  6|         true|\n",
            "|    GP|  F| 17|      U|    GT3|      T|   1|   1| At_home|   Other|    course|  father|         1|        2|       0|       no|   yes|  no|        no|     no|   yes|     yes|      no|     5|       3|    3|   1|   1|     3|       4|  5|  5|  6|        false|\n",
            "|    GP|  F| 15|      U|    LE3|      T|   1|   1| At_home|   Other|     other|  mother|         1|        2|       3|      yes|    no| yes|        no|    yes|   yes|     yes|      no|     4|       3|    2|   2|   3|     3|      10|  7|  8| 10|        false|\n",
            "|    GP|  F| 15|      U|    GT3|      T|   4|   2|  Health|Services|      home|  mother|         1|        3|       0|       no|   yes| yes|       yes|    yes|   yes|     yes|     yes|     3|       2|    2|   1|   1|     5|       2| 15| 14| 15|        false|\n",
            "|    GP|  F| 16|      U|    GT3|      T|   3|   3|   Other|   Other|      home|  father|         1|        2|       0|       no|   yes| yes|        no|    yes|   yes|      no|      no|     4|       3|    2|   1|   2|     5|       4|  6| 10| 10|        false|\n",
            "|    GP|  M| 16|      U|    LE3|      T|   4|   3|Services|   Other|reputation|  mother|         1|        2|       0|       no|   yes| yes|       yes|    yes|   yes|     yes|      no|     5|       4|    2|   1|   2|     5|      10| 15| 15| 15|        false|\n",
            "|    GP|  M| 16|      U|    LE3|      T|   2|   2|   Other|   Other|      home|  mother|         1|        2|       0|       no|    no|  no|        no|    yes|   yes|     yes|      no|     4|       4|    4|   1|   1|     3|       0| 12| 12| 11|        false|\n",
            "|    GP|  F| 17|      U|    GT3|      A|   4|   4|   Other| Teacher|      home|  mother|         2|        2|       0|      yes|   yes|  no|        no|    yes|   yes|      no|      no|     4|       1|    4|   1|   1|     1|       6|  6|  5|  6|        false|\n",
            "|    GP|  M| 15|      U|    LE3|      A|   3|   2|Services|   Other|      home|  mother|         1|        2|       0|       no|   yes| yes|        no|    yes|   yes|     yes|      no|     4|       2|    2|   1|   1|     1|       0| 16| 18| 19|        false|\n",
            "|    GP|  M| 15|      U|    GT3|      T|   3|   4|   Other|   Other|      home|  mother|         1|        2|       0|       no|   yes| yes|       yes|    yes|   yes|     yes|      no|     5|       5|    1|   1|   1|     5|       0| 14| 15| 15|        false|\n",
            "|    GP|  F| 15|      U|    GT3|      T|   4|   4| Teacher|  Health|reputation|  mother|         1|        2|       0|       no|   yes| yes|        no|    yes|   yes|     yes|      no|     3|       3|    3|   1|   2|     2|       0| 10|  8|  9|        false|\n",
            "|    GP|  F| 15|      U|    GT3|      T|   2|   1|Services|   Other|reputation|  father|         3|        3|       0|       no|   yes|  no|       yes|    yes|   yes|     yes|      no|     5|       2|    2|   1|   1|     4|       4| 10| 12| 12|        false|\n",
            "|    GP|  M| 15|      U|    LE3|      T|   4|   4|  Health|Services|    course|  father|         1|        1|       0|       no|   yes| yes|       yes|    yes|   yes|     yes|      no|     4|       3|    3|   1|   3|     5|       2| 14| 14| 14|        false|\n",
            "|    GP|  M| 15|      U|    GT3|      T|   4|   3| Teacher|   Other|    course|  mother|         2|        2|       0|       no|   yes| yes|        no|    yes|   yes|     yes|      no|     5|       4|    3|   1|   2|     3|       2| 10| 10| 11|        false|\n",
            "|    GP|  M| 15|      U|    GT3|      A|   2|   2|   Other|   Other|      home|   other|         1|        3|       0|       no|   yes|  no|        no|    yes|   yes|     yes|     yes|     4|       5|    2|   1|   1|     3|       0| 14| 16| 16|        false|\n",
            "|    GP|  F| 16|      U|    GT3|      T|   4|   4|  Health|   Other|      home|  mother|         1|        1|       0|       no|   yes|  no|        no|    yes|   yes|     yes|      no|     4|       4|    4|   1|   2|     2|       4| 14| 14| 14|        false|\n",
            "|    GP|  F| 16|      U|    GT3|      T|   4|   4|Services|Services|reputation|  mother|         1|        3|       0|       no|   yes| yes|       yes|    yes|   yes|     yes|      no|     3|       2|    3|   1|   2|     2|       6| 13| 14| 14|        false|\n",
            "|    GP|  F| 16|      U|    GT3|      T|   3|   3|   Other|   Other|reputation|  mother|         3|        2|       0|      yes|   yes|  no|       yes|    yes|   yes|      no|      no|     5|       3|    2|   1|   1|     4|       4|  8| 10| 10|        false|\n",
            "|    GP|  M| 17|      U|    GT3|      T|   3|   2|Services|Services|    course|  mother|         1|        1|       3|       no|   yes|  no|       yes|    yes|   yes|     yes|      no|     5|       5|    5|   2|   4|     5|      16|  6|  5|  5|        false|\n",
            "|    GP|  M| 16|      U|    LE3|      T|   4|   3|  Health|   Other|      home|  father|         1|        1|       0|       no|    no| yes|       yes|    yes|   yes|     yes|      no|     3|       1|    3|   1|   3|     5|       4|  8| 10| 10|        false|\n",
            "+------+---+---+-------+-------+-------+----+----+--------+--------+----------+--------+----------+---------+--------+---------+------+----+----------+-------+------+--------+--------+------+--------+-----+----+----+------+--------+---+---+---+-------------+\n",
            "only showing top 20 rows\n",
            "\n"
          ]
        }
      ],
      "source": [
        "df.withColumn(\"legal_drinker\", majority(df.age)).show()"
      ]
    },
    {
      "cell_type": "markdown",
      "metadata": {
        "id": "cwb4WkXmInNN"
      },
      "source": [
        "### Step 10. Multiply every number of the dataset by 10. \n",
        "##### I know this makes no sense, don't forget it is just an exercise"
      ]
    },
    {
      "cell_type": "code",
      "execution_count": 38,
      "metadata": {
        "id": "dC7MnhvkInNN"
      },
      "outputs": [],
      "source": [
        "def multiplier(c, n = 10):\n",
        "  if dict(df.dtypes)[c] == \"int\":\n",
        "    return f.col(c)*n\n",
        "  else:\n",
        "    return f.col(c)"
      ]
    },
    {
      "cell_type": "code",
      "execution_count": 39,
      "metadata": {
        "id": "1govV5lBInNN",
        "outputId": "6d022458-ff70-4956-fa86-ae1722196204",
        "colab": {
          "base_uri": "https://localhost:8080/"
        }
      },
      "outputs": [
        {
          "output_type": "stream",
          "name": "stdout",
          "text": [
            "+------+---+----------+-------+-------+-------+-----------+-----------+--------+--------+----------+--------+-----------------+----------------+---------------+---------+------+----+----------+-------+------+--------+--------+-------------+---------------+------------+-----------+-----------+-------------+---------------+---------+---------+---------+\n",
            "|school|sex|(age * 10)|address|famsize|Pstatus|(Medu * 10)|(Fedu * 10)|    Mjob|    Fjob|    reason|guardian|(traveltime * 10)|(studytime * 10)|(failures * 10)|schoolsup|famsup|paid|activities|nursery|higher|internet|romantic|(famrel * 10)|(freetime * 10)|(goout * 10)|(Dalc * 10)|(Walc * 10)|(health * 10)|(absences * 10)|(G1 * 10)|(G2 * 10)|(G3 * 10)|\n",
            "+------+---+----------+-------+-------+-------+-----------+-----------+--------+--------+----------+--------+-----------------+----------------+---------------+---------+------+----+----------+-------+------+--------+--------+-------------+---------------+------------+-----------+-----------+-------------+---------------+---------+---------+---------+\n",
            "|    GP|  F|       180|      U|    GT3|      A|         40|         40| At_home| Teacher|    course|  mother|               20|              20|              0|      yes|    no|  no|        no|    yes|   yes|      no|      no|           40|             30|          40|         10|         10|           30|             60|       50|       60|       60|\n",
            "|    GP|  F|       170|      U|    GT3|      T|         10|         10| At_home|   Other|    course|  father|               10|              20|              0|       no|   yes|  no|        no|     no|   yes|     yes|      no|           50|             30|          30|         10|         10|           30|             40|       50|       50|       60|\n",
            "|    GP|  F|       150|      U|    LE3|      T|         10|         10| At_home|   Other|     other|  mother|               10|              20|             30|      yes|    no| yes|        no|    yes|   yes|     yes|      no|           40|             30|          20|         20|         30|           30|            100|       70|       80|      100|\n",
            "|    GP|  F|       150|      U|    GT3|      T|         40|         20|  Health|Services|      home|  mother|               10|              30|              0|       no|   yes| yes|       yes|    yes|   yes|     yes|     yes|           30|             20|          20|         10|         10|           50|             20|      150|      140|      150|\n",
            "|    GP|  F|       160|      U|    GT3|      T|         30|         30|   Other|   Other|      home|  father|               10|              20|              0|       no|   yes| yes|        no|    yes|   yes|      no|      no|           40|             30|          20|         10|         20|           50|             40|       60|      100|      100|\n",
            "|    GP|  M|       160|      U|    LE3|      T|         40|         30|Services|   Other|reputation|  mother|               10|              20|              0|       no|   yes| yes|       yes|    yes|   yes|     yes|      no|           50|             40|          20|         10|         20|           50|            100|      150|      150|      150|\n",
            "|    GP|  M|       160|      U|    LE3|      T|         20|         20|   Other|   Other|      home|  mother|               10|              20|              0|       no|    no|  no|        no|    yes|   yes|     yes|      no|           40|             40|          40|         10|         10|           30|              0|      120|      120|      110|\n",
            "|    GP|  F|       170|      U|    GT3|      A|         40|         40|   Other| Teacher|      home|  mother|               20|              20|              0|      yes|   yes|  no|        no|    yes|   yes|      no|      no|           40|             10|          40|         10|         10|           10|             60|       60|       50|       60|\n",
            "|    GP|  M|       150|      U|    LE3|      A|         30|         20|Services|   Other|      home|  mother|               10|              20|              0|       no|   yes| yes|        no|    yes|   yes|     yes|      no|           40|             20|          20|         10|         10|           10|              0|      160|      180|      190|\n",
            "|    GP|  M|       150|      U|    GT3|      T|         30|         40|   Other|   Other|      home|  mother|               10|              20|              0|       no|   yes| yes|       yes|    yes|   yes|     yes|      no|           50|             50|          10|         10|         10|           50|              0|      140|      150|      150|\n",
            "|    GP|  F|       150|      U|    GT3|      T|         40|         40| Teacher|  Health|reputation|  mother|               10|              20|              0|       no|   yes| yes|        no|    yes|   yes|     yes|      no|           30|             30|          30|         10|         20|           20|              0|      100|       80|       90|\n",
            "|    GP|  F|       150|      U|    GT3|      T|         20|         10|Services|   Other|reputation|  father|               30|              30|              0|       no|   yes|  no|       yes|    yes|   yes|     yes|      no|           50|             20|          20|         10|         10|           40|             40|      100|      120|      120|\n",
            "|    GP|  M|       150|      U|    LE3|      T|         40|         40|  Health|Services|    course|  father|               10|              10|              0|       no|   yes| yes|       yes|    yes|   yes|     yes|      no|           40|             30|          30|         10|         30|           50|             20|      140|      140|      140|\n",
            "|    GP|  M|       150|      U|    GT3|      T|         40|         30| Teacher|   Other|    course|  mother|               20|              20|              0|       no|   yes| yes|        no|    yes|   yes|     yes|      no|           50|             40|          30|         10|         20|           30|             20|      100|      100|      110|\n",
            "|    GP|  M|       150|      U|    GT3|      A|         20|         20|   Other|   Other|      home|   other|               10|              30|              0|       no|   yes|  no|        no|    yes|   yes|     yes|     yes|           40|             50|          20|         10|         10|           30|              0|      140|      160|      160|\n",
            "|    GP|  F|       160|      U|    GT3|      T|         40|         40|  Health|   Other|      home|  mother|               10|              10|              0|       no|   yes|  no|        no|    yes|   yes|     yes|      no|           40|             40|          40|         10|         20|           20|             40|      140|      140|      140|\n",
            "|    GP|  F|       160|      U|    GT3|      T|         40|         40|Services|Services|reputation|  mother|               10|              30|              0|       no|   yes| yes|       yes|    yes|   yes|     yes|      no|           30|             20|          30|         10|         20|           20|             60|      130|      140|      140|\n",
            "|    GP|  F|       160|      U|    GT3|      T|         30|         30|   Other|   Other|reputation|  mother|               30|              20|              0|      yes|   yes|  no|       yes|    yes|   yes|      no|      no|           50|             30|          20|         10|         10|           40|             40|       80|      100|      100|\n",
            "|    GP|  M|       170|      U|    GT3|      T|         30|         20|Services|Services|    course|  mother|               10|              10|             30|       no|   yes|  no|       yes|    yes|   yes|     yes|      no|           50|             50|          50|         20|         40|           50|            160|       60|       50|       50|\n",
            "|    GP|  M|       160|      U|    LE3|      T|         40|         30|  Health|   Other|      home|  father|               10|              10|              0|       no|    no| yes|       yes|    yes|   yes|     yes|      no|           30|             10|          30|         10|         30|           50|             40|       80|      100|      100|\n",
            "+------+---+----------+-------+-------+-------+-----------+-----------+--------+--------+----------+--------+-----------------+----------------+---------------+---------+------+----+----------+-------+------+--------+--------+-------------+---------------+------------+-----------+-----------+-------------+---------------+---------+---------+---------+\n",
            "only showing top 20 rows\n",
            "\n"
          ]
        }
      ],
      "source": [
        "df.select(*map(multiplier , df.columns)).show()"
      ]
    }
  ],
  "metadata": {
    "anaconda-cloud": {},
    "kernelspec": {
      "display_name": "Python [default]",
      "language": "python",
      "name": "python2"
    },
    "language_info": {
      "codemirror_mode": {
        "name": "ipython",
        "version": 2
      },
      "file_extension": ".py",
      "mimetype": "text/x-python",
      "name": "python",
      "nbconvert_exporter": "python",
      "pygments_lexer": "ipython2",
      "version": "2.7.12"
    },
    "colab": {
      "provenance": []
    }
  },
  "nbformat": 4,
  "nbformat_minor": 0
}