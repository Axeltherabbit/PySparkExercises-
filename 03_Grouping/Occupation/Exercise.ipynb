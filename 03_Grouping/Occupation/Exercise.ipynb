{
  "cells": [
    {
      "cell_type": "markdown",
      "metadata": {
        "id": "EQjwqQCbeQe2"
      },
      "source": [
        "# Occupation"
      ]
    },
    {
      "cell_type": "markdown",
      "metadata": {
        "id": "QqgXVREHeQe4"
      },
      "source": [
        "### Introduction:\n",
        "\n",
        "Special thanks to: https://github.com/justmarkham for sharing the dataset and materials.\n",
        "\n",
        "### Step 1. Import the necessary libraries"
      ]
    },
    {
      "cell_type": "code",
      "execution_count": 2,
      "metadata": {
        "id": "mMvcR7Q3eQe5",
        "outputId": "c8e35187-6f2d-46c1-87d6-051de8d05916",
        "colab": {
          "base_uri": "https://localhost:8080/"
        }
      },
      "outputs": [
        {
          "output_type": "stream",
          "name": "stdout",
          "text": [
            "Looking in indexes: https://pypi.org/simple, https://us-python.pkg.dev/colab-wheels/public/simple/\n",
            "Collecting pyspark\n",
            "  Downloading pyspark-3.3.0.tar.gz (281.3 MB)\n",
            "\u001b[K     |████████████████████████████████| 281.3 MB 46 kB/s \n",
            "\u001b[?25hCollecting py4j==0.10.9.5\n",
            "  Downloading py4j-0.10.9.5-py2.py3-none-any.whl (199 kB)\n",
            "\u001b[K     |████████████████████████████████| 199 kB 49.3 MB/s \n",
            "\u001b[?25hBuilding wheels for collected packages: pyspark\n",
            "  Building wheel for pyspark (setup.py) ... \u001b[?25l\u001b[?25hdone\n",
            "  Created wheel for pyspark: filename=pyspark-3.3.0-py2.py3-none-any.whl size=281764026 sha256=e48a758b546c6a1b746cd7aa9b2dcc964e1558d136015a35c4e53c3562de99af\n",
            "  Stored in directory: /root/.cache/pip/wheels/7a/8e/1b/f73a52650d2e5f337708d9f6a1750d451a7349a867f928b885\n",
            "Successfully built pyspark\n",
            "Installing collected packages: py4j, pyspark\n",
            "Successfully installed py4j-0.10.9.5 pyspark-3.3.0\n"
          ]
        }
      ],
      "source": [
        "!pip install pyspark"
      ]
    },
    {
      "cell_type": "code",
      "source": [
        "from pyspark.sql import SparkSession, Window, functions as f\n",
        "from pyspark.files import SparkFiles"
      ],
      "metadata": {
        "id": "K1GPuVufeVzY"
      },
      "execution_count": 3,
      "outputs": []
    },
    {
      "cell_type": "markdown",
      "metadata": {
        "id": "DrOfxXS9eQe5"
      },
      "source": [
        "### Step 2. Import the dataset from this [address](https://raw.githubusercontent.com/justmarkham/DAT8/master/data/u.user). "
      ]
    },
    {
      "cell_type": "code",
      "source": [
        "url = \"https://raw.githubusercontent.com/justmarkham/DAT8/master/data/u.user\"\n",
        "\n",
        "spark = SparkSession.builder.appName(\"Exercise31\").getOrCreate()\n",
        "spark.sparkContext.addFile(url)\n",
        "\n",
        "df = spark.read.csv(\"file://\" + SparkFiles.get(\"u.user\"), sep=\"|\", header=True, inferSchema=True)\n",
        "df.printSchema()"
      ],
      "metadata": {
        "id": "yGfpk4lgel40",
        "outputId": "5d1e8a48-2a5c-4d5e-e1c6-2ff7ab98cad9",
        "colab": {
          "base_uri": "https://localhost:8080/"
        }
      },
      "execution_count": 4,
      "outputs": [
        {
          "output_type": "stream",
          "name": "stdout",
          "text": [
            "root\n",
            " |-- user_id: integer (nullable = true)\n",
            " |-- age: integer (nullable = true)\n",
            " |-- gender: string (nullable = true)\n",
            " |-- occupation: string (nullable = true)\n",
            " |-- zip_code: string (nullable = true)\n",
            "\n"
          ]
        }
      ]
    },
    {
      "cell_type": "markdown",
      "metadata": {
        "id": "XRSO4nk4eQe6"
      },
      "source": [
        "### Step 3. Assign it to a variable called users."
      ]
    },
    {
      "cell_type": "code",
      "execution_count": null,
      "metadata": {
        "id": "6P00a9B4eQe6"
      },
      "outputs": [],
      "source": []
    },
    {
      "cell_type": "markdown",
      "metadata": {
        "id": "kZF60gRteQe6"
      },
      "source": [
        "### Step 4. Discover what is the mean age per occupation"
      ]
    },
    {
      "cell_type": "code",
      "execution_count": 5,
      "metadata": {
        "id": "Ipr1aTnTeQe7",
        "outputId": "df6a865c-137e-448e-907b-aebb4f4cec88",
        "colab": {
          "base_uri": "https://localhost:8080/"
        }
      },
      "outputs": [
        {
          "output_type": "stream",
          "name": "stdout",
          "text": [
            "+-------------+------------------+\n",
            "|   occupation|          avg(age)|\n",
            "+-------------+------------------+\n",
            "|    librarian|              40.0|\n",
            "|      retired| 63.07142857142857|\n",
            "|       lawyer|             36.75|\n",
            "|         none|26.555555555555557|\n",
            "|       writer| 36.31111111111111|\n",
            "|   programmer|33.121212121212125|\n",
            "|    marketing| 37.61538461538461|\n",
            "|        other|34.523809523809526|\n",
            "|    executive|          38.71875|\n",
            "|    scientist| 35.54838709677419|\n",
            "|      student|22.081632653061224|\n",
            "|     salesman|35.666666666666664|\n",
            "|       artist|31.392857142857142|\n",
            "|   technician|33.148148148148145|\n",
            "|administrator| 38.74683544303797|\n",
            "|     engineer| 36.38805970149254|\n",
            "|   healthcare|           41.5625|\n",
            "|     educator| 42.01052631578948|\n",
            "|entertainment| 29.22222222222222|\n",
            "|    homemaker| 32.57142857142857|\n",
            "+-------------+------------------+\n",
            "only showing top 20 rows\n",
            "\n"
          ]
        }
      ],
      "source": [
        "df.groupBy(\"occupation\").agg(f.mean(\"age\")).show()"
      ]
    },
    {
      "cell_type": "markdown",
      "metadata": {
        "id": "rOrAN6HPeQe7"
      },
      "source": [
        "### Step 5. Discover the Male ratio per occupation and sort it from the most to the least"
      ]
    },
    {
      "cell_type": "code",
      "execution_count": 39,
      "metadata": {
        "id": "KBtSy9sseQe7",
        "outputId": "9643ed96-03df-4350-e78c-6ff9e7a0a438",
        "colab": {
          "base_uri": "https://localhost:8080/"
        }
      },
      "outputs": [
        {
          "output_type": "stream",
          "name": "stdout",
          "text": [
            "+-------------+-------+-------+-------------------+\n",
            "|   occupation|count-M|count-F|        ratio males|\n",
            "+-------------+-------+-------+-------------------+\n",
            "|    librarian|     22|     29|0.43137254901960786|\n",
            "|      retired|     13|      1| 0.9285714285714286|\n",
            "|       lawyer|     10|      2| 0.8333333333333334|\n",
            "|         none|      5|      4| 0.5555555555555556|\n",
            "|       writer|     26|     19| 0.5777777777777777|\n",
            "|   programmer|     60|      6| 0.9090909090909091|\n",
            "|    marketing|     16|     10| 0.6153846153846154|\n",
            "|        other|     69|     36| 0.6571428571428571|\n",
            "|    executive|     29|      3|            0.90625|\n",
            "|    scientist|     28|      3| 0.9032258064516129|\n",
            "|      student|    136|     60| 0.6938775510204082|\n",
            "|     salesman|      9|      3|               0.75|\n",
            "|       artist|     15|     13| 0.5357142857142857|\n",
            "|   technician|     26|      1| 0.9629629629629629|\n",
            "|administrator|     43|     36| 0.5443037974683544|\n",
            "|     engineer|     65|      2| 0.9701492537313433|\n",
            "|   healthcare|      5|     11|             0.3125|\n",
            "|     educator|     69|     26| 0.7263157894736842|\n",
            "|entertainment|     16|      2| 0.8888888888888888|\n",
            "|    homemaker|      1|      6|0.14285714285714285|\n",
            "+-------------+-------+-------+-------------------+\n",
            "\n"
          ]
        }
      ],
      "source": [
        "males = df.filter(df.gender == \"M\").groupBy(\"occupation\").agg(f.count(\"gender\").alias(\"count-M\"))\n",
        "females = df.filter(df.gender == \"F\").groupBy(\"occupation\").agg(f.count(\"gender\").alias(\"count-F\"))\n",
        "males_and_females = males.join(females, on=\"occupation\")\n",
        "\n",
        "males_and_females.select(f.col(\"occupation\"), f.col(\"count-M\"), f.col(\"count-F\"), (f.col(\"count-M\")/(f.col(\"count-M\")+f.col(\"count-F\"))).alias(\"ratio males\")).show()"
      ]
    },
    {
      "cell_type": "markdown",
      "metadata": {
        "id": "eT4SYeHDeQe8"
      },
      "source": [
        "### Step 6. For each occupation, calculate the minimum and maximum ages"
      ]
    },
    {
      "cell_type": "code",
      "execution_count": 6,
      "metadata": {
        "id": "FptxPDHreQe8",
        "outputId": "92167389-3c5e-4cb0-ab8f-7354b09cde38",
        "colab": {
          "base_uri": "https://localhost:8080/"
        }
      },
      "outputs": [
        {
          "output_type": "stream",
          "name": "stdout",
          "text": [
            "+-------------+--------+--------+\n",
            "|   occupation|min(age)|max(age)|\n",
            "+-------------+--------+--------+\n",
            "|    librarian|      23|      69|\n",
            "|      retired|      51|      73|\n",
            "|       lawyer|      21|      53|\n",
            "|         none|      11|      55|\n",
            "|       writer|      18|      60|\n",
            "|   programmer|      20|      63|\n",
            "|    marketing|      24|      55|\n",
            "|        other|      13|      64|\n",
            "|    executive|      22|      69|\n",
            "|    scientist|      23|      55|\n",
            "|      student|       7|      42|\n",
            "|     salesman|      18|      66|\n",
            "|       artist|      19|      48|\n",
            "|   technician|      21|      55|\n",
            "|administrator|      21|      70|\n",
            "|     engineer|      22|      70|\n",
            "|   healthcare|      22|      62|\n",
            "|     educator|      23|      63|\n",
            "|entertainment|      15|      50|\n",
            "|    homemaker|      20|      50|\n",
            "+-------------+--------+--------+\n",
            "only showing top 20 rows\n",
            "\n"
          ]
        }
      ],
      "source": [
        "df.groupBy(\"occupation\").agg(f.min(\"age\"),f.max(\"age\")).show()"
      ]
    },
    {
      "cell_type": "markdown",
      "metadata": {
        "id": "ScAfP0Q0eQe8"
      },
      "source": [
        "### Step 7. For each combination of occupation and gender, calculate the mean age"
      ]
    },
    {
      "cell_type": "code",
      "execution_count": 7,
      "metadata": {
        "id": "CNHkhg2PeQe8",
        "outputId": "5d64c815-6939-42ad-8357-ec83b4050eee",
        "colab": {
          "base_uri": "https://localhost:8080/"
        }
      },
      "outputs": [
        {
          "output_type": "stream",
          "name": "stdout",
          "text": [
            "+-------------+------+------------------+\n",
            "|   occupation|gender|          avg(age)|\n",
            "+-------------+------+------------------+\n",
            "|   technician|     M| 32.96153846153846|\n",
            "|     educator|     F| 39.11538461538461|\n",
            "|       lawyer|     F|              39.5|\n",
            "|entertainment|     F|              31.0|\n",
            "|       lawyer|     M|              36.2|\n",
            "|      retired|     F|              70.0|\n",
            "|      student|     F|             20.75|\n",
            "|   healthcare|     F| 39.81818181818182|\n",
            "|administrator|     M| 37.16279069767442|\n",
            "|    marketing|     M|            37.875|\n",
            "|     engineer|     F|              29.5|\n",
            "|    homemaker|     F|34.166666666666664|\n",
            "|       artist|     F|30.307692307692307|\n",
            "|         none|     F|              36.5|\n",
            "|       doctor|     M| 43.57142857142857|\n",
            "|       writer|     F| 37.63157894736842|\n",
            "|     educator|     M| 43.10144927536232|\n",
            "|    scientist|     M| 36.32142857142857|\n",
            "|   technician|     F|              38.0|\n",
            "|       writer|     M| 35.34615384615385|\n",
            "+-------------+------+------------------+\n",
            "only showing top 20 rows\n",
            "\n"
          ]
        }
      ],
      "source": [
        "df.groupBy(\"occupation\", \"gender\").agg(f.mean(\"age\")).show()"
      ]
    },
    {
      "cell_type": "markdown",
      "metadata": {
        "id": "QeZRN0yeeQe9"
      },
      "source": [
        "### Step 8.  For each occupation present the percentage of women and men"
      ]
    },
    {
      "cell_type": "code",
      "execution_count": 43,
      "metadata": {
        "id": "pcfG8FHGeQe9",
        "outputId": "477f360d-be6a-4c37-c7d8-6a357658b0ec",
        "colab": {
          "base_uri": "https://localhost:8080/"
        }
      },
      "outputs": [
        {
          "output_type": "stream",
          "name": "stdout",
          "text": [
            "+-------------+-------+-------+------------------+------------------+\n",
            "|   occupation|count-M|count-F|  percentage-males|percentage-females|\n",
            "+-------------+-------+-------+------------------+------------------+\n",
            "|    librarian|     22|     29| 43.13725490196079| 56.86274509803921|\n",
            "|      retired|     13|      1| 92.85714285714286| 7.142857142857142|\n",
            "|       lawyer|     10|      2| 83.33333333333334|16.666666666666664|\n",
            "|         none|      5|      4| 55.55555555555556| 44.44444444444444|\n",
            "|       writer|     26|     19| 57.77777777777777| 42.22222222222222|\n",
            "|   programmer|     60|      6|  90.9090909090909| 9.090909090909092|\n",
            "|    marketing|     16|     10| 61.53846153846154| 38.46153846153847|\n",
            "|        other|     69|     36| 65.71428571428571|34.285714285714285|\n",
            "|    executive|     29|      3|            90.625|             9.375|\n",
            "|    scientist|     28|      3| 90.32258064516128|  9.67741935483871|\n",
            "|      student|    136|     60| 69.38775510204081|30.612244897959183|\n",
            "|     salesman|      9|      3|              75.0|              25.0|\n",
            "|       artist|     15|     13| 53.57142857142857| 46.42857142857143|\n",
            "|   technician|     26|      1| 96.29629629629629|3.7037037037037033|\n",
            "|administrator|     43|     36| 54.43037974683544| 45.56962025316456|\n",
            "|     engineer|     65|      2| 97.01492537313433|2.9850746268656714|\n",
            "|   healthcare|      5|     11|             31.25|             68.75|\n",
            "|     educator|     69|     26| 72.63157894736842|27.368421052631582|\n",
            "|entertainment|     16|      2| 88.88888888888889| 11.11111111111111|\n",
            "|    homemaker|      1|      6|14.285714285714285| 85.71428571428571|\n",
            "+-------------+-------+-------+------------------+------------------+\n",
            "\n"
          ]
        }
      ],
      "source": [
        "males_and_females.select(f.col(\"occupation\"), f.col(\"count-M\"), f.col(\"count-F\"),\n",
        "                         (f.col(\"count-M\")/(f.col(\"count-M\")+f.col(\"count-F\"))*100).alias(\"percentage-males\"),\n",
        "                         (f.col(\"count-F\")/(f.col(\"count-M\")+f.col(\"count-F\"))*100).alias(\"percentage-females\")).show()"
      ]
    }
  ],
  "metadata": {
    "kernelspec": {
      "display_name": "Python 2",
      "language": "python",
      "name": "python2"
    },
    "language_info": {
      "codemirror_mode": {
        "name": "ipython",
        "version": 2
      },
      "file_extension": ".py",
      "mimetype": "text/x-python",
      "name": "python",
      "nbconvert_exporter": "python",
      "pygments_lexer": "ipython2",
      "version": "2.7.11"
    },
    "colab": {
      "provenance": []
    }
  },
  "nbformat": 4,
  "nbformat_minor": 0
}