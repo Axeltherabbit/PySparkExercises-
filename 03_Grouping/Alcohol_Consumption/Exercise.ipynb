{
  "cells": [
    {
      "cell_type": "markdown",
      "metadata": {
        "id": "u5U7q6ZRFXNO"
      },
      "source": [
        "# Ex - GroupBy"
      ]
    },
    {
      "cell_type": "markdown",
      "metadata": {
        "id": "rTBKwFF9FXNP"
      },
      "source": [
        "### Introduction:\n",
        "\n",
        "GroupBy can be summarized as Split-Apply-Combine.\n",
        "\n",
        "Special thanks to: https://github.com/justmarkham for sharing the dataset and materials.\n",
        "\n",
        "Check out this [Diagram](http://i.imgur.com/yjNkiwL.png)  \n",
        "### Step 1. Import the necessary libraries"
      ]
    },
    {
      "cell_type": "code",
      "execution_count": 1,
      "metadata": {
        "id": "cgUbOp6PFXNQ",
        "outputId": "cbac1b99-4df2-401d-8169-8dc58da1a5cd",
        "colab": {
          "base_uri": "https://localhost:8080/"
        }
      },
      "outputs": [
        {
          "output_type": "stream",
          "name": "stdout",
          "text": [
            "Looking in indexes: https://pypi.org/simple, https://us-python.pkg.dev/colab-wheels/public/simple/\n",
            "Collecting pyspark\n",
            "  Downloading pyspark-3.3.0.tar.gz (281.3 MB)\n",
            "\u001b[K     |████████████████████████████████| 281.3 MB 45 kB/s \n",
            "\u001b[?25hCollecting py4j==0.10.9.5\n",
            "  Downloading py4j-0.10.9.5-py2.py3-none-any.whl (199 kB)\n",
            "\u001b[K     |████████████████████████████████| 199 kB 45.6 MB/s \n",
            "\u001b[?25hBuilding wheels for collected packages: pyspark\n",
            "  Building wheel for pyspark (setup.py) ... \u001b[?25l\u001b[?25hdone\n",
            "  Created wheel for pyspark: filename=pyspark-3.3.0-py2.py3-none-any.whl size=281764026 sha256=121082837704afe96905085711c9ca6d66b1e34215043325fa5bf4befb52ab1e\n",
            "  Stored in directory: /root/.cache/pip/wheels/7a/8e/1b/f73a52650d2e5f337708d9f6a1750d451a7349a867f928b885\n",
            "Successfully built pyspark\n",
            "Installing collected packages: py4j, pyspark\n",
            "Successfully installed py4j-0.10.9.5 pyspark-3.3.0\n"
          ]
        }
      ],
      "source": [
        "!pip install pyspark"
      ]
    },
    {
      "cell_type": "code",
      "source": [
        "from pyspark.sql import SparkSession, functions as f\n",
        "from pyspark.files import SparkFiles"
      ],
      "metadata": {
        "id": "uZraP3zRFe2C"
      },
      "execution_count": 3,
      "outputs": []
    },
    {
      "cell_type": "markdown",
      "metadata": {
        "id": "FQ5du1p0FXNR"
      },
      "source": [
        "### Step 2. Import the dataset from this [address](https://raw.githubusercontent.com/justmarkham/DAT8/master/data/drinks.csv). "
      ]
    },
    {
      "cell_type": "code",
      "source": [
        "spark = SparkSession.builder.appName(\"Exercise30\").getOrCreate()\n",
        "spark.sparkContext.addFile(\"https://raw.githubusercontent.com/justmarkham/DAT8/master/data/drinks.csv\")\n",
        "\n",
        "df = spark.read.csv(\"file://\" + SparkFiles.get(\"drinks.csv\"), sep=\",\", header=True, inferSchema=True)\n",
        "df.printSchema()"
      ],
      "metadata": {
        "id": "8PWnfq1vFpsl",
        "outputId": "6b349862-5a0e-47c9-85fb-5be8c97154ad",
        "colab": {
          "base_uri": "https://localhost:8080/"
        }
      },
      "execution_count": 5,
      "outputs": [
        {
          "output_type": "stream",
          "name": "stdout",
          "text": [
            "root\n",
            " |-- country: string (nullable = true)\n",
            " |-- beer_servings: integer (nullable = true)\n",
            " |-- spirit_servings: integer (nullable = true)\n",
            " |-- wine_servings: integer (nullable = true)\n",
            " |-- total_litres_of_pure_alcohol: double (nullable = true)\n",
            " |-- continent: string (nullable = true)\n",
            "\n"
          ]
        }
      ]
    },
    {
      "cell_type": "markdown",
      "metadata": {
        "id": "BKCVZXmwFXNR"
      },
      "source": [
        "### Step 3. Assign it to a variable called drinks."
      ]
    },
    {
      "cell_type": "code",
      "execution_count": null,
      "metadata": {
        "id": "mgDNjZpoFXNR"
      },
      "outputs": [],
      "source": []
    },
    {
      "cell_type": "markdown",
      "metadata": {
        "id": "rIUsbLAZFXNS"
      },
      "source": [
        "### Step 4. Which continent drinks more beer on average?"
      ]
    },
    {
      "cell_type": "code",
      "execution_count": 10,
      "metadata": {
        "id": "VgKlFfz-FXNS",
        "outputId": "719fdf29-5ee5-4615-bfaf-d1fcec059bd3",
        "colab": {
          "base_uri": "https://localhost:8080/"
        }
      },
      "outputs": [
        {
          "output_type": "stream",
          "name": "stdout",
          "text": [
            "+---------+------------------+\n",
            "|continent|avg(beer_servings)|\n",
            "+---------+------------------+\n",
            "|       EU|193.77777777777777|\n",
            "+---------+------------------+\n",
            "\n"
          ]
        }
      ],
      "source": [
        "df.groupby(\"continent\").avg(\"beer_servings\").orderBy(f.desc(\"avg(beer_servings)\")).limit(1).show()"
      ]
    },
    {
      "cell_type": "markdown",
      "metadata": {
        "id": "Cf0AE_0cFXNS"
      },
      "source": [
        "### Step 5. For each continent print the statistics for wine consumption."
      ]
    },
    {
      "cell_type": "code",
      "execution_count": 20,
      "metadata": {
        "colab": {
          "base_uri": "https://localhost:8080/"
        },
        "id": "XsnRj4BhFXNT",
        "outputId": "e9e12b0c-b081-48c5-f453-972a5c19954c"
      },
      "outputs": [
        {
          "output_type": "stream",
          "name": "stdout",
          "text": [
            "+---------+------------------+------------------+------------------+------------------+\n",
            "|continent|min(wine_servings)|max(wine_servings)|avg(wine_servings)|avg(wine_servings)|\n",
            "+---------+------------------+------------------+------------------+------------------+\n",
            "|       NA|                 1|               100| 24.52173913043478| 24.52173913043478|\n",
            "|       SA|                 1|               221|62.416666666666664|62.416666666666664|\n",
            "|       AS|                 0|               123| 9.068181818181818| 9.068181818181818|\n",
            "|       OC|                 0|               212|            35.625|            35.625|\n",
            "|       EU|                 0|               370|142.22222222222223|142.22222222222223|\n",
            "|       AF|                 0|               233|16.264150943396228|16.264150943396228|\n",
            "+---------+------------------+------------------+------------------+------------------+\n",
            "\n"
          ]
        }
      ],
      "source": [
        "df.groupby(\"continent\").agg(*map(lambda foo: foo(\"wine_servings\"),[f.min,f.max, f.mean])).show()"
      ]
    },
    {
      "cell_type": "markdown",
      "metadata": {
        "id": "MleYi2V2FXNT"
      },
      "source": [
        "### Step 6. Print the mean alcohol consumption per continent for every column"
      ]
    },
    {
      "cell_type": "code",
      "execution_count": 41,
      "metadata": {
        "id": "kowpt0EMFXNT",
        "outputId": "fb2a58d5-a863-4d05-8fa4-955f68767082",
        "colab": {
          "base_uri": "https://localhost:8080/"
        }
      },
      "outputs": [
        {
          "output_type": "stream",
          "name": "stdout",
          "text": [
            "+---------+------------------+--------------------+---------------------------------+------------------+\n",
            "|continent|avg(wine_servings)|avg(spirit_servings)|avg(total_litres_of_pure_alcohol)|avg(beer_servings)|\n",
            "+---------+------------------+--------------------+---------------------------------+------------------+\n",
            "|       NA| 24.52173913043478|   165.7391304347826|                5.995652173913044|145.43478260869566|\n",
            "|       SA|62.416666666666664|              114.75|                6.308333333333334|175.08333333333334|\n",
            "|       AS| 9.068181818181818|   60.84090909090909|               2.1704545454545454| 37.04545454545455|\n",
            "|       OC|            35.625|             58.4375|               3.3812500000000005|           89.6875|\n",
            "|       EU|142.22222222222223|  132.55555555555554|                8.617777777777777|193.77777777777777|\n",
            "|       AF|16.264150943396228|  16.339622641509433|                 3.00754716981132|61.471698113207545|\n",
            "+---------+------------------+--------------------+---------------------------------+------------------+\n",
            "\n"
          ]
        }
      ],
      "source": [
        "df.groupBy(\"continent\")\\\n",
        "  .agg({\"beer_servings\":\"avg\",\"spirit_servings\":\"avg\", \"wine_servings\":\"avg\", \"total_litres_of_pure_alcohol\":\"avg\"}).show()"
      ]
    },
    {
      "cell_type": "markdown",
      "metadata": {
        "id": "zvqWuej-FXNT"
      },
      "source": [
        "### Step 7. Print the median alcohol consumption per continent for every column"
      ]
    },
    {
      "cell_type": "code",
      "execution_count": 44,
      "metadata": {
        "id": "KETT98ZdFXNT",
        "outputId": "625173d6-0cec-40f1-c0e6-fd3006a34e8d",
        "colab": {
          "base_uri": "https://localhost:8080/"
        }
      },
      "outputs": [
        {
          "output_type": "stream",
          "name": "stdout",
          "text": [
            "+---------+--------------------------------------------+----------------------------------------------+--------------------------------------------+-----------------------------------------------------------+\n",
            "|continent|percentile_approx(beer_servings, 0.5, 10000)|percentile_approx(spirit_servings, 0.5, 10000)|percentile_approx(wine_servings, 0.5, 10000)|percentile_approx(total_litres_of_pure_alcohol, 0.5, 10000)|\n",
            "+---------+--------------------------------------------+----------------------------------------------+--------------------------------------------+-----------------------------------------------------------+\n",
            "|       NA|                                         143|                                           137|                                          11|                                                        6.3|\n",
            "|       SA|                                         162|                                           100|                                           8|                                                        6.6|\n",
            "|       AS|                                          16|                                            16|                                           1|                                                        1.0|\n",
            "|       OC|                                          49|                                            35|                                           8|                                                        1.5|\n",
            "|       EU|                                         219|                                           122|                                         128|                                                       10.0|\n",
            "|       AF|                                          32|                                             3|                                           2|                                                        2.3|\n",
            "+---------+--------------------------------------------+----------------------------------------------+--------------------------------------------+-----------------------------------------------------------+\n",
            "\n"
          ]
        }
      ],
      "source": [
        "df.groupBy(\"continent\")\\\n",
        "  .agg(f.percentile_approx(\"beer_servings\",0.5),\n",
        "       f.percentile_approx(\"spirit_servings\",0.5),\n",
        "       f.percentile_approx(\"wine_servings\",0.5),\n",
        "       f.percentile_approx(\"total_litres_of_pure_alcohol\", 0.5))\\\n",
        "  .show()"
      ]
    },
    {
      "cell_type": "markdown",
      "metadata": {
        "id": "wvfrWELbFXNU"
      },
      "source": [
        "### Step 8. Print the mean, min and max values for spirit consumption.\n",
        "#### This time output a DataFrame"
      ]
    },
    {
      "cell_type": "code",
      "execution_count": 45,
      "metadata": {
        "id": "Tz3U5PmoFXNU",
        "outputId": "3eeb393e-b13b-4616-960a-804ce7f224fc",
        "colab": {
          "base_uri": "https://localhost:8080/"
        }
      },
      "outputs": [
        {
          "output_type": "stream",
          "name": "stdout",
          "text": [
            "+--------------------+--------------------+--------------------+\n",
            "|avg(spirit_servings)|min(spirit_servings)|max(spirit_servings)|\n",
            "+--------------------+--------------------+--------------------+\n",
            "|   80.99481865284974|                   0|                 438|\n",
            "+--------------------+--------------------+--------------------+\n",
            "\n"
          ]
        }
      ],
      "source": [
        "df.select(f.mean(\"spirit_servings\"), f.min(\"spirit_servings\"), f.max(\"spirit_servings\")).show()"
      ]
    }
  ],
  "metadata": {
    "kernelspec": {
      "display_name": "Python 2",
      "language": "python",
      "name": "python2"
    },
    "language_info": {
      "codemirror_mode": {
        "name": "ipython",
        "version": 2
      },
      "file_extension": ".py",
      "mimetype": "text/x-python",
      "name": "python",
      "nbconvert_exporter": "python",
      "pygments_lexer": "ipython2",
      "version": "2.7.16"
    },
    "colab": {
      "provenance": []
    }
  },
  "nbformat": 4,
  "nbformat_minor": 0
}