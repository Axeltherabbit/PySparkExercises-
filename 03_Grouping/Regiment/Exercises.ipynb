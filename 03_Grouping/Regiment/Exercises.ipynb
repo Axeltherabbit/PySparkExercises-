{
  "cells": [
    {
      "cell_type": "markdown",
      "metadata": {
        "id": "Iakf4M6IeHiB"
      },
      "source": [
        "# Regiment"
      ]
    },
    {
      "cell_type": "markdown",
      "metadata": {
        "id": "6gWYwcFieHiI"
      },
      "source": [
        "### Introduction:\n",
        "\n",
        "Special thanks to: http://chrisalbon.com/ for sharing the dataset and materials.\n",
        "\n",
        "### Step 1. Import the necessary libraries"
      ]
    },
    {
      "cell_type": "code",
      "execution_count": 1,
      "metadata": {
        "colab": {
          "base_uri": "https://localhost:8080/"
        },
        "id": "wunifUqfeHiJ",
        "outputId": "a8233106-2408-453e-c43a-3640402156d2"
      },
      "outputs": [
        {
          "output_type": "stream",
          "name": "stdout",
          "text": [
            "Looking in indexes: https://pypi.org/simple, https://us-python.pkg.dev/colab-wheels/public/simple/\n",
            "Collecting pyspark\n",
            "  Downloading pyspark-3.3.0.tar.gz (281.3 MB)\n",
            "\u001b[K     |████████████████████████████████| 281.3 MB 45 kB/s \n",
            "\u001b[?25hCollecting py4j==0.10.9.5\n",
            "  Downloading py4j-0.10.9.5-py2.py3-none-any.whl (199 kB)\n",
            "\u001b[K     |████████████████████████████████| 199 kB 51.7 MB/s \n",
            "\u001b[?25hBuilding wheels for collected packages: pyspark\n",
            "  Building wheel for pyspark (setup.py) ... \u001b[?25l\u001b[?25hdone\n",
            "  Created wheel for pyspark: filename=pyspark-3.3.0-py2.py3-none-any.whl size=281764026 sha256=591f6523ccd7abd527f0f764b665db6fe065350d6f0343446ed2d1e5b5152c95\n",
            "  Stored in directory: /root/.cache/pip/wheels/7a/8e/1b/f73a52650d2e5f337708d9f6a1750d451a7349a867f928b885\n",
            "Successfully built pyspark\n",
            "Installing collected packages: py4j, pyspark\n",
            "Successfully installed py4j-0.10.9.5 pyspark-3.3.0\n"
          ]
        }
      ],
      "source": [
        "!pip install pyspark"
      ]
    },
    {
      "cell_type": "code",
      "source": [
        "from pyspark.sql import SparkSession, functions as f"
      ],
      "metadata": {
        "id": "XdvXxrG2eMMk"
      },
      "execution_count": 2,
      "outputs": []
    },
    {
      "cell_type": "code",
      "source": [
        "spark = SparkSession.builder.appName(\"exercise33\").getOrCreate()"
      ],
      "metadata": {
        "id": "b99zC4YaenR-"
      },
      "execution_count": 5,
      "outputs": []
    },
    {
      "cell_type": "markdown",
      "metadata": {
        "id": "XF2bftjxeHiL"
      },
      "source": [
        "### Step 2. Create the DataFrame with the following values:"
      ]
    },
    {
      "cell_type": "code",
      "execution_count": 3,
      "metadata": {
        "collapsed": true,
        "id": "-5pWeIrBeHiL"
      },
      "outputs": [],
      "source": [
        "raw_data = {'regiment': ['Nighthawks', 'Nighthawks', 'Nighthawks', 'Nighthawks', 'Dragoons', 'Dragoons', 'Dragoons', 'Dragoons', 'Scouts', 'Scouts', 'Scouts', 'Scouts'], \n",
        "        'company': ['1st', '1st', '2nd', '2nd', '1st', '1st', '2nd', '2nd','1st', '1st', '2nd', '2nd'], \n",
        "        'name': ['Miller', 'Jacobson', 'Ali', 'Milner', 'Cooze', 'Jacon', 'Ryaner', 'Sone', 'Sloan', 'Piger', 'Riani', 'Ali'], \n",
        "        'preTestScore': [4, 24, 31, 2, 3, 4, 24, 31, 2, 3, 2, 3],\n",
        "        'postTestScore': [25, 94, 57, 62, 70, 25, 94, 57, 62, 70, 62, 70]}"
      ]
    },
    {
      "cell_type": "markdown",
      "metadata": {
        "id": "xQxczal-eHiM"
      },
      "source": [
        "### Step 3. Assign it to a variable called regiment.\n",
        "#### Don't forget to name each column"
      ]
    },
    {
      "cell_type": "code",
      "execution_count": 7,
      "metadata": {
        "colab": {
          "base_uri": "https://localhost:8080/"
        },
        "id": "XYtNUPLbeHiN",
        "outputId": "ffcffc5a-fc31-4787-90cb-db8098fcc959"
      },
      "outputs": [
        {
          "output_type": "stream",
          "name": "stdout",
          "text": [
            "root\n",
            " |-- regiment: string (nullable = true)\n",
            " |-- company: string (nullable = true)\n",
            " |-- name: string (nullable = true)\n",
            " |-- preTestScore: long (nullable = true)\n",
            " |-- postTestScore: long (nullable = true)\n",
            "\n",
            "+----------+-------+--------+------------+-------------+\n",
            "|  regiment|company|    name|preTestScore|postTestScore|\n",
            "+----------+-------+--------+------------+-------------+\n",
            "|Nighthawks|    1st|  Miller|           4|           25|\n",
            "|Nighthawks|    1st|Jacobson|          24|           94|\n",
            "|Nighthawks|    2nd|     Ali|          31|           57|\n",
            "|Nighthawks|    2nd|  Milner|           2|           62|\n",
            "|  Dragoons|    1st|   Cooze|           3|           70|\n",
            "|  Dragoons|    1st|   Jacon|           4|           25|\n",
            "|  Dragoons|    2nd|  Ryaner|          24|           94|\n",
            "|  Dragoons|    2nd|    Sone|          31|           57|\n",
            "|    Scouts|    1st|   Sloan|           2|           62|\n",
            "|    Scouts|    1st|   Piger|           3|           70|\n",
            "|    Scouts|    2nd|   Riani|           2|           62|\n",
            "|    Scouts|    2nd|     Ali|           3|           70|\n",
            "+----------+-------+--------+------------+-------------+\n",
            "\n"
          ]
        }
      ],
      "source": [
        "columns = list(raw_data.keys())\n",
        "data = [[*vals] for vals in zip(*raw_data.values())]\n",
        "df = spark.createDataFrame(data, columns)\n",
        "\n",
        "df.printSchema()\n",
        "df.show()"
      ]
    },
    {
      "cell_type": "markdown",
      "metadata": {
        "id": "LQxqkchoeHiO"
      },
      "source": [
        "### Step 4. What is the mean preTestScore from the regiment Nighthawks?  "
      ]
    },
    {
      "cell_type": "code",
      "execution_count": 11,
      "metadata": {
        "colab": {
          "base_uri": "https://localhost:8080/"
        },
        "id": "bHtnr6_XeHiQ",
        "outputId": "e8fe849f-78a2-41b8-9bc9-b7dfae18310c"
      },
      "outputs": [
        {
          "output_type": "stream",
          "name": "stdout",
          "text": [
            "+----------+-----------------+\n",
            "|  regiment|avg(preTestScore)|\n",
            "+----------+-----------------+\n",
            "|Nighthawks|            15.25|\n",
            "+----------+-----------------+\n",
            "\n"
          ]
        }
      ],
      "source": [
        "df.groupBy(\"regiment\").mean(\"preTestScore\").filter(f.col(\"regiment\") == \"Nighthawks\").show()"
      ]
    },
    {
      "cell_type": "markdown",
      "metadata": {
        "id": "US-7BFnheHiS"
      },
      "source": [
        "### Step 5. Present general statistics by company\n",
        "\n",
        "*   List item\n",
        "*   List item\n",
        "\n"
      ]
    },
    {
      "cell_type": "code",
      "execution_count": 23,
      "metadata": {
        "colab": {
          "base_uri": "https://localhost:8080/"
        },
        "id": "jgwGV79EeHiT",
        "outputId": "f344c7d5-9458-483b-ed30-49446ccfc87b"
      },
      "outputs": [
        {
          "output_type": "stream",
          "name": "stdout",
          "text": [
            "+-------+-------------------+--------------------+-----------------+------------------+-----------------+------------------+-----------------+------------------+-------------------------+--------------------------+\n",
            "|company|count(preTestScore)|count(postTestScore)|avg(preTestScore)|avg(postTestScore)|min(preTestScore)|min(postTestScore)|max(preTestScore)|max(postTestScore)|stddev_samp(preTestScore)|stddev_samp(postTestScore)|\n",
            "+-------+-------------------+--------------------+-----------------+------------------+-----------------+------------------+-----------------+------------------+-------------------------+--------------------------+\n",
            "|    2nd|                  6|                   6|             15.5|              67.0|                2|                57|               31|                94|       14.652644812456213|        14.057026712644463|\n",
            "|    1st|                  6|                   6|6.666666666666667|57.666666666666664|                2|                25|               24|                94|        8.524474568362947|         27.48575388572536|\n",
            "+-------+-------------------+--------------------+-----------------+------------------+-----------------+------------------+-----------------+------------------+-------------------------+--------------------------+\n",
            "\n"
          ]
        }
      ],
      "source": [
        "df.groupBy(\"company\").agg(*[foo(f.col(col)) for foo in (f.count,f.mean,f.min,f.max,f.stddev) for col in (\"preTestScore\", \"postTestScore\") ]).show()"
      ]
    },
    {
      "cell_type": "markdown",
      "metadata": {
        "id": "UxTm9HTDeHiV"
      },
      "source": [
        "### Step 6. What is the mean of each company's preTestScore?"
      ]
    },
    {
      "cell_type": "code",
      "execution_count": 25,
      "metadata": {
        "colab": {
          "base_uri": "https://localhost:8080/"
        },
        "id": "zCtoZNVweHiW",
        "outputId": "5f977180-8392-42f1-d227-95f3a4324ec5"
      },
      "outputs": [
        {
          "output_type": "stream",
          "name": "stdout",
          "text": [
            "+-------+-----------------+\n",
            "|company|avg(preTestScore)|\n",
            "+-------+-----------------+\n",
            "|    2nd|             15.5|\n",
            "|    1st|6.666666666666667|\n",
            "+-------+-----------------+\n",
            "\n"
          ]
        }
      ],
      "source": [
        "df.groupBy(\"company\").agg(f.mean(\"preTestScore\")).show()"
      ]
    },
    {
      "cell_type": "markdown",
      "metadata": {
        "id": "bbEZ_eG4eHiX"
      },
      "source": [
        "### Step 7. Present the mean preTestScores grouped by regiment and company"
      ]
    },
    {
      "cell_type": "code",
      "execution_count": 26,
      "metadata": {
        "colab": {
          "base_uri": "https://localhost:8080/"
        },
        "id": "9IwIxWbieHiZ",
        "outputId": "6c51f9e3-6b78-4b2d-de09-9a8f3cd4a34e"
      },
      "outputs": [
        {
          "output_type": "stream",
          "name": "stdout",
          "text": [
            "+----------+-------+-----------------+\n",
            "|  regiment|company|avg(preTestScore)|\n",
            "+----------+-------+-----------------+\n",
            "|Nighthawks|    1st|             14.0|\n",
            "|  Dragoons|    1st|              3.5|\n",
            "|Nighthawks|    2nd|             16.5|\n",
            "|  Dragoons|    2nd|             27.5|\n",
            "|    Scouts|    2nd|              2.5|\n",
            "|    Scouts|    1st|              2.5|\n",
            "+----------+-------+-----------------+\n",
            "\n"
          ]
        }
      ],
      "source": [
        "df.groupBy(\"regiment\", \"company\").agg(f.mean(\"preTestScore\")).show()"
      ]
    },
    {
      "cell_type": "markdown",
      "metadata": {
        "id": "BJPm7OjLeHiZ"
      },
      "source": [
        "### Step 8. Present the mean preTestScores grouped by regiment and company without heirarchical indexing"
      ]
    },
    {
      "cell_type": "code",
      "execution_count": null,
      "metadata": {
        "id": "vu6Ns7wweHiZ"
      },
      "outputs": [],
      "source": []
    },
    {
      "cell_type": "markdown",
      "metadata": {
        "id": "AXq7MswxeHia"
      },
      "source": [
        "### Step 9. Group the entire dataframe by regiment and company"
      ]
    },
    {
      "cell_type": "code",
      "execution_count": 28,
      "metadata": {
        "id": "XxxOgNWBeHia"
      },
      "outputs": [],
      "source": [
        "grupped_reg_company = df.groupBy(\"regiment\", \"company\")"
      ]
    },
    {
      "cell_type": "markdown",
      "metadata": {
        "id": "ry7G5B0geHia"
      },
      "source": [
        "### Step 10. What is the number of observations in each regiment and company"
      ]
    },
    {
      "cell_type": "code",
      "execution_count": 30,
      "metadata": {
        "colab": {
          "base_uri": "https://localhost:8080/"
        },
        "id": "l5RCD502eHib",
        "outputId": "cc0b1536-4db0-4229-a569-222c7b252edb"
      },
      "outputs": [
        {
          "output_type": "stream",
          "name": "stdout",
          "text": [
            "+----------+-------+-----+\n",
            "|  regiment|company|count|\n",
            "+----------+-------+-----+\n",
            "|Nighthawks|    1st|    2|\n",
            "|  Dragoons|    1st|    2|\n",
            "|Nighthawks|    2nd|    2|\n",
            "|  Dragoons|    2nd|    2|\n",
            "|    Scouts|    2nd|    2|\n",
            "|    Scouts|    1st|    2|\n",
            "+----------+-------+-----+\n",
            "\n"
          ]
        }
      ],
      "source": [
        "grupped_reg_company.count().show()"
      ]
    },
    {
      "cell_type": "markdown",
      "metadata": {
        "id": "LN7M5XX0eHib"
      },
      "source": [
        "### Step 11. Iterate over a group and print the name and the whole data from the regiment"
      ]
    }
  ],
  "metadata": {
    "kernelspec": {
      "display_name": "Python 2",
      "language": "python",
      "name": "python2"
    },
    "language_info": {
      "codemirror_mode": {
        "name": "ipython",
        "version": 2
      },
      "file_extension": ".py",
      "mimetype": "text/x-python",
      "name": "python",
      "nbconvert_exporter": "python",
      "pygments_lexer": "ipython2",
      "version": "2.7.11"
    },
    "colab": {
      "provenance": []
    }
  },
  "nbformat": 4,
  "nbformat_minor": 0
}