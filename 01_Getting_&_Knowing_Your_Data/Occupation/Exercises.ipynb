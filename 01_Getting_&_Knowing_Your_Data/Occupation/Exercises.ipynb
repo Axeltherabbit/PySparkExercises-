{
  "cells": [
    {
      "cell_type": "markdown",
      "metadata": {
        "id": "U-Gm0W9uu7yx"
      },
      "source": [
        "# Ex3 - Getting and Knowing your Data"
      ]
    },
    {
      "cell_type": "markdown",
      "metadata": {
        "id": "-0gIJM5Bu7y4"
      },
      "source": [
        "This time we are going to pull data directly from the internet.\n",
        "Special thanks to: https://github.com/justmarkham for sharing the dataset and materials.\n",
        "\n",
        "### Step 1. Import the necessary libraries"
      ]
    },
    {
      "cell_type": "code",
      "source": [
        "!pip install pyspark"
      ],
      "metadata": {
        "id": "mcLjcNcJvBvS",
        "outputId": "8a7542ab-f3a8-4b6a-ccf3-0eb3e2038b12",
        "colab": {
          "base_uri": "https://localhost:8080/"
        }
      },
      "execution_count": 2,
      "outputs": [
        {
          "output_type": "stream",
          "name": "stdout",
          "text": [
            "Looking in indexes: https://pypi.org/simple, https://us-python.pkg.dev/colab-wheels/public/simple/\n",
            "Collecting pyspark\n",
            "  Downloading pyspark-3.3.0.tar.gz (281.3 MB)\n",
            "\u001b[K     |████████████████████████████████| 281.3 MB 46 kB/s \n",
            "\u001b[?25hCollecting py4j==0.10.9.5\n",
            "  Downloading py4j-0.10.9.5-py2.py3-none-any.whl (199 kB)\n",
            "\u001b[K     |████████████████████████████████| 199 kB 54.7 MB/s \n",
            "\u001b[?25hBuilding wheels for collected packages: pyspark\n",
            "  Building wheel for pyspark (setup.py) ... \u001b[?25l\u001b[?25hdone\n",
            "  Created wheel for pyspark: filename=pyspark-3.3.0-py2.py3-none-any.whl size=281764026 sha256=387261d06b50aaf02e778b80e0e0bb45a70c28745099d5df11ae6ae182210810\n",
            "  Stored in directory: /root/.cache/pip/wheels/7a/8e/1b/f73a52650d2e5f337708d9f6a1750d451a7349a867f928b885\n",
            "Successfully built pyspark\n",
            "Installing collected packages: py4j, pyspark\n",
            "Successfully installed py4j-0.10.9.5 pyspark-3.3.0\n"
          ]
        }
      ]
    },
    {
      "cell_type": "code",
      "execution_count": 3,
      "metadata": {
        "id": "5eI-e3z8u7y7"
      },
      "outputs": [],
      "source": [
        "from pyspark.sql import SparkSession, functions as f"
      ]
    },
    {
      "cell_type": "markdown",
      "metadata": {
        "id": "r8n8uaB5u7y-"
      },
      "source": [
        "### Step 2. Import the dataset from this [address](https://raw.githubusercontent.com/justmarkham/DAT8/master/data/u.user). "
      ]
    },
    {
      "cell_type": "code",
      "source": [
        "from pyspark.files import SparkFiles\n",
        "\n",
        "url = \"https://raw.githubusercontent.com/justmarkham/DAT8/master/data/u.user\"\n",
        "\n",
        "spark = SparkSession.Builder().appName(\"Exercise2\").getOrCreate()\n",
        "spark.sparkContext.addFile(url)\n",
        "\n",
        "df = spark.read.csv(\"file://\"+SparkFiles.get(\"u.user\"),sep = \"|\", header=True, inferSchema=True)\n",
        "df.printSchema()"
      ],
      "metadata": {
        "id": "g242h9u9vPEY",
        "outputId": "a7a5e456-8cb4-4d15-c2d5-b41c93ebc111",
        "colab": {
          "base_uri": "https://localhost:8080/"
        }
      },
      "execution_count": 11,
      "outputs": [
        {
          "output_type": "stream",
          "name": "stdout",
          "text": [
            "root\n",
            " |-- user_id: integer (nullable = true)\n",
            " |-- age: integer (nullable = true)\n",
            " |-- gender: string (nullable = true)\n",
            " |-- occupation: string (nullable = true)\n",
            " |-- zip_code: string (nullable = true)\n",
            "\n"
          ]
        }
      ]
    },
    {
      "cell_type": "markdown",
      "metadata": {
        "id": "81E39mHku7y_"
      },
      "source": [
        "### Step 3. Assign it to a variable called users and use the 'user_id' as index"
      ]
    },
    {
      "cell_type": "code",
      "execution_count": null,
      "metadata": {
        "id": "gvG2AT0Ju7y_"
      },
      "outputs": [],
      "source": []
    },
    {
      "cell_type": "markdown",
      "metadata": {
        "id": "Vq95dO4Pu7zA"
      },
      "source": [
        "### Step 4. See the first 25 entries"
      ]
    },
    {
      "cell_type": "code",
      "execution_count": 12,
      "metadata": {
        "scrolled": true,
        "id": "kunFgFmJu7zB",
        "outputId": "56faf95a-6791-4442-d1fb-c04c7169b414",
        "colab": {
          "base_uri": "https://localhost:8080/"
        }
      },
      "outputs": [
        {
          "output_type": "execute_result",
          "data": {
            "text/plain": [
              "[Row(user_id=1, age=24, gender='M', occupation='technician', zip_code='85711'),\n",
              " Row(user_id=2, age=53, gender='F', occupation='other', zip_code='94043'),\n",
              " Row(user_id=3, age=23, gender='M', occupation='writer', zip_code='32067'),\n",
              " Row(user_id=4, age=24, gender='M', occupation='technician', zip_code='43537'),\n",
              " Row(user_id=5, age=33, gender='F', occupation='other', zip_code='15213'),\n",
              " Row(user_id=6, age=42, gender='M', occupation='executive', zip_code='98101'),\n",
              " Row(user_id=7, age=57, gender='M', occupation='administrator', zip_code='91344'),\n",
              " Row(user_id=8, age=36, gender='M', occupation='administrator', zip_code='05201'),\n",
              " Row(user_id=9, age=29, gender='M', occupation='student', zip_code='01002'),\n",
              " Row(user_id=10, age=53, gender='M', occupation='lawyer', zip_code='90703'),\n",
              " Row(user_id=11, age=39, gender='F', occupation='other', zip_code='30329'),\n",
              " Row(user_id=12, age=28, gender='F', occupation='other', zip_code='06405'),\n",
              " Row(user_id=13, age=47, gender='M', occupation='educator', zip_code='29206'),\n",
              " Row(user_id=14, age=45, gender='M', occupation='scientist', zip_code='55106'),\n",
              " Row(user_id=15, age=49, gender='F', occupation='educator', zip_code='97301'),\n",
              " Row(user_id=16, age=21, gender='M', occupation='entertainment', zip_code='10309'),\n",
              " Row(user_id=17, age=30, gender='M', occupation='programmer', zip_code='06355'),\n",
              " Row(user_id=18, age=35, gender='F', occupation='other', zip_code='37212'),\n",
              " Row(user_id=19, age=40, gender='M', occupation='librarian', zip_code='02138'),\n",
              " Row(user_id=20, age=42, gender='F', occupation='homemaker', zip_code='95660'),\n",
              " Row(user_id=21, age=26, gender='M', occupation='writer', zip_code='30068'),\n",
              " Row(user_id=22, age=25, gender='M', occupation='writer', zip_code='40206'),\n",
              " Row(user_id=23, age=30, gender='F', occupation='artist', zip_code='48197'),\n",
              " Row(user_id=24, age=21, gender='F', occupation='artist', zip_code='94533'),\n",
              " Row(user_id=25, age=39, gender='M', occupation='engineer', zip_code='55107')]"
            ]
          },
          "metadata": {},
          "execution_count": 12
        }
      ],
      "source": [
        "df.head(25)"
      ]
    },
    {
      "cell_type": "markdown",
      "metadata": {
        "id": "3sn-IgFNu7zC"
      },
      "source": [
        "### Step 5. See the last 10 entries"
      ]
    },
    {
      "cell_type": "code",
      "execution_count": 13,
      "metadata": {
        "scrolled": true,
        "id": "s_psZtG9u7zC",
        "outputId": "5afe6940-5dc4-4d84-a32f-8e9bdcfeba11",
        "colab": {
          "base_uri": "https://localhost:8080/"
        }
      },
      "outputs": [
        {
          "output_type": "execute_result",
          "data": {
            "text/plain": [
              "[Row(user_id=934, age=61, gender='M', occupation='engineer', zip_code='22902'),\n",
              " Row(user_id=935, age=42, gender='M', occupation='doctor', zip_code='66221'),\n",
              " Row(user_id=936, age=24, gender='M', occupation='other', zip_code='32789'),\n",
              " Row(user_id=937, age=48, gender='M', occupation='educator', zip_code='98072'),\n",
              " Row(user_id=938, age=38, gender='F', occupation='technician', zip_code='55038'),\n",
              " Row(user_id=939, age=26, gender='F', occupation='student', zip_code='33319'),\n",
              " Row(user_id=940, age=32, gender='M', occupation='administrator', zip_code='02215'),\n",
              " Row(user_id=941, age=20, gender='M', occupation='student', zip_code='97229'),\n",
              " Row(user_id=942, age=48, gender='F', occupation='librarian', zip_code='78209'),\n",
              " Row(user_id=943, age=22, gender='M', occupation='student', zip_code='77841')]"
            ]
          },
          "metadata": {},
          "execution_count": 13
        }
      ],
      "source": [
        "df.tail(10)"
      ]
    },
    {
      "cell_type": "markdown",
      "metadata": {
        "id": "v20SZq7Du7zD"
      },
      "source": [
        "### Step 6. What is the number of observations in the dataset?"
      ]
    },
    {
      "cell_type": "code",
      "execution_count": 14,
      "metadata": {
        "id": "ldpmaN7Qu7zD",
        "outputId": "0f85b492-ff3e-4bf7-d420-0a403971776a",
        "colab": {
          "base_uri": "https://localhost:8080/"
        }
      },
      "outputs": [
        {
          "output_type": "execute_result",
          "data": {
            "text/plain": [
              "943"
            ]
          },
          "metadata": {},
          "execution_count": 14
        }
      ],
      "source": [
        "df.count()"
      ]
    },
    {
      "cell_type": "markdown",
      "metadata": {
        "id": "8sl7gQk3u7zD"
      },
      "source": [
        "### Step 7. What is the number of columns in the dataset?"
      ]
    },
    {
      "cell_type": "code",
      "execution_count": 15,
      "metadata": {
        "id": "ENZBcPj9u7zE",
        "outputId": "67d6a015-e6b6-402b-9606-ecab975339bf",
        "colab": {
          "base_uri": "https://localhost:8080/"
        }
      },
      "outputs": [
        {
          "output_type": "execute_result",
          "data": {
            "text/plain": [
              "5"
            ]
          },
          "metadata": {},
          "execution_count": 15
        }
      ],
      "source": [
        "len(df.columns)"
      ]
    },
    {
      "cell_type": "markdown",
      "metadata": {
        "id": "J9PgMDEvu7zE"
      },
      "source": [
        "### Step 8. Print the name of all the columns."
      ]
    },
    {
      "cell_type": "code",
      "execution_count": 16,
      "metadata": {
        "id": "siH-MgTgu7zF",
        "outputId": "c5ff460d-a348-4347-ce8c-004d59dc36d8",
        "colab": {
          "base_uri": "https://localhost:8080/"
        }
      },
      "outputs": [
        {
          "output_type": "execute_result",
          "data": {
            "text/plain": [
              "['user_id', 'age', 'gender', 'occupation', 'zip_code']"
            ]
          },
          "metadata": {},
          "execution_count": 16
        }
      ],
      "source": [
        "df.columns"
      ]
    },
    {
      "cell_type": "markdown",
      "metadata": {
        "id": "O1TQsXURu7zF"
      },
      "source": [
        "### Step 9. How is the dataset indexed?"
      ]
    },
    {
      "cell_type": "code",
      "execution_count": null,
      "metadata": {
        "id": "0c7_rAlju7zH"
      },
      "outputs": [],
      "source": []
    },
    {
      "cell_type": "markdown",
      "metadata": {
        "id": "AyXYwDXcu7zI"
      },
      "source": [
        "### Step 10. What is the data type of each column?"
      ]
    },
    {
      "cell_type": "code",
      "execution_count": 17,
      "metadata": {
        "id": "VGYf7DPQu7zJ",
        "outputId": "6057721d-7f6d-48a6-8cce-7ab639d9b093",
        "colab": {
          "base_uri": "https://localhost:8080/"
        }
      },
      "outputs": [
        {
          "output_type": "stream",
          "name": "stdout",
          "text": [
            "root\n",
            " |-- user_id: integer (nullable = true)\n",
            " |-- age: integer (nullable = true)\n",
            " |-- gender: string (nullable = true)\n",
            " |-- occupation: string (nullable = true)\n",
            " |-- zip_code: string (nullable = true)\n",
            "\n"
          ]
        }
      ],
      "source": [
        "df.printSchema()"
      ]
    },
    {
      "cell_type": "markdown",
      "metadata": {
        "id": "Na1HA_XXu7zK"
      },
      "source": [
        "### Step 11. Print only the occupation column"
      ]
    },
    {
      "cell_type": "code",
      "execution_count": 18,
      "metadata": {
        "id": "ow6r1VJZu7zL",
        "outputId": "aa14ca7b-c2b5-4550-fea1-92c4b27407c2",
        "colab": {
          "base_uri": "https://localhost:8080/"
        }
      },
      "outputs": [
        {
          "output_type": "stream",
          "name": "stdout",
          "text": [
            "+-------------+\n",
            "|   occupation|\n",
            "+-------------+\n",
            "|   technician|\n",
            "|        other|\n",
            "|       writer|\n",
            "|   technician|\n",
            "|        other|\n",
            "|    executive|\n",
            "|administrator|\n",
            "|administrator|\n",
            "|      student|\n",
            "|       lawyer|\n",
            "|        other|\n",
            "|        other|\n",
            "|     educator|\n",
            "|    scientist|\n",
            "|     educator|\n",
            "|entertainment|\n",
            "|   programmer|\n",
            "|        other|\n",
            "|    librarian|\n",
            "|    homemaker|\n",
            "+-------------+\n",
            "only showing top 20 rows\n",
            "\n"
          ]
        }
      ],
      "source": [
        "df.select(\"occupation\").show()"
      ]
    },
    {
      "cell_type": "markdown",
      "metadata": {
        "id": "2ImA23M1u7zM"
      },
      "source": [
        "### Step 12. How many different occupations are in this dataset?"
      ]
    },
    {
      "cell_type": "code",
      "execution_count": 34,
      "metadata": {
        "id": "Kl4alO0fu7zM",
        "outputId": "3bc635de-4866-49ea-f796-ab53a6a2ed0a",
        "colab": {
          "base_uri": "https://localhost:8080/"
        }
      },
      "outputs": [
        {
          "output_type": "execute_result",
          "data": {
            "text/plain": [
              "21"
            ]
          },
          "metadata": {},
          "execution_count": 34
        }
      ],
      "source": [
        "df.select(\"occupation\").distinct().count()"
      ]
    },
    {
      "cell_type": "markdown",
      "metadata": {
        "id": "cCM9Qpunu7zN"
      },
      "source": [
        "### Step 13. What is the most frequent occupation?"
      ]
    },
    {
      "cell_type": "code",
      "execution_count": 40,
      "metadata": {
        "id": "gdh_b-6Cu7zN",
        "outputId": "57124bb3-7dcb-4862-e5bc-c3b798849b9e",
        "colab": {
          "base_uri": "https://localhost:8080/"
        }
      },
      "outputs": [
        {
          "output_type": "execute_result",
          "data": {
            "text/plain": [
              "[Row(occupation='student', count=196)]"
            ]
          },
          "metadata": {},
          "execution_count": 40
        }
      ],
      "source": [
        "df.groupby(\"occupation\").count().sort(\"count\").tail(1)"
      ]
    },
    {
      "cell_type": "markdown",
      "metadata": {
        "id": "mP3tsPyiu7zO"
      },
      "source": [
        "### Step 14. Summarize the DataFrame."
      ]
    },
    {
      "cell_type": "code",
      "execution_count": 43,
      "metadata": {
        "id": "3Bwy0bv7u7zO"
      },
      "outputs": [],
      "source": [
        "summary = df.describe()"
      ]
    },
    {
      "cell_type": "markdown",
      "metadata": {
        "id": "M68NZJz4u7zP"
      },
      "source": [
        "### Step 15. Summarize all the columns"
      ]
    },
    {
      "cell_type": "code",
      "execution_count": 44,
      "metadata": {
        "id": "6lzIZ2oyu7zP",
        "outputId": "4675808f-11d1-44d1-bc5b-e28b1f9d3bf0",
        "colab": {
          "base_uri": "https://localhost:8080/"
        }
      },
      "outputs": [
        {
          "output_type": "stream",
          "name": "stdout",
          "text": [
            "+-------+-----------------+-----------------+------+-------------+------------------+\n",
            "|summary|          user_id|              age|gender|   occupation|          zip_code|\n",
            "+-------+-----------------+-----------------+------+-------------+------------------+\n",
            "|  count|              943|              943|   943|          943|               943|\n",
            "|   mean|            472.0|34.05196182396607|  null|         null| 50868.78810810811|\n",
            "| stddev|272.3649512449549|12.19273973305903|  null|         null|30891.373254138176|\n",
            "|    min|                1|                7|     F|administrator|             00000|\n",
            "|    max|              943|               73|     M|       writer|             Y1A6B|\n",
            "+-------+-----------------+-----------------+------+-------------+------------------+\n",
            "\n"
          ]
        }
      ],
      "source": [
        "summary.show()"
      ]
    },
    {
      "cell_type": "markdown",
      "metadata": {
        "id": "SjQ72TPHu7zP"
      },
      "source": [
        "### Step 16. Summarize only the occupation column"
      ]
    },
    {
      "cell_type": "code",
      "execution_count": 48,
      "metadata": {
        "id": "8vuds_Zpu7zQ",
        "outputId": "58bf8157-bc26-44e4-9c23-43b7ccd604df",
        "colab": {
          "base_uri": "https://localhost:8080/"
        }
      },
      "outputs": [
        {
          "output_type": "stream",
          "name": "stdout",
          "text": [
            "+-------+-------------+\n",
            "|summary|   occupation|\n",
            "+-------+-------------+\n",
            "|  count|          943|\n",
            "|   mean|         null|\n",
            "| stddev|         null|\n",
            "|    min|administrator|\n",
            "|    max|       writer|\n",
            "+-------+-------------+\n",
            "\n"
          ]
        }
      ],
      "source": [
        "summary.select(\"summary\", \"occupation\").show()"
      ]
    },
    {
      "cell_type": "markdown",
      "metadata": {
        "id": "bg5Xiwkou7zQ"
      },
      "source": [
        "### Step 17. What is the mean age of users?"
      ]
    },
    {
      "cell_type": "code",
      "execution_count": 50,
      "metadata": {
        "id": "dl4Tcnisu7zQ",
        "outputId": "41b0fdd8-1dab-4813-b242-096893515efc",
        "colab": {
          "base_uri": "https://localhost:8080/"
        }
      },
      "outputs": [
        {
          "output_type": "stream",
          "name": "stdout",
          "text": [
            "+-----------------+\n",
            "|              age|\n",
            "+-----------------+\n",
            "|34.05196182396607|\n",
            "+-----------------+\n",
            "\n"
          ]
        }
      ],
      "source": [
        "summary.select(\"age\").where(f.col(\"summary\") == \"mean\").show()"
      ]
    },
    {
      "cell_type": "markdown",
      "metadata": {
        "id": "KYZ1aaK9u7zQ"
      },
      "source": [
        "### Step 18. What is the age with least occurrence?"
      ]
    },
    {
      "cell_type": "code",
      "execution_count": 51,
      "metadata": {
        "id": "lRvD4w8fu7zR",
        "outputId": "dfbcb2dd-f74e-4b89-8f19-687b92f8389e",
        "colab": {
          "base_uri": "https://localhost:8080/"
        }
      },
      "outputs": [
        {
          "output_type": "stream",
          "name": "stdout",
          "text": [
            "+---+-----+\n",
            "|age|count|\n",
            "+---+-----+\n",
            "|  7|    1|\n",
            "| 10|    1|\n",
            "| 73|    1|\n",
            "| 11|    1|\n",
            "| 66|    1|\n",
            "+---+-----+\n",
            "\n"
          ]
        }
      ],
      "source": [
        "min_size = df.groupBy(\"age\").count().select(f.min(\"count\")).collect()[0][0]\n",
        "df.groupBy(\"age\").count().sort(\"count\").filter(f.col(\"count\")==min_size).show()"
      ]
    }
  ],
  "metadata": {
    "anaconda-cloud": {},
    "kernelspec": {
      "display_name": "Python [default]",
      "language": "python",
      "name": "python2"
    },
    "language_info": {
      "codemirror_mode": {
        "name": "ipython",
        "version": 2
      },
      "file_extension": ".py",
      "mimetype": "text/x-python",
      "name": "python",
      "nbconvert_exporter": "python",
      "pygments_lexer": "ipython2",
      "version": "2.7.12"
    },
    "colab": {
      "provenance": []
    }
  },
  "nbformat": 4,
  "nbformat_minor": 0
}