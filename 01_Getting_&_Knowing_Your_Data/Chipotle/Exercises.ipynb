{
  "cells": [
    {
      "cell_type": "markdown",
      "metadata": {
        "id": "ev9aISvYz7yt"
      },
      "source": [
        "# Ex2 - Getting and Knowing your Data"
      ]
    },
    {
      "cell_type": "markdown",
      "metadata": {
        "id": "uAmATCnkz7yz"
      },
      "source": [
        "This time we are going to pull data directly from the internet.\n",
        "\n",
        "*   List item\n",
        "*   List item\n",
        "\n",
        "\n",
        "Special thanks to: https://github.com/justmarkham for sharing the dataset and materials.\n",
        "\n",
        "### Step 1. Import the necessary libraries"
      ]
    },
    {
      "cell_type": "code",
      "source": [
        "!pip install pyspark"
      ],
      "metadata": {
        "id": "ujYhtfMS0JSp",
        "outputId": "fea8d7ea-586f-4f57-8690-04bc7c6400df",
        "colab": {
          "base_uri": "https://localhost:8080/"
        }
      },
      "execution_count": 2,
      "outputs": [
        {
          "output_type": "stream",
          "name": "stdout",
          "text": [
            "Looking in indexes: https://pypi.org/simple, https://us-python.pkg.dev/colab-wheels/public/simple/\n",
            "Collecting pyspark\n",
            "  Downloading pyspark-3.3.0.tar.gz (281.3 MB)\n",
            "\u001b[K     |████████████████████████████████| 281.3 MB 55 kB/s \n",
            "\u001b[?25hCollecting py4j==0.10.9.5\n",
            "  Downloading py4j-0.10.9.5-py2.py3-none-any.whl (199 kB)\n",
            "\u001b[K     |████████████████████████████████| 199 kB 84.3 MB/s \n",
            "\u001b[?25hBuilding wheels for collected packages: pyspark\n",
            "  Building wheel for pyspark (setup.py) ... \u001b[?25l\u001b[?25hdone\n",
            "  Created wheel for pyspark: filename=pyspark-3.3.0-py2.py3-none-any.whl size=281764026 sha256=2bd4479bd77d33398bf099e6e257a6d9ce5527541da898eeb66d43bd57f28d33\n",
            "  Stored in directory: /root/.cache/pip/wheels/7a/8e/1b/f73a52650d2e5f337708d9f6a1750d451a7349a867f928b885\n",
            "Successfully built pyspark\n",
            "Installing collected packages: py4j, pyspark\n",
            "Successfully installed py4j-0.10.9.5 pyspark-3.3.0\n"
          ]
        }
      ]
    },
    {
      "cell_type": "code",
      "execution_count": 15,
      "metadata": {
        "id": "EaPcr9QUz7y1"
      },
      "outputs": [],
      "source": [
        "from pyspark.sql import SparkSession\n",
        "from pyspark import SparkFiles\n",
        "import requests"
      ]
    },
    {
      "cell_type": "markdown",
      "metadata": {
        "id": "VZB6uXTzz7y3"
      },
      "source": [
        "### Step 2. Import the dataset from this [address](https://raw.githubusercontent.com/justmarkham/DAT8/master/data/chipotle.tsv). "
      ]
    },
    {
      "cell_type": "code",
      "source": [
        "url = \"https://raw.githubusercontent.com/justmarkham/DAT8/master/data/chipotle.tsv\"\n",
        "spark = SparkSession.builder.appName(\"Exercise1\").getOrCreate()\n",
        "spark.sparkContext.addFile(url)"
      ],
      "metadata": {
        "id": "1RGZYygb1RuI"
      },
      "execution_count": 19,
      "outputs": []
    },
    {
      "cell_type": "markdown",
      "metadata": {
        "id": "qaiuWELfz7y4"
      },
      "source": [
        "### Step 3. Assign it to a variable called chipo."
      ]
    },
    {
      "cell_type": "code",
      "execution_count": 159,
      "metadata": {
        "id": "DQZLKekCz7y5",
        "outputId": "2e6e5ff0-db64-4205-e499-e8e847d77219",
        "colab": {
          "base_uri": "https://localhost:8080/"
        }
      },
      "outputs": [
        {
          "output_type": "stream",
          "name": "stdout",
          "text": [
            "root\n",
            " |-- order_id: integer (nullable = true)\n",
            " |-- quantity: integer (nullable = true)\n",
            " |-- item_name: string (nullable = true)\n",
            " |-- choice_description: string (nullable = true)\n",
            " |-- item_price: string (nullable = true)\n",
            "\n"
          ]
        }
      ],
      "source": [
        "chipo = spark.read.option(\"sep\", \"\\t\").csv(\"file://\" + SparkFiles.get(\"chipotle.tsv\"), header='true', inferSchema = True)\n",
        "chipo.printSchema()"
      ]
    },
    {
      "cell_type": "markdown",
      "metadata": {
        "id": "Vv7QIO_kz7y5"
      },
      "source": [
        "### Step 4. See the first 10 entries"
      ]
    },
    {
      "cell_type": "code",
      "execution_count": 53,
      "metadata": {
        "scrolled": false,
        "colab": {
          "base_uri": "https://localhost:8080/"
        },
        "id": "puOvK6Avz7y6",
        "outputId": "4a9c5bf7-bc14-473b-b8a2-badd17de69cb"
      },
      "outputs": [
        {
          "output_type": "stream",
          "name": "stdout",
          "text": [
            "+--------+--------+--------------------+--------------------+----------+\n",
            "|order_id|quantity|           item_name|  choice_description|item_price|\n",
            "+--------+--------+--------------------+--------------------+----------+\n",
            "|       1|       1|Chips and Fresh T...|                NULL|    $2.39 |\n",
            "|       1|       1|                Izze|        [Clementine]|    $3.39 |\n",
            "|       1|       1|    Nantucket Nectar|             [Apple]|    $3.39 |\n",
            "|       1|       1|Chips and Tomatil...|                NULL|    $2.39 |\n",
            "|       2|       2|        Chicken Bowl|[Tomatillo-Red Ch...|   $16.98 |\n",
            "|       3|       1|        Chicken Bowl|[Fresh Tomato Sal...|   $10.98 |\n",
            "|       3|       1|       Side of Chips|                NULL|    $1.69 |\n",
            "|       4|       1|       Steak Burrito|[Tomatillo Red Ch...|   $11.75 |\n",
            "|       4|       1|    Steak Soft Tacos|[Tomatillo Green ...|    $9.25 |\n",
            "|       5|       1|       Steak Burrito|[Fresh Tomato Sal...|    $9.25 |\n",
            "|       5|       1| Chips and Guacamole|                NULL|    $4.45 |\n",
            "|       6|       1|Chicken Crispy Tacos|[Roasted Chili Co...|    $8.75 |\n",
            "|       6|       1|  Chicken Soft Tacos|[Roasted Chili Co...|    $8.75 |\n",
            "|       7|       1|        Chicken Bowl|[Fresh Tomato Sal...|   $11.25 |\n",
            "|       7|       1| Chips and Guacamole|                NULL|    $4.45 |\n",
            "|       8|       1|Chips and Tomatil...|                NULL|    $2.39 |\n",
            "|       8|       1|     Chicken Burrito|[Tomatillo-Green ...|    $8.49 |\n",
            "|       9|       1|     Chicken Burrito|[Fresh Tomato Sal...|    $8.49 |\n",
            "|       9|       2|         Canned Soda|            [Sprite]|    $2.18 |\n",
            "|      10|       1|        Chicken Bowl|[Tomatillo Red Ch...|    $8.75 |\n",
            "+--------+--------+--------------------+--------------------+----------+\n",
            "only showing top 20 rows\n",
            "\n"
          ]
        }
      ],
      "source": [
        "chipo.show()"
      ]
    },
    {
      "cell_type": "markdown",
      "metadata": {
        "id": "WqNtQ0x8z7y6"
      },
      "source": [
        "### Step 5. What is the number of observations in the dataset?"
      ]
    },
    {
      "cell_type": "code",
      "execution_count": 33,
      "metadata": {
        "id": "z3PFb0E4z7y6",
        "outputId": "39b57843-6608-41a6-ea4f-d6e06c9ff8df",
        "colab": {
          "base_uri": "https://localhost:8080/"
        }
      },
      "outputs": [
        {
          "output_type": "execute_result",
          "data": {
            "text/plain": [
              "4622"
            ]
          },
          "metadata": {},
          "execution_count": 33
        }
      ],
      "source": [
        "# Solution 1\n",
        "chipo.count()"
      ]
    },
    {
      "cell_type": "code",
      "execution_count": null,
      "metadata": {
        "id": "3D8OF4hwz7y7"
      },
      "outputs": [],
      "source": [
        "# Solution 2\n"
      ]
    },
    {
      "cell_type": "markdown",
      "metadata": {
        "id": "gb_s6IvBz7y8"
      },
      "source": [
        "### Step 6. What is the number of columns in the dataset?"
      ]
    },
    {
      "cell_type": "code",
      "execution_count": 34,
      "metadata": {
        "id": "pS4NlHxfz7y8",
        "outputId": "69148efa-57af-46c2-d42b-2a115ac061df",
        "colab": {
          "base_uri": "https://localhost:8080/"
        }
      },
      "outputs": [
        {
          "output_type": "execute_result",
          "data": {
            "text/plain": [
              "5"
            ]
          },
          "metadata": {},
          "execution_count": 34
        }
      ],
      "source": [
        "len(chipo.columns)"
      ]
    },
    {
      "cell_type": "markdown",
      "metadata": {
        "id": "MernGxixz7y8"
      },
      "source": [
        "### Step 7. Print the name of all the columns."
      ]
    },
    {
      "cell_type": "code",
      "execution_count": 35,
      "metadata": {
        "id": "zTkXdr1Rz7y9",
        "outputId": "0e3df0ca-7b4f-4fc2-8fe7-f2ef92267f50",
        "colab": {
          "base_uri": "https://localhost:8080/"
        }
      },
      "outputs": [
        {
          "output_type": "stream",
          "name": "stdout",
          "text": [
            "order_id quantity item_name choice_description item_price\n"
          ]
        }
      ],
      "source": [
        "print(*chipo.columns)"
      ]
    },
    {
      "cell_type": "markdown",
      "metadata": {
        "id": "91YJ7jzUz7y9"
      },
      "source": [
        "### Step 8. How is the dataset indexed?"
      ]
    },
    {
      "cell_type": "code",
      "execution_count": null,
      "metadata": {
        "id": "icvyx3Tvz7y9"
      },
      "outputs": [],
      "source": []
    },
    {
      "cell_type": "markdown",
      "metadata": {
        "id": "z5SMxhobz7y9"
      },
      "source": [
        "### Step 9. Which was the most-ordered item? "
      ]
    },
    {
      "cell_type": "code",
      "execution_count": 98,
      "metadata": {
        "id": "YSpMAGK4z7y-",
        "outputId": "b5055a80-40a0-4d59-8183-a7ef13e9e3d4",
        "colab": {
          "base_uri": "https://localhost:8080/"
        }
      },
      "outputs": [
        {
          "output_type": "stream",
          "name": "stdout",
          "text": [
            "+------------+\n",
            "|   item_name|\n",
            "+------------+\n",
            "|Chicken Bowl|\n",
            "+------------+\n",
            "\n"
          ]
        }
      ],
      "source": [
        "import pyspark.sql.functions as f\n",
        "topitem = chipo.groupby(\"item_name\").sum(\"quantity\").sort(\"sum(quantity)\").orderBy(f.desc(\"sum(quantity)\")).limit(1)\n",
        "topitem.select(\"item_name\").show()"
      ]
    },
    {
      "cell_type": "markdown",
      "metadata": {
        "id": "PEyn8ouiz7y-"
      },
      "source": [
        "### Step 10. For the most-ordered item, how many items were ordered?"
      ]
    },
    {
      "cell_type": "code",
      "execution_count": 99,
      "metadata": {
        "id": "J745Er5az7y-",
        "outputId": "7867bc47-181d-4bbf-9e2c-a2a7f7023c8f",
        "colab": {
          "base_uri": "https://localhost:8080/"
        }
      },
      "outputs": [
        {
          "output_type": "stream",
          "name": "stdout",
          "text": [
            "+------------+-------------+\n",
            "|   item_name|sum(quantity)|\n",
            "+------------+-------------+\n",
            "|Chicken Bowl|          761|\n",
            "+------------+-------------+\n",
            "\n"
          ]
        }
      ],
      "source": [
        "topitem.show()"
      ]
    },
    {
      "cell_type": "markdown",
      "metadata": {
        "id": "0rersETzz7y_"
      },
      "source": [
        "### Step 11. What was the most ordered item in the choice_description column?\n",
        "\n",
        "> Indented block\n",
        "\n"
      ]
    },
    {
      "cell_type": "code",
      "execution_count": 136,
      "metadata": {
        "colab": {
          "base_uri": "https://localhost:8080/"
        },
        "id": "UCrLchiiz7y_",
        "outputId": "f791bc6a-25ab-4c49-8007-ac5b3676dc97"
      },
      "outputs": [
        {
          "output_type": "stream",
          "name": "stdout",
          "text": [
            "+------------------+-----+\n",
            "|choice_description|count|\n",
            "+------------------+-----+\n",
            "|       [Diet Coke]|  134|\n",
            "+------------------+-----+\n",
            "\n"
          ]
        }
      ],
      "source": [
        "chipo.groupBy(\"choice_description\").count().filter(f.col(\"choice_description\") != \"NULL\").orderBy(f.desc(\"count\")).limit(1).show()\n"
      ]
    },
    {
      "cell_type": "markdown",
      "metadata": {
        "id": "SMx1Zq6tz7zB"
      },
      "source": [
        "### Step 12. How many items were orderd in total?"
      ]
    },
    {
      "cell_type": "code",
      "execution_count": 137,
      "metadata": {
        "id": "6PCgkpktz7zC",
        "outputId": "56625880-e8a5-4f1a-df27-257a6a74cb23",
        "colab": {
          "base_uri": "https://localhost:8080/"
        }
      },
      "outputs": [
        {
          "output_type": "execute_result",
          "data": {
            "text/plain": [
              "4622"
            ]
          },
          "metadata": {},
          "execution_count": 137
        }
      ],
      "source": [
        "chipo.select(\"quantity\").count()"
      ]
    },
    {
      "cell_type": "markdown",
      "metadata": {
        "id": "UdW9T5q6z7zD"
      },
      "source": [
        "### Step 13. Turn the item price into a float"
      ]
    },
    {
      "cell_type": "markdown",
      "metadata": {
        "id": "KybYSBFaz7zD"
      },
      "source": [
        "#### Step 13.a. Check the item price type"
      ]
    },
    {
      "cell_type": "code",
      "execution_count": 139,
      "metadata": {
        "id": "Oy3ScEKgz7zE",
        "outputId": "0bd004ac-0abb-4067-d9d8-d67c1ce7a876",
        "colab": {
          "base_uri": "https://localhost:8080/"
        }
      },
      "outputs": [
        {
          "output_type": "execute_result",
          "data": {
            "text/plain": [
              "DataFrame[item_price: string]"
            ]
          },
          "metadata": {},
          "execution_count": 139
        }
      ],
      "source": [
        "chipo.select(\"item_price\")"
      ]
    },
    {
      "cell_type": "markdown",
      "metadata": {
        "id": "pxf4kX3Gz7zE"
      },
      "source": [
        "#### Step 13.b. Create a lambda function and change the type of item price"
      ]
    },
    {
      "cell_type": "code",
      "execution_count": 160,
      "metadata": {
        "collapsed": true,
        "id": "gBqprj3jz7zG",
        "outputId": "d29bf3d2-843a-4d7d-a1ce-5058cefe6e2d",
        "colab": {
          "base_uri": "https://localhost:8080/"
        }
      },
      "outputs": [
        {
          "output_type": "stream",
          "name": "stdout",
          "text": [
            "+--------+--------+--------------------+--------------------+----------+\n",
            "|order_id|quantity|           item_name|  choice_description|item_price|\n",
            "+--------+--------+--------------------+--------------------+----------+\n",
            "|       1|       1|Chips and Fresh T...|                NULL|      2.39|\n",
            "|       1|       1|                Izze|        [Clementine]|      3.39|\n",
            "|       1|       1|    Nantucket Nectar|             [Apple]|      3.39|\n",
            "|       1|       1|Chips and Tomatil...|                NULL|      2.39|\n",
            "|       2|       2|        Chicken Bowl|[Tomatillo-Red Ch...|     16.98|\n",
            "|       3|       1|        Chicken Bowl|[Fresh Tomato Sal...|     10.98|\n",
            "|       3|       1|       Side of Chips|                NULL|      1.69|\n",
            "|       4|       1|       Steak Burrito|[Tomatillo Red Ch...|     11.75|\n",
            "|       4|       1|    Steak Soft Tacos|[Tomatillo Green ...|      9.25|\n",
            "|       5|       1|       Steak Burrito|[Fresh Tomato Sal...|      9.25|\n",
            "|       5|       1| Chips and Guacamole|                NULL|      4.45|\n",
            "|       6|       1|Chicken Crispy Tacos|[Roasted Chili Co...|      8.75|\n",
            "|       6|       1|  Chicken Soft Tacos|[Roasted Chili Co...|      8.75|\n",
            "|       7|       1|        Chicken Bowl|[Fresh Tomato Sal...|     11.25|\n",
            "|       7|       1| Chips and Guacamole|                NULL|      4.45|\n",
            "|       8|       1|Chips and Tomatil...|                NULL|      2.39|\n",
            "|       8|       1|     Chicken Burrito|[Tomatillo-Green ...|      8.49|\n",
            "|       9|       1|     Chicken Burrito|[Fresh Tomato Sal...|      8.49|\n",
            "|       9|       2|         Canned Soda|            [Sprite]|      2.18|\n",
            "|      10|       1|        Chicken Bowl|[Tomatillo Red Ch...|      8.75|\n",
            "+--------+--------+--------------------+--------------------+----------+\n",
            "only showing top 20 rows\n",
            "\n"
          ]
        }
      ],
      "source": [
        "chipo = chipo.select(\"order_id\", \"quantity\", \"item_name\", \"choice_description\", f.regexp_replace(chipo.item_price, '\\$+', '').cast(\"double\").alias(\"item_price\"))\n",
        "chipo.show()"
      ]
    },
    {
      "cell_type": "markdown",
      "metadata": {
        "id": "KzZs1EcFz7zG"
      },
      "source": [
        "#### Step 13.c. Check the item price type"
      ]
    },
    {
      "cell_type": "code",
      "execution_count": 161,
      "metadata": {
        "id": "P12Z3mtUz7zH",
        "outputId": "1f5342c1-9fef-40fd-ecd7-ab92e9378ed4",
        "colab": {
          "base_uri": "https://localhost:8080/"
        }
      },
      "outputs": [
        {
          "output_type": "execute_result",
          "data": {
            "text/plain": [
              "DataFrame[item_price: double]"
            ]
          },
          "metadata": {},
          "execution_count": 161
        }
      ],
      "source": [
        "chipo.select(\"item_price\")"
      ]
    },
    {
      "cell_type": "markdown",
      "metadata": {
        "id": "bjKGww65z7zH"
      },
      "source": [
        "### Step 14. How much was the revenue for the period in the dataset?"
      ]
    },
    {
      "cell_type": "code",
      "execution_count": 169,
      "metadata": {
        "id": "3tFprlgzz7zH",
        "outputId": "fb94f517-c4e4-40dc-c705-b121c2a16dcd",
        "colab": {
          "base_uri": "https://localhost:8080/"
        }
      },
      "outputs": [
        {
          "output_type": "stream",
          "name": "stdout",
          "text": [
            "+------------------+\n",
            "|         sum(cost)|\n",
            "+------------------+\n",
            "|39237.020000000055|\n",
            "+------------------+\n",
            "\n"
          ]
        }
      ],
      "source": [
        "chipo.select((chipo.quantity * chipo.item_price).alias(\"cost\")).select(f.sum(\"cost\")).show()"
      ]
    },
    {
      "cell_type": "markdown",
      "metadata": {
        "id": "Wt5jYjzSz7zI"
      },
      "source": [
        "### Step 15. How many orders were made in the period?"
      ]
    },
    {
      "cell_type": "code",
      "execution_count": 175,
      "metadata": {
        "id": "pMuFJ-S3z7zI",
        "outputId": "8b4965eb-74cd-4b34-94a5-3f1397793d72",
        "colab": {
          "base_uri": "https://localhost:8080/"
        }
      },
      "outputs": [
        {
          "output_type": "execute_result",
          "data": {
            "text/plain": [
              "1834"
            ]
          },
          "metadata": {},
          "execution_count": 175
        }
      ],
      "source": [
        "chipo.select(\"order_id\").distinct().count()"
      ]
    },
    {
      "cell_type": "markdown",
      "metadata": {
        "id": "fx9t7JNRz7zI"
      },
      "source": [
        "### Step 16. What is the average revenue amount per order?"
      ]
    },
    {
      "cell_type": "code",
      "execution_count": 186,
      "metadata": {
        "id": "KIlU23zEz7zJ",
        "outputId": "40819186-b351-415d-ab7b-d69de85aab59",
        "colab": {
          "base_uri": "https://localhost:8080/"
        }
      },
      "outputs": [
        {
          "output_type": "stream",
          "name": "stdout",
          "text": [
            "+------------------+\n",
            "|    avg(sum(cost))|\n",
            "+------------------+\n",
            "|21.394231188658736|\n",
            "+------------------+\n",
            "\n"
          ]
        }
      ],
      "source": [
        "# Solution 1\n",
        "chipo.select(chipo.order_id, (chipo.quantity * chipo.item_price).alias(\"cost\"))\\\n",
        "  .groupBy(\"order_id\")\\\n",
        "  .sum(\"cost\")\\\n",
        "  .agg({\"sum(cost)\":\"avg\"})\\\n",
        "  .show()"
      ]
    },
    {
      "cell_type": "code",
      "execution_count": null,
      "metadata": {
        "id": "vEsSiIpbz7zJ"
      },
      "outputs": [],
      "source": [
        "# Solution 2\n",
        "\n"
      ]
    },
    {
      "cell_type": "markdown",
      "metadata": {
        "id": "rMhGXxlyz7zJ"
      },
      "source": [
        "### Step 17. How many different items are sold?"
      ]
    },
    {
      "cell_type": "code",
      "execution_count": 190,
      "metadata": {
        "id": "-M-jyp4ez7zK",
        "outputId": "544eacba-eb2b-49d8-aa28-0320bc506e3d",
        "colab": {
          "base_uri": "https://localhost:8080/"
        }
      },
      "outputs": [
        {
          "output_type": "execute_result",
          "data": {
            "text/plain": [
              "50"
            ]
          },
          "metadata": {},
          "execution_count": 190
        }
      ],
      "source": [
        "chipo.select(\"item_name\").distinct().count()"
      ]
    }
  ],
  "metadata": {
    "anaconda-cloud": {},
    "kernelspec": {
      "display_name": "Python [default]",
      "language": "python",
      "name": "python2"
    },
    "language_info": {
      "codemirror_mode": {
        "name": "ipython",
        "version": 2
      },
      "file_extension": ".py",
      "mimetype": "text/x-python",
      "name": "python",
      "nbconvert_exporter": "python",
      "pygments_lexer": "ipython2",
      "version": "2.7.12"
    },
    "colab": {
      "provenance": []
    }
  },
  "nbformat": 4,
  "nbformat_minor": 0
}