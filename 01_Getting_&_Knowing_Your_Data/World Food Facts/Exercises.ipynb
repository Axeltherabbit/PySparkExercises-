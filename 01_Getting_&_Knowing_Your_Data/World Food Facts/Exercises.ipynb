{
  "cells": [
    {
      "cell_type": "markdown",
      "metadata": {
        "id": "D8dhjsdQaNNq"
      },
      "source": [
        "# Exercise 1"
      ]
    },
    {
      "cell_type": "markdown",
      "metadata": {
        "id": "Cw9RgdJUaNN1"
      },
      "source": [
        "### Step 1. Go to https://www.kaggle.com/openfoodfacts/world-food-facts/data"
      ]
    },
    {
      "cell_type": "markdown",
      "metadata": {
        "id": "X_iElzYaaNN4"
      },
      "source": [
        "### Step 2. Download the dataset to your computer and unzip it."
      ]
    },
    {
      "cell_type": "markdown",
      "metadata": {
        "id": "AkpZM54MaNN6"
      },
      "source": [
        "### Step 3. Use the tsv file and assign it to a dataframe called food"
      ]
    },
    {
      "cell_type": "code",
      "execution_count": 37,
      "metadata": {
        "collapsed": true,
        "id": "EganWca5aNN7",
        "outputId": "6d0ac922-2218-430e-dd00-6151d729fce3",
        "colab": {
          "base_uri": "https://localhost:8080/"
        }
      },
      "outputs": [
        {
          "output_type": "stream",
          "name": "stdout",
          "text": [
            "root\n",
            " |-- code: double (nullable = true)\n",
            " |-- url: string (nullable = true)\n",
            " |-- creator: string (nullable = true)\n",
            " |-- created_t: string (nullable = true)\n",
            " |-- created_datetime: string (nullable = true)\n",
            " |-- last_modified_t: string (nullable = true)\n",
            " |-- last_modified_datetime: string (nullable = true)\n",
            " |-- product_name: string (nullable = true)\n",
            " |-- generic_name: string (nullable = true)\n",
            " |-- quantity: string (nullable = true)\n",
            " |-- packaging: string (nullable = true)\n",
            " |-- packaging_tags: string (nullable = true)\n",
            " |-- brands: string (nullable = true)\n",
            " |-- brands_tags: string (nullable = true)\n",
            " |-- categories: string (nullable = true)\n",
            " |-- categories_tags: string (nullable = true)\n",
            " |-- categories_en: string (nullable = true)\n",
            " |-- origins: string (nullable = true)\n",
            " |-- origins_tags: string (nullable = true)\n",
            " |-- manufacturing_places: string (nullable = true)\n",
            " |-- manufacturing_places_tags: string (nullable = true)\n",
            " |-- labels: string (nullable = true)\n",
            " |-- labels_tags: string (nullable = true)\n",
            " |-- labels_en: string (nullable = true)\n",
            " |-- emb_codes: string (nullable = true)\n",
            " |-- emb_codes_tags: string (nullable = true)\n",
            " |-- first_packaging_code_geo: string (nullable = true)\n",
            " |-- cities: string (nullable = true)\n",
            " |-- cities_tags: string (nullable = true)\n",
            " |-- purchase_places: string (nullable = true)\n",
            " |-- stores: string (nullable = true)\n",
            " |-- countries: string (nullable = true)\n",
            " |-- countries_tags: string (nullable = true)\n",
            " |-- countries_en: string (nullable = true)\n",
            " |-- ingredients_text: string (nullable = true)\n",
            " |-- allergens: string (nullable = true)\n",
            " |-- allergens_en: string (nullable = true)\n",
            " |-- traces: string (nullable = true)\n",
            " |-- traces_tags: string (nullable = true)\n",
            " |-- traces_en: string (nullable = true)\n",
            " |-- serving_size: string (nullable = true)\n",
            " |-- no_nutriments: string (nullable = true)\n",
            " |-- additives_n: integer (nullable = true)\n",
            " |-- additives: string (nullable = true)\n",
            " |-- additives_tags: string (nullable = true)\n",
            " |-- additives_en: string (nullable = true)\n",
            " |-- ingredients_from_palm_oil_n: integer (nullable = true)\n",
            " |-- ingredients_from_palm_oil: string (nullable = true)\n",
            " |-- ingredients_from_palm_oil_tags: string (nullable = true)\n",
            " |-- ingredients_that_may_be_from_palm_oil_n: integer (nullable = true)\n",
            " |-- ingredients_that_may_be_from_palm_oil: string (nullable = true)\n",
            " |-- ingredients_that_may_be_from_palm_oil_tags: string (nullable = true)\n",
            " |-- nutrition_grade_uk: string (nullable = true)\n",
            " |-- nutrition_grade_fr: string (nullable = true)\n",
            " |-- pnns_groups_1: string (nullable = true)\n",
            " |-- pnns_groups_2: string (nullable = true)\n",
            " |-- states: string (nullable = true)\n",
            " |-- states_tags: string (nullable = true)\n",
            " |-- states_en: string (nullable = true)\n",
            " |-- main_category: string (nullable = true)\n",
            " |-- main_category_en: string (nullable = true)\n",
            " |-- image_url: string (nullable = true)\n",
            " |-- image_small_url: string (nullable = true)\n",
            " |-- energy_100g: double (nullable = true)\n",
            " |-- energy-from-fat_100g: double (nullable = true)\n",
            " |-- fat_100g: double (nullable = true)\n",
            " |-- saturated-fat_100g: double (nullable = true)\n",
            " |-- -butyric-acid_100g: string (nullable = true)\n",
            " |-- -caproic-acid_100g: string (nullable = true)\n",
            " |-- -caprylic-acid_100g: double (nullable = true)\n",
            " |-- -capric-acid_100g: double (nullable = true)\n",
            " |-- -lauric-acid_100g: double (nullable = true)\n",
            " |-- -myristic-acid_100g: double (nullable = true)\n",
            " |-- -palmitic-acid_100g: double (nullable = true)\n",
            " |-- -stearic-acid_100g: integer (nullable = true)\n",
            " |-- -arachidic-acid_100g: double (nullable = true)\n",
            " |-- -behenic-acid_100g: double (nullable = true)\n",
            " |-- -lignoceric-acid_100g: string (nullable = true)\n",
            " |-- -cerotic-acid_100g: string (nullable = true)\n",
            " |-- -montanic-acid_100g: integer (nullable = true)\n",
            " |-- -melissic-acid_100g: string (nullable = true)\n",
            " |-- monounsaturated-fat_100g: double (nullable = true)\n",
            " |-- polyunsaturated-fat_100g: double (nullable = true)\n",
            " |-- omega-3-fat_100g: double (nullable = true)\n",
            " |-- -alpha-linolenic-acid_100g: double (nullable = true)\n",
            " |-- -eicosapentaenoic-acid_100g: double (nullable = true)\n",
            " |-- -docosahexaenoic-acid_100g: double (nullable = true)\n",
            " |-- omega-6-fat_100g: double (nullable = true)\n",
            " |-- -linoleic-acid_100g: double (nullable = true)\n",
            " |-- -arachidonic-acid_100g: double (nullable = true)\n",
            " |-- -gamma-linolenic-acid_100g: double (nullable = true)\n",
            " |-- -dihomo-gamma-linolenic-acid_100g: double (nullable = true)\n",
            " |-- omega-9-fat_100g: double (nullable = true)\n",
            " |-- -oleic-acid_100g: double (nullable = true)\n",
            " |-- -elaidic-acid_100g: string (nullable = true)\n",
            " |-- -gondoic-acid_100g: double (nullable = true)\n",
            " |-- -mead-acid_100g: string (nullable = true)\n",
            " |-- -erucic-acid_100g: string (nullable = true)\n",
            " |-- -nervonic-acid_100g: string (nullable = true)\n",
            " |-- trans-fat_100g: double (nullable = true)\n",
            " |-- cholesterol_100g: double (nullable = true)\n",
            " |-- carbohydrates_100g: double (nullable = true)\n",
            " |-- sugars_100g: double (nullable = true)\n",
            " |-- -sucrose_100g: double (nullable = true)\n",
            " |-- -glucose_100g: double (nullable = true)\n",
            " |-- -fructose_100g: double (nullable = true)\n",
            " |-- -lactose_100g: double (nullable = true)\n",
            " |-- -maltose_100g: double (nullable = true)\n",
            " |-- -maltodextrins_100g: double (nullable = true)\n",
            " |-- starch_100g: double (nullable = true)\n",
            " |-- polyols_100g: double (nullable = true)\n",
            " |-- fiber_100g: double (nullable = true)\n",
            " |-- proteins_100g: double (nullable = true)\n",
            " |-- casein_100g: double (nullable = true)\n",
            " |-- serum-proteins_100g: double (nullable = true)\n",
            " |-- nucleotides_100g: double (nullable = true)\n",
            " |-- salt_100g: double (nullable = true)\n",
            " |-- sodium_100g: double (nullable = true)\n",
            " |-- alcohol_100g: double (nullable = true)\n",
            " |-- vitamin-a_100g: double (nullable = true)\n",
            " |-- beta-carotene_100g: double (nullable = true)\n",
            " |-- vitamin-d_100g: double (nullable = true)\n",
            " |-- vitamin-e_100g: double (nullable = true)\n",
            " |-- vitamin-k_100g: double (nullable = true)\n",
            " |-- vitamin-c_100g: double (nullable = true)\n",
            " |-- vitamin-b1_100g: double (nullable = true)\n",
            " |-- vitamin-b2_100g: double (nullable = true)\n",
            " |-- vitamin-pp_100g: double (nullable = true)\n",
            " |-- vitamin-b6_100g: double (nullable = true)\n",
            " |-- vitamin-b9_100g: double (nullable = true)\n",
            " |-- folates_100g: double (nullable = true)\n",
            " |-- vitamin-b12_100g: double (nullable = true)\n",
            " |-- biotin_100g: double (nullable = true)\n",
            " |-- pantothenic-acid_100g: double (nullable = true)\n",
            " |-- silica_100g: double (nullable = true)\n",
            " |-- bicarbonate_100g: double (nullable = true)\n",
            " |-- potassium_100g: double (nullable = true)\n",
            " |-- chloride_100g: double (nullable = true)\n",
            " |-- calcium_100g: double (nullable = true)\n",
            " |-- phosphorus_100g: double (nullable = true)\n",
            " |-- iron_100g: double (nullable = true)\n",
            " |-- magnesium_100g: double (nullable = true)\n",
            " |-- zinc_100g: double (nullable = true)\n",
            " |-- copper_100g: double (nullable = true)\n",
            " |-- manganese_100g: double (nullable = true)\n",
            " |-- fluoride_100g: double (nullable = true)\n",
            " |-- selenium_100g: double (nullable = true)\n",
            " |-- chromium_100g: double (nullable = true)\n",
            " |-- molybdenum_100g: double (nullable = true)\n",
            " |-- iodine_100g: double (nullable = true)\n",
            " |-- caffeine_100g: double (nullable = true)\n",
            " |-- taurine_100g: double (nullable = true)\n",
            " |-- ph_100g: double (nullable = true)\n",
            " |-- fruits-vegetables-nuts_100g: double (nullable = true)\n",
            " |-- fruits-vegetables-nuts-estimate_100g: double (nullable = true)\n",
            " |-- collagen-meat-protein-ratio_100g: integer (nullable = true)\n",
            " |-- cocoa_100g: double (nullable = true)\n",
            " |-- chlorophyl_100g: string (nullable = true)\n",
            " |-- carbon-footprint_100g: double (nullable = true)\n",
            " |-- nutrition-score-fr_100g: integer (nullable = true)\n",
            " |-- nutrition-score-uk_100g: integer (nullable = true)\n",
            " |-- glycemic-index_100g: string (nullable = true)\n",
            " |-- water-hardness_100g: string (nullable = true)\n",
            "\n"
          ]
        }
      ],
      "source": [
        "from pyspark.sql import SparkSession, functions as f\n",
        "\n",
        "spark = SparkSession.Builder().appName(\"exercise3\").getOrCreate()\n",
        "\n",
        "df = spark.read.csv(\"/content/en.openfoodfacts.org.products.tsv\", sep = '\\t', header = True, inferSchema=True)\n",
        "\n",
        "df.printSchema()"
      ]
    },
    {
      "cell_type": "markdown",
      "metadata": {
        "id": "jCtG_nQmaNN8"
      },
      "source": [
        "### Step 4. See the first 5 entries"
      ]
    },
    {
      "cell_type": "code",
      "execution_count": 41,
      "metadata": {
        "collapsed": true,
        "id": "sEeGlzUmaNN9",
        "outputId": "a5f75e42-d70c-40a3-b82c-6560136b2d2b",
        "colab": {
          "base_uri": "https://localhost:8080/"
        }
      },
      "outputs": [
        {
          "output_type": "stream",
          "name": "stdout",
          "text": [
            "+-------+--------------------+--------------------+----------+--------------------+---------------+----------------------+--------------------+------------+--------+---------+--------------+---------------+---------------+----------+---------------+-------------+-------+------------+--------------------+-------------------------+------+-----------+---------+---------+--------------+------------------------+------+-----------+---------------+------+---------+----------------+-------------+--------------------+---------+------------+------+-----------+---------+---------------+-------------+-----------+--------------------+--------------+------------+---------------------------+-------------------------+------------------------------+---------------------------------------+-------------------------------------+------------------------------------------+------------------+------------------+-------------+-------------+--------------------+--------------------+--------------------+-------------+----------------+---------+---------------+-----------+--------------------+--------+------------------+------------------+------------------+-------------------+-----------------+-----------------+-------------------+-------------------+------------------+--------------------+------------------+---------------------+------------------+-------------------+-------------------+------------------------+------------------------+----------------+--------------------------+---------------------------+--------------------------+----------------+-------------------+----------------------+--------------------------+---------------------------------+----------------+----------------+------------------+------------------+---------------+-----------------+-------------------+--------------+----------------+------------------+-----------+-------------+-------------+--------------+-------------+-------------+-------------------+-----------+------------+----------+-------------+-----------+-------------------+----------------+---------+-----------+------------+--------------+------------------+--------------+--------------+--------------+--------------+---------------+---------------+---------------+---------------+---------------+------------+----------------+-----------+---------------------+-----------+----------------+--------------+-------------+------------+---------------+---------+--------------+---------+-----------+--------------+-------------+-------------+-------------+---------------+-----------+-------------+------------+-------+---------------------------+------------------------------------+--------------------------------+----------+---------------+---------------------+-----------------------+-----------------------+-------------------+-------------------+\n",
            "|   code|                 url|             creator| created_t|    created_datetime|last_modified_t|last_modified_datetime|        product_name|generic_name|quantity|packaging|packaging_tags|         brands|    brands_tags|categories|categories_tags|categories_en|origins|origins_tags|manufacturing_places|manufacturing_places_tags|labels|labels_tags|labels_en|emb_codes|emb_codes_tags|first_packaging_code_geo|cities|cities_tags|purchase_places|stores|countries|  countries_tags| countries_en|    ingredients_text|allergens|allergens_en|traces|traces_tags|traces_en|   serving_size|no_nutriments|additives_n|           additives|additives_tags|additives_en|ingredients_from_palm_oil_n|ingredients_from_palm_oil|ingredients_from_palm_oil_tags|ingredients_that_may_be_from_palm_oil_n|ingredients_that_may_be_from_palm_oil|ingredients_that_may_be_from_palm_oil_tags|nutrition_grade_uk|nutrition_grade_fr|pnns_groups_1|pnns_groups_2|              states|         states_tags|           states_en|main_category|main_category_en|image_url|image_small_url|energy_100g|energy-from-fat_100g|fat_100g|saturated-fat_100g|-butyric-acid_100g|-caproic-acid_100g|-caprylic-acid_100g|-capric-acid_100g|-lauric-acid_100g|-myristic-acid_100g|-palmitic-acid_100g|-stearic-acid_100g|-arachidic-acid_100g|-behenic-acid_100g|-lignoceric-acid_100g|-cerotic-acid_100g|-montanic-acid_100g|-melissic-acid_100g|monounsaturated-fat_100g|polyunsaturated-fat_100g|omega-3-fat_100g|-alpha-linolenic-acid_100g|-eicosapentaenoic-acid_100g|-docosahexaenoic-acid_100g|omega-6-fat_100g|-linoleic-acid_100g|-arachidonic-acid_100g|-gamma-linolenic-acid_100g|-dihomo-gamma-linolenic-acid_100g|omega-9-fat_100g|-oleic-acid_100g|-elaidic-acid_100g|-gondoic-acid_100g|-mead-acid_100g|-erucic-acid_100g|-nervonic-acid_100g|trans-fat_100g|cholesterol_100g|carbohydrates_100g|sugars_100g|-sucrose_100g|-glucose_100g|-fructose_100g|-lactose_100g|-maltose_100g|-maltodextrins_100g|starch_100g|polyols_100g|fiber_100g|proteins_100g|casein_100g|serum-proteins_100g|nucleotides_100g|salt_100g|sodium_100g|alcohol_100g|vitamin-a_100g|beta-carotene_100g|vitamin-d_100g|vitamin-e_100g|vitamin-k_100g|vitamin-c_100g|vitamin-b1_100g|vitamin-b2_100g|vitamin-pp_100g|vitamin-b6_100g|vitamin-b9_100g|folates_100g|vitamin-b12_100g|biotin_100g|pantothenic-acid_100g|silica_100g|bicarbonate_100g|potassium_100g|chloride_100g|calcium_100g|phosphorus_100g|iron_100g|magnesium_100g|zinc_100g|copper_100g|manganese_100g|fluoride_100g|selenium_100g|chromium_100g|molybdenum_100g|iodine_100g|caffeine_100g|taurine_100g|ph_100g|fruits-vegetables-nuts_100g|fruits-vegetables-nuts-estimate_100g|collagen-meat-protein-ratio_100g|cocoa_100g|chlorophyl_100g|carbon-footprint_100g|nutrition-score-fr_100g|nutrition-score-uk_100g|glycemic-index_100g|water-hardness_100g|\n",
            "+-------+--------------------+--------------------+----------+--------------------+---------------+----------------------+--------------------+------------+--------+---------+--------------+---------------+---------------+----------+---------------+-------------+-------+------------+--------------------+-------------------------+------+-----------+---------+---------+--------------+------------------------+------+-----------+---------------+------+---------+----------------+-------------+--------------------+---------+------------+------+-----------+---------+---------------+-------------+-----------+--------------------+--------------+------------+---------------------------+-------------------------+------------------------------+---------------------------------------+-------------------------------------+------------------------------------------+------------------+------------------+-------------+-------------+--------------------+--------------------+--------------------+-------------+----------------+---------+---------------+-----------+--------------------+--------+------------------+------------------+------------------+-------------------+-----------------+-----------------+-------------------+-------------------+------------------+--------------------+------------------+---------------------+------------------+-------------------+-------------------+------------------------+------------------------+----------------+--------------------------+---------------------------+--------------------------+----------------+-------------------+----------------------+--------------------------+---------------------------------+----------------+----------------+------------------+------------------+---------------+-----------------+-------------------+--------------+----------------+------------------+-----------+-------------+-------------+--------------+-------------+-------------+-------------------+-----------+------------+----------+-------------+-----------+-------------------+----------------+---------+-----------+------------+--------------+------------------+--------------+--------------+--------------+--------------+---------------+---------------+---------------+---------------+---------------+------------+----------------+-----------+---------------------+-----------+----------------+--------------+-------------+------------+---------------+---------+--------------+---------+-----------+--------------+-------------+-------------+-------------+---------------+-----------+-------------+------------+-------+---------------------------+------------------------------------+--------------------------------+----------+---------------+---------------------+-----------------------+-----------------------+-------------------+-------------------+\n",
            "| 3087.0|http://world-en.o...|openfoodfacts-con...|1474103866|2016-09-17T09:17:46Z|     1474103893|  2016-09-17T09:18:13Z|  Farine de blé noir|        null|     1kg|     null|          null|Ferme t'y R'nao|ferme-t-y-r-nao|      null|           null|         null|   null|        null|                null|                     null|  null|       null|     null|     null|          null|                    null|  null|       null|           null|  null|    en:FR|       en:france|       France|                null|     null|        null|  null|       null|     null|           null|         null|       null|                null|          null|        null|                       null|                     null|                          null|                                   null|                                 null|                                      null|              null|              null|         null|         null|en:to-be-complete...|en:to-be-complete...|To be completed,N...|         null|            null|     null|           null|       null|                null|    null|              null|              null|              null|               null|             null|             null|               null|               null|              null|                null|              null|                 null|              null|               null|               null|                    null|                    null|            null|                      null|                       null|                      null|            null|               null|                  null|                      null|                             null|            null|            null|              null|              null|           null|             null|               null|          null|            null|              null|       null|         null|         null|          null|         null|         null|               null|       null|        null|      null|         null|       null|               null|            null|     null|       null|        null|          null|              null|          null|          null|          null|          null|           null|           null|           null|           null|           null|        null|            null|       null|                 null|       null|            null|          null|         null|        null|           null|     null|          null|     null|       null|          null|         null|         null|         null|           null|       null|         null|        null|   null|                       null|                                null|                            null|      null|           null|                 null|                   null|                   null|               null|               null|\n",
            "| 4530.0|http://world-en.o...|     usda-ndb-import|1489069957|2017-03-09T14:32:37Z|     1489069957|  2017-03-09T14:32:37Z|Banana Chips Swee...|        null|    null|     null|          null|           null|           null|      null|           null|         null|   null|        null|                null|                     null|  null|       null|     null|     null|          null|                    null|  null|       null|           null|  null|       US|en:united-states|United States|Bananas, vegetabl...|     null|        null|  null|       null|     null|   28 g (1 ONZ)|         null|          0| [ bananas -> en:...|          null|        null|                          0|                     null|                          null|                                      0|                                 null|                                      null|              null|                 d|         null|         null|en:to-be-complete...|en:to-be-complete...|To be completed,N...|         null|            null|     null|           null|     2243.0|                null|   28.57|             28.57|              null|              null|               null|             null|             null|               null|               null|              null|                null|              null|                 null|              null|               null|               null|                    null|                    null|            null|                      null|                       null|                      null|            null|               null|                  null|                      null|                             null|            null|            null|              null|              null|           null|             null|               null|           0.0|           0.018|             64.29|      14.29|         null|         null|          null|         null|         null|               null|       null|        null|       3.6|         3.57|       null|               null|            null|      0.0|        0.0|        null|           0.0|              null|          null|          null|          null|        0.0214|           null|           null|           null|           null|           null|        null|            null|       null|                 null|       null|            null|          null|         null|         0.0|           null|  0.00129|          null|     null|       null|          null|         null|         null|         null|           null|       null|         null|        null|   null|                       null|                                null|                            null|      null|           null|                 null|                     14|                     14|               null|               null|\n",
            "| 4559.0|http://world-en.o...|     usda-ndb-import|1489069957|2017-03-09T14:32:37Z|     1489069957|  2017-03-09T14:32:37Z|             Peanuts|        null|    null|     null|          null| Torn & Glasser|   torn-glasser|      null|           null|         null|   null|        null|                null|                     null|  null|       null|     null|     null|          null|                    null|  null|       null|           null|  null|       US|en:united-states|United States|Peanuts, wheat fl...|     null|        null|  null|       null|     null|28 g (0.25 cup)|         null|          0| [ peanuts -> en:...|          null|        null|                          0|                     null|                          null|                                      0|                                 null|                                      null|              null|                 b|         null|         null|en:to-be-complete...|en:to-be-complete...|To be completed,N...|         null|            null|     null|           null|     1941.0|                null|   17.86|               0.0|              null|              null|               null|             null|             null|               null|               null|              null|                null|              null|                 null|              null|               null|               null|                    null|                    null|            null|                      null|                       null|                      null|            null|               null|                  null|                      null|                             null|            null|            null|              null|              null|           null|             null|               null|           0.0|             0.0|             60.71|      17.86|         null|         null|          null|         null|         null|               null|       null|        null|       7.1|        17.86|       null|               null|            null|    0.635|       0.25|        null|           0.0|              null|          null|          null|          null|           0.0|           null|           null|           null|           null|           null|        null|            null|       null|                 null|       null|            null|          null|         null|       0.071|           null|  0.00129|          null|     null|       null|          null|         null|         null|         null|           null|       null|         null|        null|   null|                       null|                                null|                            null|      null|           null|                 null|                      0|                      0|               null|               null|\n",
            "|16087.0|http://world-en.o...|     usda-ndb-import|1489055731|2017-03-09T10:35:31Z|     1489055731|  2017-03-09T10:35:31Z|Organic Salted Nu...|        null|    null|     null|          null|      Grizzlies|      grizzlies|      null|           null|         null|   null|        null|                null|                     null|  null|       null|     null|     null|          null|                    null|  null|       null|           null|  null|       US|en:united-states|United States|Organic hazelnuts...|     null|        null|  null|       null|     null|28 g (0.25 cup)|         null|          0| [ organic-hazeln...|          null|        null|                          0|                     null|                          null|                                      0|                                 null|                                      null|              null|                 d|         null|         null|en:to-be-complete...|en:to-be-complete...|To be completed,N...|         null|            null|     null|           null|     2540.0|                null|   57.14|              5.36|              null|              null|               null|             null|             null|               null|               null|              null|                null|              null|                 null|              null|               null|               null|                    null|                    null|            null|                      null|                       null|                      null|            null|               null|                  null|                      null|                             null|            null|            null|              null|              null|           null|             null|               null|          null|            null|             17.86|       3.57|         null|         null|          null|         null|         null|               null|       null|        null|       7.1|        17.86|       null|               null|            null|  1.22428|      0.482|        null|          null|              null|          null|          null|          null|          null|           null|           null|           null|           null|           null|        null|            null|       null|                 null|       null|            null|          null|         null|       0.143|           null|  0.00514|          null|     null|       null|          null|         null|         null|         null|           null|       null|         null|        null|   null|                       null|                                null|                            null|      null|           null|                 null|                     12|                     12|               null|               null|\n",
            "|16094.0|http://world-en.o...|     usda-ndb-import|1489055653|2017-03-09T10:34:13Z|     1489055653|  2017-03-09T10:34:13Z|     Organic Polenta|        null|    null|     null|          null| Bob's Red Mill| bob-s-red-mill|      null|           null|         null|   null|        null|                null|                     null|  null|       null|     null|     null|          null|                    null|  null|       null|           null|  null|       US|en:united-states|United States|     Organic polenta|     null|        null|  null|       null|     null|35 g (0.25 cup)|         null|          0| [ organic-polent...|          null|        null|                          0|                     null|                          null|                                      0|                                 null|                                      null|              null|              null|         null|         null|en:to-be-complete...|en:to-be-complete...|To be completed,N...|         null|            null|     null|           null|     1552.0|                null|    1.43|              null|              null|              null|               null|             null|             null|               null|               null|              null|                null|              null|                 null|              null|               null|               null|                    null|                    null|            null|                      null|                       null|                      null|            null|               null|                  null|                      null|                             null|            null|            null|              null|              null|           null|             null|               null|          null|            null|             77.14|       null|         null|         null|          null|         null|         null|               null|       null|        null|       5.7|         8.57|       null|               null|            null|     null|       null|        null|          null|              null|          null|          null|          null|          null|           null|           null|           null|           null|           null|        null|            null|       null|                 null|       null|            null|          null|         null|        null|           null|     null|          null|     null|       null|          null|         null|         null|         null|           null|       null|         null|        null|   null|                       null|                                null|                            null|      null|           null|                 null|                   null|                   null|               null|               null|\n",
            "+-------+--------------------+--------------------+----------+--------------------+---------------+----------------------+--------------------+------------+--------+---------+--------------+---------------+---------------+----------+---------------+-------------+-------+------------+--------------------+-------------------------+------+-----------+---------+---------+--------------+------------------------+------+-----------+---------------+------+---------+----------------+-------------+--------------------+---------+------------+------+-----------+---------+---------------+-------------+-----------+--------------------+--------------+------------+---------------------------+-------------------------+------------------------------+---------------------------------------+-------------------------------------+------------------------------------------+------------------+------------------+-------------+-------------+--------------------+--------------------+--------------------+-------------+----------------+---------+---------------+-----------+--------------------+--------+------------------+------------------+------------------+-------------------+-----------------+-----------------+-------------------+-------------------+------------------+--------------------+------------------+---------------------+------------------+-------------------+-------------------+------------------------+------------------------+----------------+--------------------------+---------------------------+--------------------------+----------------+-------------------+----------------------+--------------------------+---------------------------------+----------------+----------------+------------------+------------------+---------------+-----------------+-------------------+--------------+----------------+------------------+-----------+-------------+-------------+--------------+-------------+-------------+-------------------+-----------+------------+----------+-------------+-----------+-------------------+----------------+---------+-----------+------------+--------------+------------------+--------------+--------------+--------------+--------------+---------------+---------------+---------------+---------------+---------------+------------+----------------+-----------+---------------------+-----------+----------------+--------------+-------------+------------+---------------+---------+--------------+---------+-----------+--------------+-------------+-------------+-------------+---------------+-----------+-------------+------------+-------+---------------------------+------------------------------------+--------------------------------+----------+---------------+---------------------+-----------------------+-----------------------+-------------------+-------------------+\n",
            "\n"
          ]
        }
      ],
      "source": [
        "df.select(\"*\").limit(5).show()"
      ]
    },
    {
      "cell_type": "markdown",
      "metadata": {
        "id": "mNfjJg5RaNN-"
      },
      "source": [
        "### Step 5. What is the number of observations in the dataset?"
      ]
    },
    {
      "cell_type": "code",
      "execution_count": 42,
      "metadata": {
        "collapsed": true,
        "id": "Tan4XljOaNN_",
        "outputId": "7f500fc8-a58e-4fc9-dccd-cc09c9367a04",
        "colab": {
          "base_uri": "https://localhost:8080/"
        }
      },
      "outputs": [
        {
          "output_type": "execute_result",
          "data": {
            "text/plain": [
              "356027"
            ]
          },
          "metadata": {},
          "execution_count": 42
        }
      ],
      "source": [
        "df.count()"
      ]
    },
    {
      "cell_type": "markdown",
      "metadata": {
        "id": "uduRoXk-aNOA"
      },
      "source": [
        "### Step 6. What is the number of columns in the dataset?"
      ]
    },
    {
      "cell_type": "code",
      "execution_count": 44,
      "metadata": {
        "collapsed": true,
        "id": "CDjTiSh9aNOC",
        "outputId": "87afb1bd-9a4f-43d2-fcf2-b4c6b3ea8596",
        "colab": {
          "base_uri": "https://localhost:8080/"
        }
      },
      "outputs": [
        {
          "output_type": "execute_result",
          "data": {
            "text/plain": [
              "163"
            ]
          },
          "metadata": {},
          "execution_count": 44
        }
      ],
      "source": [
        "len(df.columns)"
      ]
    },
    {
      "cell_type": "markdown",
      "metadata": {
        "id": "q4ogAEYdaNOD"
      },
      "source": [
        "### Step 7. Print the name of all the columns."
      ]
    },
    {
      "cell_type": "code",
      "execution_count": 45,
      "metadata": {
        "collapsed": true,
        "id": "lWneikM3aNOF",
        "outputId": "7f339614-1d5c-4be2-da31-ccf4cf981c5a",
        "colab": {
          "base_uri": "https://localhost:8080/"
        }
      },
      "outputs": [
        {
          "output_type": "execute_result",
          "data": {
            "text/plain": [
              "['code',\n",
              " 'url',\n",
              " 'creator',\n",
              " 'created_t',\n",
              " 'created_datetime',\n",
              " 'last_modified_t',\n",
              " 'last_modified_datetime',\n",
              " 'product_name',\n",
              " 'generic_name',\n",
              " 'quantity',\n",
              " 'packaging',\n",
              " 'packaging_tags',\n",
              " 'brands',\n",
              " 'brands_tags',\n",
              " 'categories',\n",
              " 'categories_tags',\n",
              " 'categories_en',\n",
              " 'origins',\n",
              " 'origins_tags',\n",
              " 'manufacturing_places',\n",
              " 'manufacturing_places_tags',\n",
              " 'labels',\n",
              " 'labels_tags',\n",
              " 'labels_en',\n",
              " 'emb_codes',\n",
              " 'emb_codes_tags',\n",
              " 'first_packaging_code_geo',\n",
              " 'cities',\n",
              " 'cities_tags',\n",
              " 'purchase_places',\n",
              " 'stores',\n",
              " 'countries',\n",
              " 'countries_tags',\n",
              " 'countries_en',\n",
              " 'ingredients_text',\n",
              " 'allergens',\n",
              " 'allergens_en',\n",
              " 'traces',\n",
              " 'traces_tags',\n",
              " 'traces_en',\n",
              " 'serving_size',\n",
              " 'no_nutriments',\n",
              " 'additives_n',\n",
              " 'additives',\n",
              " 'additives_tags',\n",
              " 'additives_en',\n",
              " 'ingredients_from_palm_oil_n',\n",
              " 'ingredients_from_palm_oil',\n",
              " 'ingredients_from_palm_oil_tags',\n",
              " 'ingredients_that_may_be_from_palm_oil_n',\n",
              " 'ingredients_that_may_be_from_palm_oil',\n",
              " 'ingredients_that_may_be_from_palm_oil_tags',\n",
              " 'nutrition_grade_uk',\n",
              " 'nutrition_grade_fr',\n",
              " 'pnns_groups_1',\n",
              " 'pnns_groups_2',\n",
              " 'states',\n",
              " 'states_tags',\n",
              " 'states_en',\n",
              " 'main_category',\n",
              " 'main_category_en',\n",
              " 'image_url',\n",
              " 'image_small_url',\n",
              " 'energy_100g',\n",
              " 'energy-from-fat_100g',\n",
              " 'fat_100g',\n",
              " 'saturated-fat_100g',\n",
              " '-butyric-acid_100g',\n",
              " '-caproic-acid_100g',\n",
              " '-caprylic-acid_100g',\n",
              " '-capric-acid_100g',\n",
              " '-lauric-acid_100g',\n",
              " '-myristic-acid_100g',\n",
              " '-palmitic-acid_100g',\n",
              " '-stearic-acid_100g',\n",
              " '-arachidic-acid_100g',\n",
              " '-behenic-acid_100g',\n",
              " '-lignoceric-acid_100g',\n",
              " '-cerotic-acid_100g',\n",
              " '-montanic-acid_100g',\n",
              " '-melissic-acid_100g',\n",
              " 'monounsaturated-fat_100g',\n",
              " 'polyunsaturated-fat_100g',\n",
              " 'omega-3-fat_100g',\n",
              " '-alpha-linolenic-acid_100g',\n",
              " '-eicosapentaenoic-acid_100g',\n",
              " '-docosahexaenoic-acid_100g',\n",
              " 'omega-6-fat_100g',\n",
              " '-linoleic-acid_100g',\n",
              " '-arachidonic-acid_100g',\n",
              " '-gamma-linolenic-acid_100g',\n",
              " '-dihomo-gamma-linolenic-acid_100g',\n",
              " 'omega-9-fat_100g',\n",
              " '-oleic-acid_100g',\n",
              " '-elaidic-acid_100g',\n",
              " '-gondoic-acid_100g',\n",
              " '-mead-acid_100g',\n",
              " '-erucic-acid_100g',\n",
              " '-nervonic-acid_100g',\n",
              " 'trans-fat_100g',\n",
              " 'cholesterol_100g',\n",
              " 'carbohydrates_100g',\n",
              " 'sugars_100g',\n",
              " '-sucrose_100g',\n",
              " '-glucose_100g',\n",
              " '-fructose_100g',\n",
              " '-lactose_100g',\n",
              " '-maltose_100g',\n",
              " '-maltodextrins_100g',\n",
              " 'starch_100g',\n",
              " 'polyols_100g',\n",
              " 'fiber_100g',\n",
              " 'proteins_100g',\n",
              " 'casein_100g',\n",
              " 'serum-proteins_100g',\n",
              " 'nucleotides_100g',\n",
              " 'salt_100g',\n",
              " 'sodium_100g',\n",
              " 'alcohol_100g',\n",
              " 'vitamin-a_100g',\n",
              " 'beta-carotene_100g',\n",
              " 'vitamin-d_100g',\n",
              " 'vitamin-e_100g',\n",
              " 'vitamin-k_100g',\n",
              " 'vitamin-c_100g',\n",
              " 'vitamin-b1_100g',\n",
              " 'vitamin-b2_100g',\n",
              " 'vitamin-pp_100g',\n",
              " 'vitamin-b6_100g',\n",
              " 'vitamin-b9_100g',\n",
              " 'folates_100g',\n",
              " 'vitamin-b12_100g',\n",
              " 'biotin_100g',\n",
              " 'pantothenic-acid_100g',\n",
              " 'silica_100g',\n",
              " 'bicarbonate_100g',\n",
              " 'potassium_100g',\n",
              " 'chloride_100g',\n",
              " 'calcium_100g',\n",
              " 'phosphorus_100g',\n",
              " 'iron_100g',\n",
              " 'magnesium_100g',\n",
              " 'zinc_100g',\n",
              " 'copper_100g',\n",
              " 'manganese_100g',\n",
              " 'fluoride_100g',\n",
              " 'selenium_100g',\n",
              " 'chromium_100g',\n",
              " 'molybdenum_100g',\n",
              " 'iodine_100g',\n",
              " 'caffeine_100g',\n",
              " 'taurine_100g',\n",
              " 'ph_100g',\n",
              " 'fruits-vegetables-nuts_100g',\n",
              " 'fruits-vegetables-nuts-estimate_100g',\n",
              " 'collagen-meat-protein-ratio_100g',\n",
              " 'cocoa_100g',\n",
              " 'chlorophyl_100g',\n",
              " 'carbon-footprint_100g',\n",
              " 'nutrition-score-fr_100g',\n",
              " 'nutrition-score-uk_100g',\n",
              " 'glycemic-index_100g',\n",
              " 'water-hardness_100g']"
            ]
          },
          "metadata": {},
          "execution_count": 45
        }
      ],
      "source": [
        "df.columns"
      ]
    },
    {
      "cell_type": "markdown",
      "metadata": {
        "id": "bKgeRV3waNOH"
      },
      "source": [
        "### Step 8. What is the name of 105th column?"
      ]
    },
    {
      "cell_type": "code",
      "execution_count": 46,
      "metadata": {
        "collapsed": true,
        "id": "Cgiws1ZpaNOJ",
        "outputId": "93d0990c-0501-4f52-e19f-2564186bbbae",
        "colab": {
          "base_uri": "https://localhost:8080/",
          "height": 35
        }
      },
      "outputs": [
        {
          "output_type": "execute_result",
          "data": {
            "text/plain": [
              "'-glucose_100g'"
            ],
            "application/vnd.google.colaboratory.intrinsic+json": {
              "type": "string"
            }
          },
          "metadata": {},
          "execution_count": 46
        }
      ],
      "source": [
        "df.columns[104]"
      ]
    },
    {
      "cell_type": "markdown",
      "metadata": {
        "id": "ocNmMIzbaNOJ"
      },
      "source": [
        "### Step 9. What is the type of the observations of the 105th column?"
      ]
    },
    {
      "cell_type": "code",
      "execution_count": 47,
      "metadata": {
        "collapsed": true,
        "id": "ECLh__QjaNOK",
        "outputId": "711a16d1-00cd-4a06-913b-9a9dfefb5c85",
        "colab": {
          "base_uri": "https://localhost:8080/"
        }
      },
      "outputs": [
        {
          "output_type": "execute_result",
          "data": {
            "text/plain": [
              "DataFrame[-glucose_100g: double]"
            ]
          },
          "metadata": {},
          "execution_count": 47
        }
      ],
      "source": [
        "df.select(df.columns[104])"
      ]
    },
    {
      "cell_type": "markdown",
      "metadata": {
        "id": "aaMu7x1yaNOK"
      },
      "source": [
        "### Step 10. How is the dataset indexed?"
      ]
    },
    {
      "cell_type": "code",
      "execution_count": null,
      "metadata": {
        "collapsed": true,
        "id": "SLmT0pwKaNOL"
      },
      "outputs": [],
      "source": []
    },
    {
      "cell_type": "markdown",
      "metadata": {
        "id": "9VQgYzKfaNOL"
      },
      "source": [
        "### Step 11. What is the product name of the 19th observation?"
      ]
    },
    {
      "cell_type": "code",
      "execution_count": 60,
      "metadata": {
        "collapsed": true,
        "id": "FnvZ5KUfaNOM",
        "outputId": "5cc289eb-0cb4-4f7b-fe63-e09ce7640894",
        "colab": {
          "base_uri": "https://localhost:8080/"
        }
      },
      "outputs": [
        {
          "output_type": "execute_result",
          "data": {
            "text/plain": [
              "[Row(product_name='Organic Sweetened Banana Chips')]"
            ]
          },
          "metadata": {},
          "execution_count": 60
        }
      ],
      "source": [
        "df.select(\"product_name\").limit(18).tail(1)"
      ]
    }
  ],
  "metadata": {
    "anaconda-cloud": {},
    "kernelspec": {
      "display_name": "Python [default]",
      "language": "python",
      "name": "python2"
    },
    "language_info": {
      "codemirror_mode": {
        "name": "ipython",
        "version": 2
      },
      "file_extension": ".py",
      "mimetype": "text/x-python",
      "name": "python",
      "nbconvert_exporter": "python",
      "pygments_lexer": "ipython2",
      "version": "2.7.12"
    },
    "colab": {
      "provenance": []
    }
  },
  "nbformat": 4,
  "nbformat_minor": 0
}